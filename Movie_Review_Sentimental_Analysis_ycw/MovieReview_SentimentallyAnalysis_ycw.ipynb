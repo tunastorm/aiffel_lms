{
 "cells": [
  {
   "cell_type": "code",
   "execution_count": 5,
   "id": "quantitative-treaty",
   "metadata": {},
   "outputs": [
    {
     "name": "stdout",
     "output_type": "stream",
     "text": [
      "2.4.1\n",
      "Downloading data from https://storage.googleapis.com/tensorflow/tf-keras-datasets/imdb.npz\n",
      "17465344/17464789 [==============================] - 0s 0us/step\n"
     ]
    },
    {
     "name": "stderr",
     "output_type": "stream",
     "text": [
      "<string>:6: VisibleDeprecationWarning: Creating an ndarray from ragged nested sequences (which is a list-or-tuple of lists-or-tuples-or ndarrays with different lengths or shapes) is deprecated. If you meant to do this, you must specify 'dtype=object' when creating the ndarray\n",
      "/opt/conda/lib/python3.7/site-packages/tensorflow/python/keras/datasets/imdb.py:159: VisibleDeprecationWarning: Creating an ndarray from ragged nested sequences (which is a list-or-tuple of lists-or-tuples-or ndarrays with different lengths or shapes) is deprecated. If you meant to do this, you must specify 'dtype=object' when creating the ndarray\n",
      "  x_train, y_train = np.array(xs[:idx]), np.array(labels[:idx])\n"
     ]
    },
    {
     "name": "stdout",
     "output_type": "stream",
     "text": [
      "훈련 샘플 개수: 25000, 테스트 개수: 25000\n"
     ]
    },
    {
     "name": "stderr",
     "output_type": "stream",
     "text": [
      "/opt/conda/lib/python3.7/site-packages/tensorflow/python/keras/datasets/imdb.py:160: VisibleDeprecationWarning: Creating an ndarray from ragged nested sequences (which is a list-or-tuple of lists-or-tuples-or ndarrays with different lengths or shapes) is deprecated. If you meant to do this, you must specify 'dtype=object' when creating the ndarray\n",
      "  x_test, y_test = np.array(xs[idx:]), np.array(labels[idx:])\n"
     ]
    }
   ],
   "source": [
    "import tensorflow as tf\n",
    "from tensorflow import keras\n",
    "import numpy as np\n",
    "\n",
    "print(tf.__version__)\n",
    "imdb = keras.datasets.imdb\n",
    "\n",
    "# IMDb 데이터셋 다운로드 \n",
    "(x_train, y_train), (x_test, y_test) = imdb.load_data(num_words=10000)\n",
    "print(\"훈련 샘플 개수: {}, 테스트 개수: {}\".format(len(x_train), len(x_test)))"
   ]
  },
  {
   "cell_type": "code",
   "execution_count": 2,
   "id": "offshore-cooling",
   "metadata": {},
   "outputs": [
    {
     "name": "stdout",
     "output_type": "stream",
     "text": [
      "[1, 14, 22, 16, 43, 530, 973, 1622, 1385, 65, 458, 4468, 66, 3941, 4, 173, 36, 256, 5, 25, 100, 43, 838, 112, 50, 670, 2, 9, 35, 480, 284, 5, 150, 4, 172, 112, 167, 2, 336, 385, 39, 4, 172, 4536, 1111, 17, 546, 38, 13, 447, 4, 192, 50, 16, 6, 147, 2025, 19, 14, 22, 4, 1920, 4613, 469, 4, 22, 71, 87, 12, 16, 43, 530, 38, 76, 15, 13, 1247, 4, 22, 17, 515, 17, 12, 16, 626, 18, 2, 5, 62, 386, 12, 8, 316, 8, 106, 5, 4, 2223, 5244, 16, 480, 66, 3785, 33, 4, 130, 12, 16, 38, 619, 5, 25, 124, 51, 36, 135, 48, 25, 1415, 33, 6, 22, 12, 215, 28, 77, 52, 5, 14, 407, 16, 82, 2, 8, 4, 107, 117, 5952, 15, 256, 4, 2, 7, 3766, 5, 723, 36, 71, 43, 530, 476, 26, 400, 317, 46, 7, 4, 2, 1029, 13, 104, 88, 4, 381, 15, 297, 98, 32, 2071, 56, 26, 141, 6, 194, 7486, 18, 4, 226, 22, 21, 134, 476, 26, 480, 5, 144, 30, 5535, 18, 51, 36, 28, 224, 92, 25, 104, 4, 226, 65, 16, 38, 1334, 88, 12, 16, 283, 5, 16, 4472, 113, 103, 32, 15, 16, 5345, 19, 178, 32]\n",
      "라벨:  1\n",
      "1번째 리뷰 문장 길이:  218\n",
      "2번째 리뷰 문장 길이:  189\n"
     ]
    }
   ],
   "source": [
    "print(x_train[0])  # 1번째 리뷰데이터\n",
    "print('라벨: ', y_train[0])  # 1번째 리뷰데이터의 라벨\n",
    "print('1번째 리뷰 문장 길이: ', len(x_train[0]))\n",
    "print('2번째 리뷰 문장 길이: ', len(x_train[1]))"
   ]
  },
  {
   "cell_type": "code",
   "execution_count": 3,
   "id": "human-output",
   "metadata": {},
   "outputs": [
    {
     "name": "stdout",
     "output_type": "stream",
     "text": [
      "Downloading data from https://storage.googleapis.com/tensorflow/tf-keras-datasets/imdb_word_index.json\n",
      "1646592/1641221 [==============================] - 0s 0us/step\n",
      "the\n",
      "1\n"
     ]
    }
   ],
   "source": [
    "word_to_index = imdb.get_word_index()\n",
    "index_to_word = {index:word for word, index in word_to_index.items()}\n",
    "print(index_to_word[1])     # 'the' 가 출력됩니다. \n",
    "print(word_to_index['the'])  # 1 이 출력됩니다."
   ]
  },
  {
   "cell_type": "code",
   "execution_count": 4,
   "id": "presidential-conclusion",
   "metadata": {},
   "outputs": [
    {
     "name": "stdout",
     "output_type": "stream",
     "text": [
      "<BOS>\n",
      "4\n",
      "the\n"
     ]
    }
   ],
   "source": [
    "#실제 인코딩 인덱스는 제공된 word_to_index에서 index 기준으로 3씩 뒤로 밀려 있습니다.  \n",
    "word_to_index = {k:(v+3) for k,v in word_to_index.items()}\n",
    "\n",
    "# 처음 몇 개 인덱스는 사전에 정의되어 있습니다\n",
    "word_to_index[\"<PAD>\"] = 0\n",
    "word_to_index[\"<BOS>\"] = 1\n",
    "word_to_index[\"<UNK>\"] = 2  # unknown\n",
    "word_to_index[\"<UNUSED>\"] = 3\n",
    "\n",
    "index_to_word[0] = \"<PAD>\"\n",
    "index_to_word[1] = \"<BOS>\"\n",
    "index_to_word[2] = \"<UNK>\"\n",
    "index_to_word[3] = \"<UNUSED>\"\n",
    "\n",
    "index_to_word = {index:word for word, index in word_to_index.items()}\n",
    "\n",
    "print(index_to_word[1])     # '<BOS>' 가 출력됩니다. \n",
    "print(word_to_index['the'])  # 4 이 출력됩니다. \n",
    "print(index_to_word[4])     # 'the' 가 출력됩니다."
   ]
  },
  {
   "cell_type": "code",
   "execution_count": 5,
   "id": "stylish-cigarette",
   "metadata": {},
   "outputs": [
    {
     "name": "stdout",
     "output_type": "stream",
     "text": [
      "문장길이 평균 :  234.75892\n",
      "문장길이 최대 :  2494\n",
      "문장길이 표준편차 :  172.91149458735703\n",
      "pad_sequences maxlen :  580\n",
      "전체 문장의 0.94536%가 maxlen 설정값 이내에 포함됩니다. \n"
     ]
    }
   ],
   "source": [
    "total_data_text = list(x_train) + list(x_test)\n",
    "# 텍스트데이터 문장길이의 리스트를 생성한 후\n",
    "num_tokens = [len(tokens) for tokens in total_data_text]\n",
    "num_tokens = np.array(num_tokens)\n",
    "# 문장길이의 평균값, 최대값, 표준편차를 계산해 본다. \n",
    "print('문장길이 평균 : ', np.mean(num_tokens))\n",
    "print('문장길이 최대 : ', np.max(num_tokens))\n",
    "print('문장길이 표준편차 : ', np.std(num_tokens))\n",
    "\n",
    "# 예를들어, 최대 길이를 (평균 + 2*표준편차)로 한다면,  \n",
    "max_tokens = np.mean(num_tokens) + 2 * np.std(num_tokens)\n",
    "maxlen = int(max_tokens)\n",
    "print('pad_sequences maxlen : ', maxlen)\n",
    "print('전체 문장의 {}%가 maxlen 설정값 이내에 포함됩니다. '.format(np.sum(num_tokens < max_tokens) / len(num_tokens)))"
   ]
  },
  {
   "cell_type": "code",
   "execution_count": 6,
   "id": "noticed-going",
   "metadata": {},
   "outputs": [
    {
     "name": "stdout",
     "output_type": "stream",
     "text": [
      "(25000, 580)\n"
     ]
    }
   ],
   "source": [
    "x_train = keras.preprocessing.sequence.pad_sequences(x_train,\n",
    "                                                        value=word_to_index[\"<PAD>\"],\n",
    "                                                        padding='post', # 혹은 'pre'\n",
    "                                                        maxlen=maxlen)\n",
    "\n",
    "x_test = keras.preprocessing.sequence.pad_sequences(x_test,\n",
    "                                                       value=word_to_index[\"<PAD>\"],\n",
    "                                                       padding='post', # 혹은 'pre'\n",
    "                                                       maxlen=maxlen)\n",
    "\n",
    "print(x_train.shape)"
   ]
  },
  {
   "cell_type": "code",
   "execution_count": 8,
   "id": "complex-satisfaction",
   "metadata": {},
   "outputs": [
    {
     "name": "stdout",
     "output_type": "stream",
     "text": [
      "Model: \"sequential_1\"\n",
      "_________________________________________________________________\n",
      "Layer (type)                 Output Shape              Param #   \n",
      "=================================================================\n",
      "embedding (Embedding)        (None, None, 16)          160000    \n",
      "_________________________________________________________________\n",
      "lstm (LSTM)                  (None, 8)                 800       \n",
      "_________________________________________________________________\n",
      "dense (Dense)                (None, 8)                 72        \n",
      "_________________________________________________________________\n",
      "dense_1 (Dense)              (None, 1)                 9         \n",
      "=================================================================\n",
      "Total params: 160,881\n",
      "Trainable params: 160,881\n",
      "Non-trainable params: 0\n",
      "_________________________________________________________________\n"
     ]
    }
   ],
   "source": [
    "vocab_size = 10000    # 어휘 사전의 크기입니다(10,000개의 단어)\n",
    "word_vector_dim = 16  # 워드 벡터의 차원 수 (변경 가능한 하이퍼파라미터)\n",
    "\n",
    "# model 설계 - 딥러닝 모델 코드를 직접 작성해 주세요.\n",
    "model = keras.Sequential()\n",
    "model.add(keras.layers.Embedding(vocab_size, word_vector_dim, input_shape=(None,)))\n",
    "model.add(keras.layers.LSTM(8))   # 가장 널리 쓰이는 RNN인 LSTM 레이어를 사용하였습니다. 이때 LSTM state 벡터의 차원수는 8로 하였습니다. (변경 가능)\n",
    "model.add(keras.layers.Dense(8, activation='relu'))\n",
    "model.add(keras.layers.Dense(1, activation='sigmoid'))  # 최종 출력은 긍정/부정을 나타내는 1dim 입니다.\n",
    "\n",
    "model.summary()"
   ]
  },
  {
   "cell_type": "code",
   "execution_count": 9,
   "id": "brazilian-audience",
   "metadata": {},
   "outputs": [
    {
     "name": "stdout",
     "output_type": "stream",
     "text": [
      "(15000, 580)\n",
      "(15000,)\n"
     ]
    }
   ],
   "source": [
    "# validation set 10000건 분리\n",
    "x_val = x_train[:10000]   \n",
    "y_val = y_train[:10000]\n",
    "\n",
    "# validation set을 제외한 나머지 15000건\n",
    "partial_x_train = x_train[10000:]  \n",
    "partial_y_train = y_train[10000:]\n",
    "\n",
    "print(partial_x_train.shape)\n",
    "print(partial_y_train.shape)"
   ]
  },
  {
   "cell_type": "code",
   "execution_count": 10,
   "id": "surprised-positive",
   "metadata": {},
   "outputs": [
    {
     "name": "stdout",
     "output_type": "stream",
     "text": [
      "Epoch 1/20\n",
      "30/30 [==============================] - 11s 257ms/step - loss: 0.6932 - accuracy: 0.4957 - val_loss: 0.6932 - val_accuracy: 0.4948\n",
      "Epoch 2/20\n",
      "30/30 [==============================] - 7s 241ms/step - loss: 0.6931 - accuracy: 0.5070 - val_loss: 0.6932 - val_accuracy: 0.4947\n",
      "Epoch 3/20\n",
      "30/30 [==============================] - 6s 201ms/step - loss: 0.6931 - accuracy: 0.5001 - val_loss: 0.6932 - val_accuracy: 0.4980\n",
      "Epoch 4/20\n",
      "30/30 [==============================] - 3s 115ms/step - loss: 0.6928 - accuracy: 0.5203 - val_loss: 0.6928 - val_accuracy: 0.5043\n",
      "Epoch 5/20\n",
      "30/30 [==============================] - 3s 109ms/step - loss: 0.6916 - accuracy: 0.5247 - val_loss: 0.6920 - val_accuracy: 0.5074\n",
      "Epoch 6/20\n",
      "30/30 [==============================] - 3s 108ms/step - loss: 0.6870 - accuracy: 0.5335 - val_loss: 0.8065 - val_accuracy: 0.5134\n",
      "Epoch 7/20\n",
      "30/30 [==============================] - 3s 108ms/step - loss: 0.7222 - accuracy: 0.5142 - val_loss: 0.6889 - val_accuracy: 0.5099\n",
      "Epoch 8/20\n",
      "30/30 [==============================] - 3s 105ms/step - loss: 0.6778 - accuracy: 0.5408 - val_loss: 0.6863 - val_accuracy: 0.5132\n",
      "Epoch 9/20\n",
      "30/30 [==============================] - 3s 105ms/step - loss: 0.6716 - accuracy: 0.5418 - val_loss: 0.6837 - val_accuracy: 0.5170\n",
      "Epoch 10/20\n",
      "30/30 [==============================] - 3s 106ms/step - loss: 0.6661 - accuracy: 0.5396 - val_loss: 0.6819 - val_accuracy: 0.5187\n",
      "Epoch 11/20\n",
      "30/30 [==============================] - 3s 104ms/step - loss: 0.6775 - accuracy: 0.5256 - val_loss: 0.6865 - val_accuracy: 0.5142\n",
      "Epoch 12/20\n",
      "30/30 [==============================] - 3s 104ms/step - loss: 0.6650 - accuracy: 0.5345 - val_loss: 0.6825 - val_accuracy: 0.5173\n",
      "Epoch 13/20\n",
      "30/30 [==============================] - 3s 104ms/step - loss: 0.6615 - accuracy: 0.5399 - val_loss: 0.6803 - val_accuracy: 0.5221\n",
      "Epoch 14/20\n",
      "30/30 [==============================] - 3s 102ms/step - loss: 0.6581 - accuracy: 0.5435 - val_loss: 0.6825 - val_accuracy: 0.5342\n",
      "Epoch 15/20\n",
      "30/30 [==============================] - 3s 102ms/step - loss: 0.6637 - accuracy: 0.5765 - val_loss: 0.6817 - val_accuracy: 0.5186\n",
      "Epoch 16/20\n",
      "30/30 [==============================] - 3s 102ms/step - loss: 0.6580 - accuracy: 0.5435 - val_loss: 0.6821 - val_accuracy: 0.5171\n",
      "Epoch 17/20\n",
      "30/30 [==============================] - 3s 101ms/step - loss: 0.6587 - accuracy: 0.5410 - val_loss: 0.6823 - val_accuracy: 0.5185\n",
      "Epoch 18/20\n",
      "30/30 [==============================] - 3s 101ms/step - loss: 0.6555 - accuracy: 0.5408 - val_loss: 0.6829 - val_accuracy: 0.5197\n",
      "Epoch 19/20\n",
      "30/30 [==============================] - 3s 101ms/step - loss: 0.6517 - accuracy: 0.5382 - val_loss: 0.6818 - val_accuracy: 0.5257\n",
      "Epoch 20/20\n",
      "30/30 [==============================] - 3s 101ms/step - loss: 0.6349 - accuracy: 0.6026 - val_loss: 0.6044 - val_accuracy: 0.7230\n"
     ]
    }
   ],
   "source": [
    "model.compile(optimizer='adam',\n",
    "              loss='binary_crossentropy',\n",
    "              metrics=['accuracy'])\n",
    "              \n",
    "epochs=20  # 몇 epoch를 훈련하면 좋을지 결과를 보면서 바꾸어 봅시다. \n",
    "\n",
    "history = model.fit(partial_x_train,\n",
    "                    partial_y_train,\n",
    "                    epochs=epochs,\n",
    "                    batch_size=512,\n",
    "                    validation_data=(x_val, y_val),\n",
    "                    verbose=1)"
   ]
  },
  {
   "cell_type": "code",
   "execution_count": 11,
   "id": "oriented-sunday",
   "metadata": {},
   "outputs": [
    {
     "name": "stdout",
     "output_type": "stream",
     "text": [
      "782/782 - 21s - loss: 0.6086 - accuracy: 0.7145\n",
      "[0.6085729002952576, 0.7145199775695801]\n"
     ]
    }
   ],
   "source": [
    "results = model.evaluate(x_test,  y_test, verbose=2)\n",
    "\n",
    "print(results)"
   ]
  },
  {
   "cell_type": "code",
   "execution_count": 12,
   "id": "lovely-battle",
   "metadata": {},
   "outputs": [
    {
     "name": "stdout",
     "output_type": "stream",
     "text": [
      "dict_keys(['loss', 'accuracy', 'val_loss', 'val_accuracy'])\n"
     ]
    }
   ],
   "source": [
    "history_dict = history.history\n",
    "print(history_dict.keys()) # epoch에 따른 그래프를 그려볼 수 있는 항목들"
   ]
  },
  {
   "cell_type": "code",
   "execution_count": 13,
   "id": "instructional-extreme",
   "metadata": {},
   "outputs": [
    {
     "data": {
      "image/png": "[encoded data removed]",
      "text/plain": [
       "<Figure size 432x288 with 1 Axes>"
      ]
     },
     "metadata": {
      "needs_background": "light"
     },
     "output_type": "display_data"
    }
   ],
   "source": [
    "import matplotlib.pyplot as plt\n",
    "\n",
    "acc = history_dict['accuracy']\n",
    "val_acc = history_dict['val_accuracy']\n",
    "loss = history_dict['loss']\n",
    "val_loss = history_dict['val_loss']\n",
    "\n",
    "epochs = range(1, len(acc) + 1)\n",
    "\n",
    "# \"bo\"는 \"파란색 점\"입니다\n",
    "plt.plot(epochs, loss, 'bo', label='Training loss')\n",
    "# b는 \"파란 실선\"입니다\n",
    "plt.plot(epochs, val_loss, 'b', label='Validation loss')\n",
    "plt.title('Training and validation loss')\n",
    "plt.xlabel('Epochs')\n",
    "plt.ylabel('Loss')\n",
    "plt.legend()\n",
    "\n",
    "plt.show()"
   ]
  },
  {
   "cell_type": "code",
   "execution_count": 14,
   "id": "tropical-focus",
   "metadata": {},
   "outputs": [
    {
     "data": {
      "image/png": "[encoded data removed]",
      "text/plain": [
       "<Figure size 432x288 with 1 Axes>"
      ]
     },
     "metadata": {
      "needs_background": "light"
     },
     "output_type": "display_data"
    }
   ],
   "source": [
    "plt.clf()   # 그림을 초기화합니다\n",
    "\n",
    "plt.plot(epochs, acc, 'bo', label='Training acc')\n",
    "plt.plot(epochs, val_acc, 'b', label='Validation acc')\n",
    "plt.title('Training and validation accuracy')\n",
    "plt.xlabel('Epochs')\n",
    "plt.ylabel('Accuracy')\n",
    "plt.legend()\n",
    "\n",
    "plt.show()"
   ]
  },
  {
   "cell_type": "code",
   "execution_count": 15,
   "id": "common-alloy",
   "metadata": {},
   "outputs": [
    {
     "name": "stdout",
     "output_type": "stream",
     "text": [
      "(10000, 16)\n"
     ]
    }
   ],
   "source": [
    "embedding_layer = model.layers[0]\n",
    "weights = embedding_layer.get_weights()[0]\n",
    "print(weights.shape)    # shape: (vocab_size, embedding_dim)"
   ]
  },
  {
   "cell_type": "code",
   "execution_count": 16,
   "id": "available-relevance",
   "metadata": {},
   "outputs": [],
   "source": [
    "import os\n",
    "\n",
    "# 학습한 Embedding 파라미터를 파일에 써서 저장합니다. \n",
    "word2vec_file_path = os.getenv('HOME')+'/aiffel/sentiment_classification/data/word2vec.txt'\n",
    "f = open(word2vec_file_path, 'w')\n",
    "f.write('{} {}\\n'.format(vocab_size-4, word_vector_dim))  # 몇개의 벡터를 얼마 사이즈로 기재할지 타이틀을 씁니다.\n",
    "\n",
    "# 단어 개수(에서 특수문자 4개는 제외하고)만큼의 워드 벡터를 파일에 기록합니다. \n",
    "vectors = model.get_weights()[0]\n",
    "for i in range(4,vocab_size):\n",
    "    f.write('{} {}\\n'.format(index_to_word[i], ' '.join(map(str, list(vectors[i, :])))))\n",
    "f.close()"
   ]
  },
  {
   "cell_type": "code",
   "execution_count": 17,
   "id": "advised-floating",
   "metadata": {},
   "outputs": [
    {
     "name": "stderr",
     "output_type": "stream",
     "text": [
      "/opt/conda/lib/python3.7/site-packages/gensim/similarities/__init__.py:15: UserWarning: The gensim.similarities.levenshtein submodule is disabled, because the optional Levenshtein package <https://pypi.org/project/python-Levenshtein/> is unavailable. Install Levenhstein (e.g. `pip install python-Levenshtein`) to suppress this warning.\n",
      "  warnings.warn(msg)\n"
     ]
    },
    {
     "data": {
      "text/plain": [
       "array([-0.08697867, -0.15006796,  0.03060513,  0.08926633, -0.09601017,\n",
       "       -0.14334927, -0.10718179, -0.12175739,  0.04064253,  0.06448346,\n",
       "       -0.06780133,  0.05953778, -0.05997873,  0.141873  ,  0.1213082 ,\n",
       "       -0.12904876], dtype=float32)"
      ]
     },
     "execution_count": 17,
     "metadata": {},
     "output_type": "execute_result"
    }
   ],
   "source": [
    "from gensim.models.keyedvectors import Word2VecKeyedVectors\n",
    "\n",
    "word_vectors = Word2VecKeyedVectors.load_word2vec_format(word2vec_file_path, binary=False)\n",
    "vector = word_vectors['computer']\n",
    "vector"
   ]
  },
  {
   "cell_type": "code",
   "execution_count": 18,
   "id": "shared-thesis",
   "metadata": {},
   "outputs": [
    {
     "data": {
      "text/plain": [
       "[('2006', 0.8884302973747253),\n",
       " ('tarzan', 0.8882225751876831),\n",
       " ('machines', 0.8659952282905579),\n",
       " ('disappear', 0.8633579611778259),\n",
       " ('universal', 0.8619470596313477),\n",
       " ('delightful', 0.8564751744270325),\n",
       " (\"city's\", 0.8536905646324158),\n",
       " ('seemed', 0.8533265590667725),\n",
       " ('spite', 0.849999189376831),\n",
       " ('crossing', 0.849051833152771)]"
      ]
     },
     "execution_count": 18,
     "metadata": {},
     "output_type": "execute_result"
    }
   ],
   "source": [
    "word_vectors.similar_by_word(\"love\")"
   ]
  },
  {
   "cell_type": "code",
   "execution_count": 19,
   "id": "typical-valentine",
   "metadata": {},
   "outputs": [],
   "source": [
    "!ln -s ~/data/GoogleNews-vectors-negative300.bin.gz ~/aiffel/sentiment_classification/data"
   ]
  },
  {
   "cell_type": "code",
   "execution_count": 20,
   "id": "other-persian",
   "metadata": {},
   "outputs": [
    {
     "data": {
      "text/plain": [
       "array([ 1.07421875e-01, -2.01171875e-01,  1.23046875e-01,  2.11914062e-01,\n",
       "       -9.13085938e-02,  2.16796875e-01, -1.31835938e-01,  8.30078125e-02,\n",
       "        2.02148438e-01,  4.78515625e-02,  3.66210938e-02, -2.45361328e-02,\n",
       "        2.39257812e-02, -1.60156250e-01, -2.61230469e-02,  9.71679688e-02,\n",
       "       -6.34765625e-02,  1.84570312e-01,  1.70898438e-01, -1.63085938e-01,\n",
       "       -1.09375000e-01,  1.49414062e-01, -4.65393066e-04,  9.61914062e-02,\n",
       "        1.68945312e-01,  2.60925293e-03,  8.93554688e-02,  6.49414062e-02,\n",
       "        3.56445312e-02, -6.93359375e-02, -1.46484375e-01, -1.21093750e-01,\n",
       "       -2.27539062e-01,  2.45361328e-02, -1.24511719e-01, -3.18359375e-01,\n",
       "       -2.20703125e-01,  1.30859375e-01,  3.66210938e-02, -3.63769531e-02,\n",
       "       -1.13281250e-01,  1.95312500e-01,  9.76562500e-02,  1.26953125e-01,\n",
       "        6.59179688e-02,  6.93359375e-02,  1.02539062e-02,  1.75781250e-01,\n",
       "       -1.68945312e-01,  1.21307373e-03, -2.98828125e-01, -1.15234375e-01,\n",
       "        5.66406250e-02, -1.77734375e-01, -2.08984375e-01,  1.76757812e-01,\n",
       "        2.38037109e-02, -2.57812500e-01, -4.46777344e-02,  1.88476562e-01,\n",
       "        5.51757812e-02,  5.02929688e-02, -1.06933594e-01,  1.89453125e-01,\n",
       "       -1.16210938e-01,  8.49609375e-02, -1.71875000e-01,  2.45117188e-01,\n",
       "       -1.73828125e-01, -8.30078125e-03,  4.56542969e-02, -1.61132812e-02,\n",
       "        1.86523438e-01, -6.05468750e-02, -4.17480469e-02,  1.82617188e-01,\n",
       "        2.20703125e-01, -1.22558594e-01, -2.55126953e-02, -3.08593750e-01,\n",
       "        9.13085938e-02,  1.60156250e-01,  1.70898438e-01,  1.19628906e-01,\n",
       "        7.08007812e-02, -2.64892578e-02, -3.08837891e-02,  4.06250000e-01,\n",
       "       -1.01562500e-01,  5.71289062e-02, -7.26318359e-03, -9.17968750e-02,\n",
       "       -1.50390625e-01, -2.55859375e-01,  2.16796875e-01, -3.63769531e-02,\n",
       "        2.24609375e-01,  8.00781250e-02,  1.56250000e-01,  5.27343750e-02,\n",
       "        1.50390625e-01, -1.14746094e-01, -8.64257812e-02,  1.19140625e-01,\n",
       "       -7.17773438e-02,  2.73437500e-01, -1.64062500e-01,  7.29370117e-03,\n",
       "        4.21875000e-01, -1.12792969e-01, -1.35742188e-01, -1.31835938e-01,\n",
       "       -1.37695312e-01, -7.66601562e-02,  6.25000000e-02,  4.98046875e-02,\n",
       "       -1.91406250e-01, -6.03027344e-02,  2.27539062e-01,  5.88378906e-02,\n",
       "       -3.24218750e-01,  5.41992188e-02, -1.35742188e-01,  8.17871094e-03,\n",
       "       -5.24902344e-02, -1.74713135e-03, -9.81445312e-02, -2.86865234e-02,\n",
       "        3.61328125e-02,  2.15820312e-01,  5.98144531e-02, -3.08593750e-01,\n",
       "       -2.27539062e-01,  2.61718750e-01,  9.86328125e-02, -5.07812500e-02,\n",
       "        1.78222656e-02,  1.31835938e-01, -5.35156250e-01, -1.81640625e-01,\n",
       "        1.38671875e-01, -3.10546875e-01, -9.71679688e-02,  1.31835938e-01,\n",
       "       -1.16210938e-01,  7.03125000e-02,  2.85156250e-01,  3.51562500e-02,\n",
       "       -1.01562500e-01, -3.75976562e-02,  1.41601562e-01,  1.42578125e-01,\n",
       "       -5.68847656e-02,  2.65625000e-01, -2.09960938e-01,  9.64355469e-03,\n",
       "       -6.68945312e-02, -4.83398438e-02, -6.10351562e-02,  2.45117188e-01,\n",
       "       -9.66796875e-02,  1.78222656e-02, -1.27929688e-01, -4.78515625e-02,\n",
       "       -7.26318359e-03,  1.79687500e-01,  2.78320312e-02, -2.10937500e-01,\n",
       "       -1.43554688e-01, -1.27929688e-01,  1.73339844e-02, -3.60107422e-03,\n",
       "       -2.04101562e-01,  3.63159180e-03, -1.19628906e-01, -6.15234375e-02,\n",
       "        5.93261719e-02, -3.23486328e-03, -1.70898438e-01, -3.14941406e-02,\n",
       "       -8.88671875e-02, -2.89062500e-01,  3.44238281e-02, -1.87500000e-01,\n",
       "        2.94921875e-01,  1.58203125e-01, -1.19628906e-01,  7.61718750e-02,\n",
       "        6.39648438e-02, -4.68750000e-02, -6.83593750e-02,  1.21459961e-02,\n",
       "       -1.44531250e-01,  4.54101562e-02,  3.68652344e-02,  3.88671875e-01,\n",
       "        1.45507812e-01, -2.55859375e-01, -4.46777344e-02, -1.33789062e-01,\n",
       "       -1.38671875e-01,  6.59179688e-02,  1.37695312e-01,  1.14746094e-01,\n",
       "        2.03125000e-01, -4.78515625e-02,  1.80664062e-02, -8.54492188e-02,\n",
       "       -2.48046875e-01, -3.39843750e-01, -2.83203125e-02,  1.05468750e-01,\n",
       "       -2.14843750e-01, -8.74023438e-02,  7.12890625e-02,  1.87500000e-01,\n",
       "       -1.12304688e-01,  2.73437500e-01, -3.26171875e-01, -1.77734375e-01,\n",
       "       -4.24804688e-02, -2.69531250e-01,  6.64062500e-02, -6.88476562e-02,\n",
       "       -1.99218750e-01, -7.03125000e-02, -2.43164062e-01, -3.66210938e-02,\n",
       "       -7.37304688e-02, -1.77734375e-01,  9.17968750e-02, -1.25000000e-01,\n",
       "       -1.65039062e-01, -3.57421875e-01, -2.85156250e-01, -1.66992188e-01,\n",
       "        1.97265625e-01, -1.53320312e-01,  2.31933594e-02,  2.06054688e-01,\n",
       "        1.80664062e-01, -2.74658203e-02, -1.92382812e-01, -9.61914062e-02,\n",
       "       -1.06811523e-02, -4.73632812e-02,  6.54296875e-02, -1.25732422e-02,\n",
       "        1.78222656e-02, -8.00781250e-02, -2.59765625e-01,  9.37500000e-02,\n",
       "       -7.81250000e-02,  4.68750000e-02, -2.22167969e-02,  1.86767578e-02,\n",
       "        3.11279297e-02,  1.04980469e-02, -1.69921875e-01,  2.58789062e-02,\n",
       "       -3.41796875e-02, -1.44042969e-02, -5.46875000e-02, -8.78906250e-02,\n",
       "        1.96838379e-03,  2.23632812e-01, -1.36718750e-01,  1.75781250e-01,\n",
       "       -1.63085938e-01,  1.87500000e-01,  3.44238281e-02, -5.63964844e-02,\n",
       "       -2.27689743e-05,  4.27246094e-02,  5.81054688e-02, -1.07910156e-01,\n",
       "       -3.88183594e-02, -2.69531250e-01,  3.34472656e-02,  9.81445312e-02,\n",
       "        5.63964844e-02,  2.23632812e-01, -5.49316406e-02,  1.46484375e-01,\n",
       "        5.93261719e-02, -2.19726562e-01,  6.39648438e-02,  1.66015625e-02,\n",
       "        4.56542969e-02,  3.26171875e-01, -3.80859375e-01,  1.70898438e-01,\n",
       "        5.66406250e-02, -1.04492188e-01,  1.38671875e-01, -1.57226562e-01,\n",
       "        3.23486328e-03, -4.80957031e-02, -2.48046875e-01, -6.20117188e-02],\n",
       "      dtype=float32)"
      ]
     },
     "execution_count": 20,
     "metadata": {},
     "output_type": "execute_result"
    }
   ],
   "source": [
    "from gensim.models import KeyedVectors\n",
    "word2vec_path = os.getenv('HOME')+'/aiffel/sentiment_classification/data/GoogleNews-vectors-negative300.bin.gz'\n",
    "word2vec = KeyedVectors.load_word2vec_format(word2vec_path, binary=True, limit=1000000)\n",
    "vector = word2vec['computer']\n",
    "vector     # 무려 300dim의 워드 벡터입니다."
   ]
  },
  {
   "cell_type": "code",
   "execution_count": 21,
   "id": "advance-paper",
   "metadata": {},
   "outputs": [],
   "source": [
    "vocab_size = 10000    # 어휘 사전의 크기입니다(10,000개의 단어)\n",
    "word_vector_dim = 300  # 워드 벡터의 차원수 (변경가능한 하이퍼파라미터)\n",
    "\n",
    "embedding_matrix = np.random.rand(vocab_size, word_vector_dim)\n",
    "\n",
    "# embedding_matrix에 Word2Vec 워드 벡터를 단어 하나씩마다 차례차례 카피한다.\n",
    "for i in range(4,vocab_size):\n",
    "    if index_to_word[i] in word2vec:\n",
    "        embedding_matrix[i] = word2vec[index_to_word[i]]"
   ]
  },
  {
   "cell_type": "code",
   "execution_count": 22,
   "id": "dynamic-option",
   "metadata": {},
   "outputs": [
    {
     "name": "stdout",
     "output_type": "stream",
     "text": [
      "Model: \"sequential_2\"\n",
      "_________________________________________________________________\n",
      "Layer (type)                 Output Shape              Param #   \n",
      "=================================================================\n",
      "embedding_1 (Embedding)      (None, 580, 300)          3000000   \n",
      "_________________________________________________________________\n",
      "conv1d (Conv1D)              (None, 574, 16)           33616     \n",
      "_________________________________________________________________\n",
      "max_pooling1d (MaxPooling1D) (None, 114, 16)           0         \n",
      "_________________________________________________________________\n",
      "conv1d_1 (Conv1D)            (None, 108, 16)           1808      \n",
      "_________________________________________________________________\n",
      "global_max_pooling1d (Global (None, 16)                0         \n",
      "_________________________________________________________________\n",
      "dense_2 (Dense)              (None, 8)                 136       \n",
      "_________________________________________________________________\n",
      "dense_3 (Dense)              (None, 1)                 9         \n",
      "=================================================================\n",
      "Total params: 3,035,569\n",
      "Trainable params: 3,035,569\n",
      "Non-trainable params: 0\n",
      "_________________________________________________________________\n"
     ]
    }
   ],
   "source": [
    "from tensorflow.keras.initializers import Constant\n",
    "\n",
    "vocab_size = 10000    # 어휘 사전의 크기입니다(10,000개의 단어)\n",
    "word_vector_dim = 300  # 워드 벡터의 차원 수 (변경가능한 하이퍼파라미터)\n",
    "\n",
    "# 모델 구성\n",
    "model = keras.Sequential()\n",
    "model.add(keras.layers.Embedding(vocab_size, \n",
    "                                 word_vector_dim, \n",
    "                                 embeddings_initializer=Constant(embedding_matrix),  # 카피한 임베딩을 여기서 활용\n",
    "                                 input_length=maxlen, \n",
    "                                 trainable=True))   # trainable을 True로 주면 Fine-tuning\n",
    "model.add(keras.layers.Conv1D(16, 7, activation='relu'))\n",
    "model.add(keras.layers.MaxPooling1D(5))\n",
    "model.add(keras.layers.Conv1D(16, 7, activation='relu'))\n",
    "model.add(keras.layers.GlobalMaxPooling1D())\n",
    "model.add(keras.layers.Dense(8, activation='relu'))\n",
    "model.add(keras.layers.Dense(1, activation='sigmoid')) \n",
    "\n",
    "model.summary()"
   ]
  },
  {
   "cell_type": "code",
   "execution_count": 23,
   "id": "featured-firmware",
   "metadata": {},
   "outputs": [
    {
     "name": "stdout",
     "output_type": "stream",
     "text": [
      "Epoch 1/20\n",
      "30/30 [==============================] - 18s 475ms/step - loss: 0.7005 - accuracy: 0.5043 - val_loss: 0.6772 - val_accuracy: 0.5994\n",
      "Epoch 2/20\n",
      "30/30 [==============================] - 11s 378ms/step - loss: 0.6621 - accuracy: 0.6396 - val_loss: 0.6207 - val_accuracy: 0.6739\n",
      "Epoch 3/20\n",
      "30/30 [==============================] - 11s 365ms/step - loss: 0.5633 - accuracy: 0.7489 - val_loss: 0.4626 - val_accuracy: 0.7769\n",
      "Epoch 4/20\n",
      "30/30 [==============================] - 11s 374ms/step - loss: 0.3738 - accuracy: 0.8391 - val_loss: 0.3186 - val_accuracy: 0.8650\n",
      "Epoch 5/20\n",
      "30/30 [==============================] - 11s 380ms/step - loss: 0.2490 - accuracy: 0.9048 - val_loss: 0.2905 - val_accuracy: 0.8775\n",
      "Epoch 6/20\n",
      "30/30 [==============================] - 11s 373ms/step - loss: 0.1780 - accuracy: 0.9401 - val_loss: 0.2853 - val_accuracy: 0.8826\n",
      "Epoch 7/20\n",
      "30/30 [==============================] - 11s 374ms/step - loss: 0.1312 - accuracy: 0.9614 - val_loss: 0.2965 - val_accuracy: 0.8798\n",
      "Epoch 8/20\n",
      "30/30 [==============================] - 11s 382ms/step - loss: 0.0968 - accuracy: 0.9749 - val_loss: 0.3010 - val_accuracy: 0.8823\n",
      "Epoch 9/20\n",
      "30/30 [==============================] - 11s 367ms/step - loss: 0.0720 - accuracy: 0.9851 - val_loss: 0.3132 - val_accuracy: 0.8819\n",
      "Epoch 10/20\n",
      "30/30 [==============================] - 11s 370ms/step - loss: 0.0457 - accuracy: 0.9936 - val_loss: 0.3270 - val_accuracy: 0.8830\n",
      "Epoch 11/20\n",
      "30/30 [==============================] - 11s 380ms/step - loss: 0.0336 - accuracy: 0.9972 - val_loss: 0.3502 - val_accuracy: 0.8803\n",
      "Epoch 12/20\n",
      "30/30 [==============================] - 11s 367ms/step - loss: 0.0250 - accuracy: 0.9979 - val_loss: 0.3809 - val_accuracy: 0.8741\n",
      "Epoch 13/20\n",
      "30/30 [==============================] - 12s 388ms/step - loss: 0.0155 - accuracy: 0.9994 - val_loss: 0.4121 - val_accuracy: 0.8726\n",
      "Epoch 14/20\n",
      "30/30 [==============================] - 11s 367ms/step - loss: 0.0095 - accuracy: 0.9998 - val_loss: 0.4301 - val_accuracy: 0.8788\n",
      "Epoch 15/20\n",
      "30/30 [==============================] - 11s 369ms/step - loss: 0.0053 - accuracy: 0.9999 - val_loss: 0.4569 - val_accuracy: 0.8782\n",
      "Epoch 16/20\n",
      "30/30 [==============================] - 11s 369ms/step - loss: 0.0038 - accuracy: 0.9999 - val_loss: 0.4774 - val_accuracy: 0.8780\n",
      "Epoch 17/20\n",
      "30/30 [==============================] - 11s 380ms/step - loss: 0.0025 - accuracy: 1.0000 - val_loss: 0.4992 - val_accuracy: 0.8782\n",
      "Epoch 18/20\n",
      "30/30 [==============================] - 11s 377ms/step - loss: 0.0020 - accuracy: 1.0000 - val_loss: 0.5140 - val_accuracy: 0.8783\n",
      "Epoch 19/20\n",
      "30/30 [==============================] - 11s 377ms/step - loss: 0.0015 - accuracy: 1.0000 - val_loss: 0.5318 - val_accuracy: 0.8780\n",
      "Epoch 20/20\n",
      "30/30 [==============================] - 11s 380ms/step - loss: 0.0013 - accuracy: 1.0000 - val_loss: 0.5435 - val_accuracy: 0.8779\n"
     ]
    }
   ],
   "source": [
    "# 학습의 진행\n",
    "model.compile(optimizer='adam',\n",
    "              loss='binary_crossentropy',\n",
    "              metrics=['accuracy'])\n",
    "              \n",
    "epochs=20  # 몇 epoch를 훈련하면 좋을지 결과를 보면서 바꾸어 봅시다. \n",
    "\n",
    "history = model.fit(partial_x_train,\n",
    "                    partial_y_train,\n",
    "                    epochs=epochs,\n",
    "                    batch_size=512,\n",
    "                    validation_data=(x_val, y_val),\n",
    "                    verbose=1)"
   ]
  },
  {
   "cell_type": "code",
   "execution_count": 24,
   "id": "danish-strap",
   "metadata": {},
   "outputs": [
    {
     "name": "stdout",
     "output_type": "stream",
     "text": [
      "782/782 - 8s - loss: 0.5923 - accuracy: 0.8694\n",
      "[0.5922532677650452, 0.8693600296974182]\n"
     ]
    }
   ],
   "source": [
    "# 테스트셋을 통한 모델 평가\n",
    "results = model.evaluate(x_test,  y_test, verbose=2)\n",
    "\n",
    "print(results)"
   ]
  },
  {
   "cell_type": "markdown",
   "id": "furnished-medicare",
   "metadata": {},
   "source": [
    "## 프로젝트: 네이버 영화리뷰 감성분석\n",
    "-----"
   ]
  },
  {
   "cell_type": "markdown",
   "id": "green-hollywood",
   "metadata": {},
   "source": [
    "### 1. Naver sentiment movie corpus 불러오기"
   ]
  },
  {
   "cell_type": "code",
   "execution_count": 6,
   "id": "linear-eight",
   "metadata": {},
   "outputs": [
    {
     "name": "stdout",
     "output_type": "stream",
     "text": [
      "ln: failed to create symbolic link '/aiffel/aiffel/sentiment_classification/data/ratings_test.txt': File exists\r\n",
      "ln: failed to create symbolic link '/aiffel/aiffel/sentiment_classification/data/ratings_train.txt': File exists\r\n"
     ]
    }
   ],
   "source": [
    "!ln -s ~/data/*.txt ~/aiffel/sentiment_classification/data"
   ]
  },
  {
   "cell_type": "code",
   "execution_count": 26,
   "id": "sustained-fighter",
   "metadata": {
    "scrolled": true
   },
   "outputs": [
    {
     "name": "stdout",
     "output_type": "stream",
     "text": [
      "         id                                           document  label\n",
      "0   9976970                                아 더빙.. 진짜 짜증나네요 목소리      0\n",
      "1   3819312                  흠...포스터보고 초딩영화줄....오버연기조차 가볍지 않구나      1\n",
      "2  10265843                                  너무재밓었다그래서보는것을추천한다      0\n",
      "3   9045019                      교도소 이야기구먼 ..솔직히 재미는 없다..평점 조정      0\n",
      "4   6483659  사이몬페그의 익살스런 연기가 돋보였던 영화!스파이더맨에서 늙어보이기만 했던 커스틴 ...      1\n"
     ]
    }
   ],
   "source": [
    "import pandas as pd\n",
    "import urllib.request\n",
    "%matplotlib inline\n",
    "import matplotlib.pyplot as plt\n",
    "import re\n",
    "from konlpy.tag import Okt\n",
    "from tensorflow import keras\n",
    "from tensorflow.keras.preprocessing.text import Tokenizer\n",
    "import numpy as np\n",
    "from tensorflow.keras.preprocessing.sequence import pad_sequences\n",
    "from collections import Counter\n",
    "from tensorflow.python.platform import tf_logging as logging\n",
    "\n",
    "# 데이터를 읽어봅시다. \n",
    "train_data = pd.read_table('~/aiffel/sentiment_classification/data/ratings_train.txt')\n",
    "test_data = pd.read_table('~/aiffel/sentiment_classification/data/ratings_test.txt')\n",
    "\n",
    "print(train_data[:5])"
   ]
  },
  {
   "cell_type": "markdown",
   "id": "muslim-database",
   "metadata": {},
   "source": [
    "### 2. 데이터로더 구성"
   ]
  },
  {
   "cell_type": "markdown",
   "id": "chronic-verification",
   "metadata": {},
   "source": [
    "* 데이터의 중복제거\n",
    "* NaN 결측치 제거\n",
    "* 한국어 토크나이저로 토큰화\n",
    "* 불용어(Stopwords) 제거\n",
    "* 사전(word_to_dictionary) 구성\n",
    "* 텍스트 스트링을 사전 인덱스 스트링으로 변환\n",
    "* X_train, y_train, X_test, y_test, word_to_index 리턴"
   ]
  },
  {
   "cell_type": "code",
   "execution_count": 33,
   "id": "european-hawaiian",
   "metadata": {},
   "outputs": [],
   "source": [
    "from konlpy.tag import Mecab\n",
    "tokenizer = Mecab()\n",
    "stopwords = ['의','가','이','은','들','는','좀','잘','걍','과','도','를','으로','자','에','와','한','하다', '']\n",
    "emotic_words = ['ㅎ', 'ㅋ' ,'ㅠ', 'ㅜ' ,'ㅡ', 'ㅉ']\n",
    "#emoticon_dictionary = {'^^':'웃음', '♥':'좋음'}\n",
    "num_words = 10000\n",
    "\n",
    "\n",
    "def get_encoded_sentence(sentence, word_to_index):\n",
    "    return [word_to_index['<BOS>']]+[word_to_index[word] if word in word_to_index else word_to_index['<UNK>'] for word in sentence.split()]\n",
    "\n",
    "\n",
    "def get_encoded_sentences(sentences, word_to_index):\n",
    "    return [get_encoded_sentence(sentence, word_to_index) for sentence in sentences]\n",
    "\n",
    "\n",
    "# 숫자 벡터로 encode된 문장을 원래대로 decode하는 함수입니다. \n",
    "def get_decoded_sentence(encoded_sentence, index_to_word):\n",
    "    return ' '.join(index_to_word[index] if index in index_to_word else '<UNK>' for index in encoded_sentence[1:])  #[1:]를 통해 <BOS>를 제외\n",
    "\n",
    "\n",
    "def get_decoded_sentences(encoded_sentences, index_to_word):\n",
    "    return [get_decoded_sentence(encoded_sentence, index_to_word) for encoded_sentence in encoded_sentences]\n",
    "\n",
    "\n",
    "def Tokenizer(train_data):\n",
    "    tokenizer = Okt()\n",
    "    tokens = []\n",
    "    for sentence in train_data['document']:\n",
    "        for single_word in emotic_words:\n",
    "            if sentence.find(single_word) > -1:\n",
    "                sentence = sentence.replace(single_word, '')\n",
    "                sentence = sentence+single_word\n",
    "        pre_tokens = tokenizer.morphs(u''+sentence)\n",
    "        tokens += [token for token in pre_tokens \n",
    "                   if token not in stopwords \n",
    "                   if not token.isdigit()  \n",
    "                   if token.find('.') == -1\n",
    "                   if token.find('!') == -1\n",
    "                   if token.find('?') == -1\n",
    "                   if token.find(';') == -1\n",
    "                   if token.find(':') == -1\n",
    "                   if token.find(')') == -1\n",
    "                   if token.find('(') == -1\n",
    "                   if token.find('-') == -1\n",
    "                   if token.find(',') == -1\n",
    "                   if token.find('%') == -1\n",
    "                   if token.find('/') == -1\n",
    "                   if token.find('@') == -1\n",
    "                   if token.find('\"') == -1\n",
    "                   if token.find(\"'\") == -1\n",
    "                   if token.find(\"~\") == -1\n",
    "                   if token.find(\"''\") == -1\n",
    "                   if token.find('\"\"') == -1\n",
    "                   if token.find('`') == -1\n",
    "                   if token.find('^') == -1\n",
    "                   if token.find('>') == -1\n",
    "                  ]\n",
    "    tokens = np.array(tokens)\n",
    "    tokens = np.unique(tokens)\n",
    "    return tokens\n",
    "                \n",
    "\n",
    "def get_index_to_word(tokens):\n",
    "    index_to_word = {0:'<PAD>', 1:'<BOS>', 2:'<UNK>'}\n",
    "    for idx, token in enumerate(tokens):\n",
    "        index_to_word[idx+len(index_to_word)] = token  \n",
    "    return index_to_word\n",
    "        \n",
    "    \n",
    "def load_data(train_data, test_data, num_words=num_words):\n",
    "    # train_data 중복제거 및 NaN제거\n",
    "    print('최초크기:',train_data.shape)\n",
    "    train_data = train_data.drop_duplicates()\n",
    "    print('중복제거 후 크기:',train_data.shape)\n",
    "    train_data = train_data.dropna()\n",
    "    print('NaN제거 후 크기:', train_data.shape)\n",
    "    tokens = Tokenizer(train_data)\n",
    "    index_to_word = get_index_to_word(tokens)\n",
    "    list(index_to_word.items())[:10]\n",
    "    word_to_index={word:index for index, word in index_to_word.items()}\n",
    "    raw_inputs = np.array(get_encoded_sentences(train_data, word_to_index))\n",
    "    raw_inputs = keras.preprocessing.sequence.pad_sequences(raw_inputs,\n",
    "                                                       value=word_to_index['<PAD>'],\n",
    "                                                       padding='pre',\n",
    "                                                       maxlen=5) \n",
    "    return word_to_index\n",
    "    #return X_train, y_train, X_test, y_test, word_to_index \n",
    "       \n",
    "\n",
    "   \n",
    "    \n",
    "#X_train, y_train, X_test, y_test, word_to_index = load_data(train_data, test_data)"
   ]
  },
  {
   "cell_type": "code",
   "execution_count": 34,
   "id": "vulnerable-british",
   "metadata": {},
   "outputs": [
    {
     "name": "stdout",
     "output_type": "stream",
     "text": [
      "최초크기: (150000, 3)\n",
      "중복제거 후 크기: (150000, 3)\n",
      "NaN제거 후 크기: (149995, 3)\n"
     ]
    }
   ],
   "source": [
    "dictionary = load_data(train_data, test_data)"
   ]
  },
  {
   "cell_type": "code",
   "execution_count": 35,
   "id": "offshore-bubble",
   "metadata": {
    "scrolled": true
   },
   "outputs": [
    {
     "data": {
      "text/plain": [
       "[('<PAD>', 0),\n",
       " ('<BOS>', 1),\n",
       " ('<UNK>', 2),\n",
       " ('#', 3),\n",
       " ('##들', 5),\n",
       " ('##잘봤어요', 7),\n",
       " ('#디워2', 9),\n",
       " ('#셀프디스', 11),\n",
       " ('$', 13),\n",
       " ('$$', 15),\n",
       " ('$2', 17),\n",
       " ('&', 19),\n",
       " ('&#', 21),\n",
       " ('&&', 23),\n",
       " ('*', 25),\n",
       " ('**', 27),\n",
       " ('***', 29),\n",
       " ('****', 31),\n",
       " ('************', 33),\n",
       " ('*_*', 35),\n",
       " ('+', 37),\n",
       " ('++', 39),\n",
       " ('++++', 41),\n",
       " ('++++++', 43),\n",
       " ('+_+', 45),\n",
       " ('+_=', 47),\n",
       " ('007년', 49),\n",
       " ('007시', 51),\n",
       " ('00년', 53),\n",
       " ('00시', 55),\n",
       " ('01년', 57),\n",
       " ('02년', 59),\n",
       " ('03년', 61),\n",
       " ('03분', 63),\n",
       " ('04년', 65),\n",
       " ('04월', 67),\n",
       " ('05년', 69),\n",
       " ('06년', 71),\n",
       " ('06월', 73),\n",
       " ('07년', 75),\n",
       " ('08년', 77),\n",
       " ('08일', 79),\n",
       " ('09년', 81),\n",
       " ('0원', 83),\n",
       " ('1000000000만', 85),\n",
       " ('10000원', 87),\n",
       " ('1000년', 89),\n",
       " ('1000만', 91),\n",
       " ('1000억', 93),\n",
       " ('1000억원', 95),\n",
       " ('1000원', 97),\n",
       " ('100년', 99),\n",
       " ('100만', 101),\n",
       " ('100만분', 103),\n",
       " ('100만원', 105),\n",
       " ('100분', 107),\n",
       " ('100억', 109),\n",
       " ('100원', 111),\n",
       " ('100일', 113),\n",
       " ('100회', 115),\n",
       " ('101분', 117),\n",
       " ('102분', 119),\n",
       " ('102회', 121),\n",
       " ('103분', 123),\n",
       " ('105분', 125),\n",
       " ('107분', 127),\n",
       " ('1083년', 129),\n",
       " ('109분', 131),\n",
       " ('10년', 133),\n",
       " ('10만', 135),\n",
       " ('10만원', 137),\n",
       " ('10분', 139),\n",
       " ('10시', 141),\n",
       " ('10억', 143),\n",
       " ('10원', 145),\n",
       " ('10월', 147),\n",
       " ('10위안', 149),\n",
       " ('10일', 151),\n",
       " ('10초', 153),\n",
       " ('10회', 155),\n",
       " ('11000원', 157),\n",
       " ('110분', 159),\n",
       " ('110원', 161),\n",
       " ('114분', 163),\n",
       " ('11년', 165),\n",
       " ('11등', 167),\n",
       " ('11분', 169),\n",
       " ('11시', 171),\n",
       " ('11억원', 173),\n",
       " ('11월', 175),\n",
       " ('11일', 177),\n",
       " ('11회', 179),\n",
       " ('1200달러', 181),\n",
       " ('1200만', 183),\n",
       " ('1200원', 185),\n",
       " ('120만', 187),\n",
       " ('120분', 189),\n",
       " ('120억', 191),\n",
       " ('120일', 193),\n",
       " ('120회', 195)]"
      ]
     },
     "execution_count": 35,
     "metadata": {},
     "output_type": "execute_result"
    }
   ],
   "source": [
    "list(dictionary.items())[:100]"
   ]
  },
  {
   "cell_type": "code",
   "execution_count": null,
   "id": "atlantic-valley",
   "metadata": {},
   "outputs": [],
   "source": []
  }
 ],
 "metadata": {
  "kernelspec": {
   "display_name": "Python 3",
   "language": "python",
   "name": "python3"
  },
  "language_info": {
   "codemirror_mode": {
    "name": "ipython",
    "version": 3
   },
   "file_extension": ".py",
   "mimetype": "text/x-python",
   "name": "python",
   "nbconvert_exporter": "python",
   "pygments_lexer": "ipython3",
   "version": "3.7.9"
  }
 },
 "nbformat": 4,
 "nbformat_minor": 5
}
