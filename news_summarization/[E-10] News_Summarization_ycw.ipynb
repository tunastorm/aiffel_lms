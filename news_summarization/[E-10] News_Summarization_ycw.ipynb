{
 "cells": [
  {
   "cell_type": "markdown",
   "id": "celtic-velvet",
   "metadata": {},
   "source": [
    "## 0. 모듈임포트\n",
    "-----"
   ]
  },
  {
   "cell_type": "code",
   "execution_count": 4,
   "id": "valued-engagement",
   "metadata": {},
   "outputs": [],
   "source": [
    "import nltk\n",
    "import numpy as np\n",
    "import pandas as pd\n",
    "import matplotlib.pyplot as plt\n",
    "import multiprocessing as mp  \n",
    "import urllib.request\n",
    "import os\n",
    "import re\n",
    "import time\n",
    "\n",
    "from nltk.corpus import stopwords\n",
    "from bs4 import BeautifulSoup \n",
    "from tensorflow.keras.preprocessing.text import Tokenizer \n",
    "from tensorflow.keras.preprocessing.sequence import pad_sequences\n",
    "from multiprocessing import Pool\n",
    "from functools import partial "
   ]
  },
  {
   "cell_type": "markdown",
   "id": "intensive-diagnosis",
   "metadata": {},
   "source": [
    "## 1. 데이터 준비 및 전처리\n",
    "-----"
   ]
  },
  {
   "cell_type": "markdown",
   "id": "moving-drove",
   "metadata": {},
   "source": [
    "### 데이터 준비"
   ]
  },
  {
   "cell_type": "markdown",
   "id": "ahead-bailey",
   "metadata": {},
   "source": [
    "#### 데이터 불러오기"
   ]
  },
  {
   "cell_type": "code",
   "execution_count": 7,
   "id": "improving-while",
   "metadata": {},
   "outputs": [
    {
     "data": {
      "text/html": [
       "<div>\n",
       "<style scoped>\n",
       "    .dataframe tbody tr th:only-of-type {\n",
       "        vertical-align: middle;\n",
       "    }\n",
       "\n",
       "    .dataframe tbody tr th {\n",
       "        vertical-align: top;\n",
       "    }\n",
       "\n",
       "    .dataframe thead th {\n",
       "        text-align: right;\n",
       "    }\n",
       "</style>\n",
       "<table border=\"1\" class=\"dataframe\">\n",
       "  <thead>\n",
       "    <tr style=\"text-align: right;\">\n",
       "      <th></th>\n",
       "      <th>headlines</th>\n",
       "      <th>text</th>\n",
       "    </tr>\n",
       "  </thead>\n",
       "  <tbody>\n",
       "    <tr>\n",
       "      <th>0</th>\n",
       "      <td>upGrad learner switches to career in ML &amp; Al w...</td>\n",
       "      <td>Saurav Kant, an alumnus of upGrad and IIIT-B's...</td>\n",
       "    </tr>\n",
       "    <tr>\n",
       "      <th>1</th>\n",
       "      <td>Delhi techie wins free food from Swiggy for on...</td>\n",
       "      <td>Kunal Shah's credit card bill payment platform...</td>\n",
       "    </tr>\n",
       "    <tr>\n",
       "      <th>2</th>\n",
       "      <td>New Zealand end Rohit Sharma-led India's 12-ma...</td>\n",
       "      <td>New Zealand defeated India by 8 wickets in the...</td>\n",
       "    </tr>\n",
       "    <tr>\n",
       "      <th>3</th>\n",
       "      <td>Aegon life iTerm insurance plan helps customer...</td>\n",
       "      <td>With Aegon Life iTerm Insurance plan, customer...</td>\n",
       "    </tr>\n",
       "    <tr>\n",
       "      <th>4</th>\n",
       "      <td>Have known Hirani for yrs, what if MeToo claim...</td>\n",
       "      <td>Speaking about the sexual harassment allegatio...</td>\n",
       "    </tr>\n",
       "    <tr>\n",
       "      <th>...</th>\n",
       "      <td>...</td>\n",
       "      <td>...</td>\n",
       "    </tr>\n",
       "    <tr>\n",
       "      <th>98396</th>\n",
       "      <td>CRPF jawan axed to death by Maoists in Chhatti...</td>\n",
       "      <td>A CRPF jawan was on Tuesday axed to death with...</td>\n",
       "    </tr>\n",
       "    <tr>\n",
       "      <th>98397</th>\n",
       "      <td>First song from Sonakshi Sinha's 'Noor' titled...</td>\n",
       "      <td>'Uff Yeh', the first song from the Sonakshi Si...</td>\n",
       "    </tr>\n",
       "    <tr>\n",
       "      <th>98398</th>\n",
       "      <td>'The Matrix' film to get a reboot: Reports</td>\n",
       "      <td>According to reports, a new version of the 199...</td>\n",
       "    </tr>\n",
       "    <tr>\n",
       "      <th>98399</th>\n",
       "      <td>Snoop Dogg aims gun at clown dressed as Trump ...</td>\n",
       "      <td>A new music video shows rapper Snoop Dogg aimi...</td>\n",
       "    </tr>\n",
       "    <tr>\n",
       "      <th>98400</th>\n",
       "      <td>Madhesi Morcha withdraws support to Nepalese g...</td>\n",
       "      <td>Madhesi Morcha, an alliance of seven political...</td>\n",
       "    </tr>\n",
       "  </tbody>\n",
       "</table>\n",
       "<p>98401 rows × 2 columns</p>\n",
       "</div>"
      ],
      "text/plain": [
       "                                               headlines  \\\n",
       "0      upGrad learner switches to career in ML & Al w...   \n",
       "1      Delhi techie wins free food from Swiggy for on...   \n",
       "2      New Zealand end Rohit Sharma-led India's 12-ma...   \n",
       "3      Aegon life iTerm insurance plan helps customer...   \n",
       "4      Have known Hirani for yrs, what if MeToo claim...   \n",
       "...                                                  ...   \n",
       "98396  CRPF jawan axed to death by Maoists in Chhatti...   \n",
       "98397  First song from Sonakshi Sinha's 'Noor' titled...   \n",
       "98398         'The Matrix' film to get a reboot: Reports   \n",
       "98399  Snoop Dogg aims gun at clown dressed as Trump ...   \n",
       "98400  Madhesi Morcha withdraws support to Nepalese g...   \n",
       "\n",
       "                                                    text  \n",
       "0      Saurav Kant, an alumnus of upGrad and IIIT-B's...  \n",
       "1      Kunal Shah's credit card bill payment platform...  \n",
       "2      New Zealand defeated India by 8 wickets in the...  \n",
       "3      With Aegon Life iTerm Insurance plan, customer...  \n",
       "4      Speaking about the sexual harassment allegatio...  \n",
       "...                                                  ...  \n",
       "98396  A CRPF jawan was on Tuesday axed to death with...  \n",
       "98397  'Uff Yeh', the first song from the Sonakshi Si...  \n",
       "98398  According to reports, a new version of the 199...  \n",
       "98399  A new music video shows rapper Snoop Dogg aimi...  \n",
       "98400  Madhesi Morcha, an alliance of seven political...  \n",
       "\n",
       "[98401 rows x 2 columns]"
      ]
     },
     "execution_count": 7,
     "metadata": {},
     "output_type": "execute_result"
    }
   ],
   "source": [
    "urllib.request.urlretrieve(\"https://raw.githubusercontent.com/sunnysai12345/News_Summary/master/news_summary_more.csv\", filename=\"news_summary_more.csv\")\n",
    "data = pd.read_csv('news_summary_more.csv', encoding='iso-8859-1')\n",
    "data"
   ]
  },
  {
   "cell_type": "markdown",
   "id": "ranking-translator",
   "metadata": {},
   "source": [
    "98401개의 데이터를 갖고 있다."
   ]
  },
  {
   "cell_type": "code",
   "execution_count": 8,
   "id": "indoor-establishment",
   "metadata": {},
   "outputs": [
    {
     "data": {
      "text/plain": [
       "'upGrad learner switches to career in ML & Al with 90% salary hike'"
      ]
     },
     "execution_count": 8,
     "metadata": {},
     "output_type": "execute_result"
    }
   ],
   "source": [
    "data['headlines'][0]"
   ]
  },
  {
   "cell_type": "code",
   "execution_count": 9,
   "id": "parental-motel",
   "metadata": {},
   "outputs": [
    {
     "data": {
      "text/plain": [
       "\"Saurav Kant, an alumnus of upGrad and IIIT-B's PG Program in Machine learning and Artificial Intelligence, was a Sr Systems Engineer at Infosys with almost 5 years of work experience. The program and upGrad's 360-degree career support helped him transition to a Data Scientist at Tech Mahindra with 90% salary hike. upGrad's Online Power Learning has powered 3 lakh+ careers.\""
      ]
     },
     "execution_count": 9,
     "metadata": {},
     "output_type": "execute_result"
    }
   ],
   "source": [
    "data['text'][0]"
   ]
  },
  {
   "cell_type": "markdown",
   "id": "buried-nursing",
   "metadata": {},
   "source": [
    "#### 중복샘플 유무 확인"
   ]
  },
  {
   "cell_type": "code",
   "execution_count": 10,
   "id": "typical-computer",
   "metadata": {},
   "outputs": [
    {
     "name": "stdout",
     "output_type": "stream",
     "text": [
      "Text 열에서 중복을 배제한 유일한 샘플의 수 : 98360\n",
      "Summary 열에서 중복을 배제한 유일한 샘플의 수 : 98280\n"
     ]
    }
   ],
   "source": [
    "print('Text 열에서 중복을 배제한 유일한 샘플의 수 :', data['text'].nunique())\n",
    "print('Summary 열에서 중복을 배제한 유일한 샘플의 수 :', data['headlines'].nunique())"
   ]
  },
  {
   "cell_type": "markdown",
   "id": "substantial-specific",
   "metadata": {},
   "source": [
    "#### 중복데이터 제거"
   ]
  },
  {
   "cell_type": "code",
   "execution_count": 11,
   "id": "former-farming",
   "metadata": {},
   "outputs": [
    {
     "name": "stdout",
     "output_type": "stream",
     "text": [
      "전체 샘플수 : 98360\n"
     ]
    }
   ],
   "source": [
    "data.drop_duplicates(subset = ['text'], inplace=True)\n",
    "print('전체 샘플수 :', (len(data)))"
   ]
  },
  {
   "cell_type": "markdown",
   "id": "attempted-skill",
   "metadata": {},
   "source": [
    "#### Null 유무확인 "
   ]
  },
  {
   "cell_type": "code",
   "execution_count": 12,
   "id": "hybrid-giant",
   "metadata": {},
   "outputs": [
    {
     "name": "stdout",
     "output_type": "stream",
     "text": [
      "headlines    0\n",
      "text         0\n",
      "dtype: int64\n"
     ]
    }
   ],
   "source": [
    "print(data.isnull().sum())"
   ]
  },
  {
   "cell_type": "markdown",
   "id": "cooked-composer",
   "metadata": {},
   "source": [
    "Null 데이터는 없는 것으로 확인되었다."
   ]
  },
  {
   "cell_type": "markdown",
   "id": "physical-circulation",
   "metadata": {},
   "source": [
    "### 텍스트 정규화 및 불용어 처리"
   ]
  },
  {
   "cell_type": "markdown",
   "id": "present-annex",
   "metadata": {},
   "source": [
    "#### 정규화사전 정의"
   ]
  },
  {
   "cell_type": "code",
   "execution_count": 13,
   "id": "swiss-console",
   "metadata": {},
   "outputs": [
    {
     "name": "stdout",
     "output_type": "stream",
     "text": [
      "정규화 사전의 수:  120\n"
     ]
    }
   ],
   "source": [
    "contractions = {\"ain't\": \"is not\", \"aren't\": \"are not\",\"can't\": \"cannot\", \"'cause\": \"because\", \"could've\": \"could have\", \"couldn't\": \"could not\",\n",
    "                           \"didn't\": \"did not\",  \"doesn't\": \"does not\", \"don't\": \"do not\", \"hadn't\": \"had not\", \"hasn't\": \"has not\", \"haven't\": \"have not\",\n",
    "                           \"he'd\": \"he would\",\"he'll\": \"he will\", \"he's\": \"he is\", \"how'd\": \"how did\", \"how'd'y\": \"how do you\", \"how'll\": \"how will\", \"how's\": \"how is\",\n",
    "                           \"I'd\": \"I would\", \"I'd've\": \"I would have\", \"I'll\": \"I will\", \"I'll've\": \"I will have\",\"I'm\": \"I am\", \"I've\": \"I have\", \"i'd\": \"i would\",\n",
    "                           \"i'd've\": \"i would have\", \"i'll\": \"i will\",  \"i'll've\": \"i will have\",\"i'm\": \"i am\", \"i've\": \"i have\", \"isn't\": \"is not\", \"it'd\": \"it would\",\n",
    "                           \"it'd've\": \"it would have\", \"it'll\": \"it will\", \"it'll've\": \"it will have\",\"it's\": \"it is\", \"let's\": \"let us\", \"ma'am\": \"madam\",\n",
    "                           \"mayn't\": \"may not\", \"might've\": \"might have\",\"mightn't\": \"might not\",\"mightn't've\": \"might not have\", \"must've\": \"must have\",\n",
    "                           \"mustn't\": \"must not\", \"mustn't've\": \"must not have\", \"needn't\": \"need not\", \"needn't've\": \"need not have\",\"o'clock\": \"of the clock\",\n",
    "                           \"oughtn't\": \"ought not\", \"oughtn't've\": \"ought not have\", \"shan't\": \"shall not\", \"sha'n't\": \"shall not\", \"shan't've\": \"shall not have\",\n",
    "                           \"she'd\": \"she would\", \"she'd've\": \"she would have\", \"she'll\": \"she will\", \"she'll've\": \"she will have\", \"she's\": \"she is\",\n",
    "                           \"should've\": \"should have\", \"shouldn't\": \"should not\", \"shouldn't've\": \"should not have\", \"so've\": \"so have\",\"so's\": \"so as\",\n",
    "                           \"this's\": \"this is\",\"that'd\": \"that would\", \"that'd've\": \"that would have\", \"that's\": \"that is\", \"there'd\": \"there would\",\n",
    "                           \"there'd've\": \"there would have\", \"there's\": \"there is\", \"here's\": \"here is\",\"they'd\": \"they would\", \"they'd've\": \"they would have\",\n",
    "                           \"they'll\": \"they will\", \"they'll've\": \"they will have\", \"they're\": \"they are\", \"they've\": \"they have\", \"to've\": \"to have\",\n",
    "                           \"wasn't\": \"was not\", \"we'd\": \"we would\", \"we'd've\": \"we would have\", \"we'll\": \"we will\", \"we'll've\": \"we will have\", \"we're\": \"we are\",\n",
    "                           \"we've\": \"we have\", \"weren't\": \"were not\", \"what'll\": \"what will\", \"what'll've\": \"what will have\", \"what're\": \"what are\",\n",
    "                           \"what's\": \"what is\", \"what've\": \"what have\", \"when's\": \"when is\", \"when've\": \"when have\", \"where'd\": \"where did\", \"where's\": \"where is\",\n",
    "                           \"where've\": \"where have\", \"who'll\": \"who will\", \"who'll've\": \"who will have\", \"who's\": \"who is\", \"who've\": \"who have\",\n",
    "                           \"why's\": \"why is\", \"why've\": \"why have\", \"will've\": \"will have\", \"won't\": \"will not\", \"won't've\": \"will not have\",\n",
    "                           \"would've\": \"would have\", \"wouldn't\": \"would not\", \"wouldn't've\": \"would not have\", \"y'all\": \"you all\",\n",
    "                           \"y'all'd\": \"you all would\",\"y'all'd've\": \"you all would have\",\"y'all're\": \"you all are\",\"y'all've\": \"you all have\",\n",
    "                           \"you'd\": \"you would\", \"you'd've\": \"you would have\", \"you'll\": \"you will\", \"you'll've\": \"you will have\",\n",
    "                           \"you're\": \"you are\", \"you've\": \"you have\"}\n",
    "\n",
    "print(\"정규화 사전의 수: \", len(contractions))"
   ]
  },
  {
   "cell_type": "markdown",
   "id": "special-status",
   "metadata": {},
   "source": [
    "#### NLTK 불용어 리스트 가져오기"
   ]
  },
  {
   "cell_type": "code",
   "execution_count": 14,
   "id": "engaging-oakland",
   "metadata": {},
   "outputs": [
    {
     "name": "stdout",
     "output_type": "stream",
     "text": [
      "불용어 개수 : 179\n",
      "['i', 'me', 'my', 'myself', 'we', 'our', 'ours', 'ourselves', 'you', \"you're\", \"you've\", \"you'll\", \"you'd\", 'your', 'yours', 'yourself', 'yourselves', 'he', 'him', 'his', 'himself', 'she', \"she's\", 'her', 'hers', 'herself', 'it', \"it's\", 'its', 'itself', 'they', 'them', 'their', 'theirs', 'themselves', 'what', 'which', 'who', 'whom', 'this', 'that', \"that'll\", 'these', 'those', 'am', 'is', 'are', 'was', 'were', 'be', 'been', 'being', 'have', 'has', 'had', 'having', 'do', 'does', 'did', 'doing', 'a', 'an', 'the', 'and', 'but', 'if', 'or', 'because', 'as', 'until', 'while', 'of', 'at', 'by', 'for', 'with', 'about', 'against', 'between', 'into', 'through', 'during', 'before', 'after', 'above', 'below', 'to', 'from', 'up', 'down', 'in', 'out', 'on', 'off', 'over', 'under', 'again', 'further', 'then', 'once', 'here', 'there', 'when', 'where', 'why', 'how', 'all', 'any', 'both', 'each', 'few', 'more', 'most', 'other', 'some', 'such', 'no', 'nor', 'not', 'only', 'own', 'same', 'so', 'than', 'too', 'very', 's', 't', 'can', 'will', 'just', 'don', \"don't\", 'should', \"should've\", 'now', 'd', 'll', 'm', 'o', 're', 've', 'y', 'ain', 'aren', \"aren't\", 'couldn', \"couldn't\", 'didn', \"didn't\", 'doesn', \"doesn't\", 'hadn', \"hadn't\", 'hasn', \"hasn't\", 'haven', \"haven't\", 'isn', \"isn't\", 'ma', 'mightn', \"mightn't\", 'mustn', \"mustn't\", 'needn', \"needn't\", 'shan', \"shan't\", 'shouldn', \"shouldn't\", 'wasn', \"wasn't\", 'weren', \"weren't\", 'won', \"won't\", 'wouldn', \"wouldn't\"]\n"
     ]
    },
    {
     "name": "stderr",
     "output_type": "stream",
     "text": [
      "[nltk_data] Downloading package stopwords to /aiffel/nltk_data...\n",
      "[nltk_data]   Unzipping corpora/stopwords.zip.\n"
     ]
    }
   ],
   "source": [
    "nltk.download('stopwords')\n",
    "print('불용어 개수 :', len(stopwords.words('english') ))\n",
    "print(stopwords.words('english'))"
   ]
  },
  {
   "cell_type": "markdown",
   "id": "activated-attention",
   "metadata": {},
   "source": [
    "#### 데이터 전처리 함수 정의 "
   ]
  },
  {
   "cell_type": "code",
   "execution_count": 15,
   "id": "prostate-lyric",
   "metadata": {},
   "outputs": [],
   "source": [
    "def preprocess_sentence(sentence, remove_stopwords=True):\n",
    "    sentence = sentence.lower() # 텍스트 소문자화\n",
    "    sentence = BeautifulSoup(sentence, \"lxml\").text # <br />, <a href = ...> 등의 html 태그 제거\n",
    "    sentence = re.sub(r'\\([^)]*\\)', '', sentence) # 괄호로 닫힌 문자열 (...) 제거 Ex) my husband (and myself!) for => my husband for\n",
    "    sentence = re.sub('\"','', sentence) # 쌍따옴표 \" 제거\n",
    "    sentence = ' '.join([contractions[t] if t in contractions else t for t in sentence.split(\" \")]) # 약어 정규화\n",
    "    sentence = re.sub(r\"'s\\b\",\"\", sentence) # 소유격 제거. Ex) roland's -> roland\n",
    "    sentence = re.sub(\"[^a-zA-Z]\", \" \", sentence) # 영어 외 문자(숫자, 특수문자 등) 공백으로 변환\n",
    "    sentence = re.sub('[m]{2,}', 'mm', sentence) # m이 3개 이상이면 2개로 변경. Ex) ummmmmmm yeah -> umm yeah\n",
    "    \n",
    "    # 불용어 제거 (text)\n",
    "    if remove_stopwords:\n",
    "        tokens = ' '.join(word for word in sentence.split() if not word in stopwords.words('english') if len(word) > 1)\n",
    "    # 불용어 미제거 (headlines)\n",
    "    else:\n",
    "        tokens = ' '.join(word for word in sentence.split() if len(word) > 1)\n",
    "    return tokens"
   ]
  },
  {
   "cell_type": "markdown",
   "id": "driven-variation",
   "metadata": {},
   "source": [
    "#### 데이터 전처리 - 멀티프로세싱"
   ]
  },
  {
   "cell_type": "code",
   "execution_count": 16,
   "id": "second-action",
   "metadata": {},
   "outputs": [],
   "source": [
    "# num_cores 만큼 쪼개진 데이터를 전처리하여 반환합니다\n",
    "def appendTexts(sentences, remove_stopwords):\n",
    "    texts = []\n",
    "    for s in sentences:\n",
    "        texts += preprocess_sentence(s, remove_stopwords),\n",
    "    return texts\n",
    "\n",
    "def preprocess_data(data, remove_stopwords=True):\n",
    "    start_time = time.time()\n",
    "    num_cores = mp.cpu_count()  # 컴퓨터의 코어 수를 구합니다\n",
    "\n",
    "    text_data_split = np.array_split(data, num_cores)  # 코어 수만큼 데이터를 배분하여 병렬적으로 처리할 수 있게 합니다\n",
    "    pool = Pool(num_cores)\n",
    "\n",
    "    processed_data = np.concatenate(pool.map(partial(appendTexts, remove_stopwords=remove_stopwords), text_data_split))  # 각자 작업한 데이터를 하나로 합쳐줍니다\n",
    "    pool.close()\n",
    "    pool.join()\n",
    "    print('<End_time>', time.time() - start_time, \"seconds\")\n",
    "    return processed_data"
   ]
  },
  {
   "cell_type": "code",
   "execution_count": 17,
   "id": "thick-amsterdam",
   "metadata": {},
   "outputs": [
    {
     "name": "stdout",
     "output_type": "stream",
     "text": [
      "<End_time> 184.8411796092987 seconds\n",
      "['saurav kant alumnus upgrad iiit pg program machine learning artificial intelligence sr systems engineer infosys almost years work experience program upgrad degree career support helped transition data scientist tech mahindra salary hike upgrad online power learning powered lakh careers'\n",
      " 'kunal shah credit card bill payment platform cred gave users chance win free food swiggy one year pranav kaushik delhi techie bagged reward spending cred coins users get one cred coin per rupee bill paid used avail rewards brands like ixigo bookmyshow ubereats cult fit'\n",
      " 'new zealand defeated india wickets fourth odi hamilton thursday win first match five match odi series india lost international match rohit sharma captaincy consecutive victories dating back march match witnessed india getting seventh lowest total odi cricket history'\n",
      " ...\n",
      " 'according reports new version science fiction film matrix development michael jordan reportedly play lead role film screenwriter zak penn talks write script film reports added actor keanu reeves starred original film followed two sequels'\n",
      " 'new music video shows rapper snoop dogg aiming toy gun clown character parodying us president donald trump video also shows tv airing news conference headline ronald klump wants deport doggs airing live clown house video remixed version song lavender'\n",
      " 'madhesi morcha alliance seven political parties withdrawn support pm pushpa kamal dahal led nepal government failed meet seven day ultimatum fulfil demands including endorsement revised constitution amendment bill morcha seats parliament despite withdrawal support immediate threat government']\n",
      "<End_time> 5.97148323059082 seconds\n",
      "['upgrad learner switches to career in ml al with salary hike'\n",
      " 'delhi techie wins free food from swiggy for one year on cred'\n",
      " 'new zealand end rohit sharma led india match winning streak' ...\n",
      " 'the matrix film to get reboot reports'\n",
      " 'snoop dogg aims gun at clown dressed as trump in new video'\n",
      " 'madhesi morcha withdraws support to nepalese government']\n"
     ]
    }
   ],
   "source": [
    "clean_text = preprocess_data(data['text'])  \n",
    "print(clean_text)\n",
    "\n",
    "clean_summary = preprocess_data(data['headlines'], remove_stopwords=False) \n",
    "print(clean_summary)"
   ]
  },
  {
   "cell_type": "markdown",
   "id": "early-blackjack",
   "metadata": {},
   "source": [
    "### 샘플의 최대길이 설정\n",
    "\n",
    "#### 모델 길이분포"
   ]
  },
  {
   "cell_type": "code",
   "execution_count": 19,
   "id": "flush-union",
   "metadata": {},
   "outputs": [
    {
     "name": "stdout",
     "output_type": "stream",
     "text": [
      "텍스트의 최소 길이 : 1\n",
      "텍스트의 최대 길이 : 91\n",
      "텍스트의 평균 길이 : 58.23813542090281\n",
      "요약의 최소 길이 : 1\n",
      "요약의 최대 길이 : 18\n",
      "요약의 평균 길이 : 9.553660024400163\n"
     ]
    },
    {
     "data": {
      "image/png": "[encoded data removed]",
      "text/plain": [
       "<Figure size 432x288 with 2 Axes>"
      ]
     },
     "metadata": {
      "needs_background": "light"
     },
     "output_type": "display_data"
    },
    {
     "data": {
      "image/png": "[encoded data removed]",
      "text/plain": [
       "<Figure size 432x288 with 1 Axes>"
      ]
     },
     "metadata": {
      "needs_background": "light"
     },
     "output_type": "display_data"
    },
    {
     "data": {
      "image/png": "[encoded data removed]",
      "text/plain": [
       "<Figure size 432x288 with 1 Axes>"
      ]
     },
     "metadata": {
      "needs_background": "light"
     },
     "output_type": "display_data"
    }
   ],
   "source": [
    "import matplotlib.pyplot as plt\n",
    "\n",
    "text_len = [len(s.split()) for s in data['text']]\n",
    "headlines_len = [len(s.split()) for s in data['headlines']]\n",
    "\n",
    "print('텍스트의 최소 길이 : {}'.format(np.min(text_len)))\n",
    "print('텍스트의 최대 길이 : {}'.format(np.max(text_len)))\n",
    "print('텍스트의 평균 길이 : {}'.format(np.mean(text_len)))\n",
    "print('요약의 최소 길이 : {}'.format(np.min(headlines_len)))\n",
    "print('요약의 최대 길이 : {}'.format(np.max(headlines_len)))\n",
    "print('요약의 평균 길이 : {}'.format(np.mean(headlines_len)))\n",
    "\n",
    "plt.subplot(1,2,1)\n",
    "plt.boxplot(headlines_len)\n",
    "plt.title('headlines')\n",
    "plt.subplot(1,2,2)\n",
    "plt.boxplot(text_len)\n",
    "plt.title('text')\n",
    "plt.tight_layout()\n",
    "plt.show()\n",
    "\n",
    "plt.title('headlines')\n",
    "plt.hist(headlines_len, bins = 40)\n",
    "plt.xlabel('length of samples')\n",
    "plt.ylabel('number of samples')\n",
    "plt.show()\n",
    "\n",
    "plt.title('text')\n",
    "plt.hist(text_len, bins = 40)\n",
    "plt.xlabel('length of samples')\n",
    "plt.ylabel('number of samples')\n",
    "plt.show()"
   ]
  },
  {
   "cell_type": "markdown",
   "id": "polyphonic-secretary",
   "metadata": {},
   "source": [
    "#### text와 headlines 최대 길이 설정"
   ]
  },
  {
   "cell_type": "code",
   "execution_count": 20,
   "id": "bound-potato",
   "metadata": {},
   "outputs": [],
   "source": [
    "text_max_len = 60\n",
    "headlines_max_len = 12"
   ]
  },
  {
   "cell_type": "markdown",
   "id": "opened-connecticut",
   "metadata": {},
   "source": [
    "#### 전체 데이터중 최대길이 이하힌 데이터의 비율 구하는 함수 "
   ]
  },
  {
   "cell_type": "code",
   "execution_count": 21,
   "id": "skilled-trigger",
   "metadata": {},
   "outputs": [],
   "source": [
    "def below_threshold_len(max_len, nested_list):\n",
    "  cnt = 0\n",
    "  for s in nested_list:\n",
    "    if(len(s.split()) <= max_len):\n",
    "        cnt = cnt + 1\n",
    "  print('전체 샘플 중 길이가 %s 이하인 샘플의 비율: %s'%(max_len, (cnt / len(nested_list))))"
   ]
  },
  {
   "cell_type": "code",
   "execution_count": 22,
   "id": "remarkable-invitation",
   "metadata": {},
   "outputs": [
    {
     "name": "stdout",
     "output_type": "stream",
     "text": [
      "전체 샘플 중 길이가 60 이하인 샘플의 비율: 0.997448149654331\n",
      "전체 샘플 중 길이가 12 이하인 샘플의 비율: 0.9768198454656364\n"
     ]
    }
   ],
   "source": [
    "below_threshold_len(text_max_len, data['text'])\n",
    "below_threshold_len(headlines_max_len,  data['headlines'])"
   ]
  },
  {
   "cell_type": "markdown",
   "id": "amateur-underground",
   "metadata": {},
   "source": [
    "#### 최대길이 초과하는 데이터 제거"
   ]
  },
  {
   "cell_type": "code",
   "execution_count": 23,
   "id": "described-notice",
   "metadata": {},
   "outputs": [
    {
     "name": "stdout",
     "output_type": "stream",
     "text": [
      "전체 샘플수 : 95838\n"
     ]
    }
   ],
   "source": [
    "data = data[data['text'].apply(lambda x: len(x.split()) <= text_max_len)]\n",
    "data = data[data['headlines'].apply(lambda x: len(x.split()) <= headlines_max_len)]\n",
    "print('전체 샘플수 :', (len(data)))"
   ]
  },
  {
   "cell_type": "markdown",
   "id": "chicken-leader",
   "metadata": {},
   "source": [
    "### 시작토큰과 종료토큰 추가"
   ]
  },
  {
   "cell_type": "markdown",
   "id": "complex-salem",
   "metadata": {},
   "source": [
    "####  headlines에 시작 토큰과 종료 토큰 추가"
   ]
  },
  {
   "cell_type": "code",
   "execution_count": 24,
   "id": "imperial-sight",
   "metadata": {},
   "outputs": [
    {
     "data": {
      "text/html": [
       "<div>\n",
       "<style scoped>\n",
       "    .dataframe tbody tr th:only-of-type {\n",
       "        vertical-align: middle;\n",
       "    }\n",
       "\n",
       "    .dataframe tbody tr th {\n",
       "        vertical-align: top;\n",
       "    }\n",
       "\n",
       "    .dataframe thead th {\n",
       "        text-align: right;\n",
       "    }\n",
       "</style>\n",
       "<table border=\"1\" class=\"dataframe\">\n",
       "  <thead>\n",
       "    <tr style=\"text-align: right;\">\n",
       "      <th></th>\n",
       "      <th>headlines</th>\n",
       "      <th>text</th>\n",
       "      <th>decoder_input</th>\n",
       "      <th>decoder_target</th>\n",
       "    </tr>\n",
       "  </thead>\n",
       "  <tbody>\n",
       "    <tr>\n",
       "      <th>1</th>\n",
       "      <td>Delhi techie wins free food from Swiggy for on...</td>\n",
       "      <td>Kunal Shah's credit card bill payment platform...</td>\n",
       "      <td>sostoken Delhi techie wins free food from Swig...</td>\n",
       "      <td>Delhi techie wins free food from Swiggy for on...</td>\n",
       "    </tr>\n",
       "    <tr>\n",
       "      <th>2</th>\n",
       "      <td>New Zealand end Rohit Sharma-led India's 12-ma...</td>\n",
       "      <td>New Zealand defeated India by 8 wickets in the...</td>\n",
       "      <td>sostoken New Zealand end Rohit Sharma-led Indi...</td>\n",
       "      <td>New Zealand end Rohit Sharma-led India's 12-ma...</td>\n",
       "    </tr>\n",
       "    <tr>\n",
       "      <th>3</th>\n",
       "      <td>Aegon life iTerm insurance plan helps customer...</td>\n",
       "      <td>With Aegon Life iTerm Insurance plan, customer...</td>\n",
       "      <td>sostoken Aegon life iTerm insurance plan helps...</td>\n",
       "      <td>Aegon life iTerm insurance plan helps customer...</td>\n",
       "    </tr>\n",
       "    <tr>\n",
       "      <th>5</th>\n",
       "      <td>Rahat Fateh Ali Khan denies getting notice for...</td>\n",
       "      <td>Pakistani singer Rahat Fateh Ali Khan has deni...</td>\n",
       "      <td>sostoken Rahat Fateh Ali Khan denies getting n...</td>\n",
       "      <td>Rahat Fateh Ali Khan denies getting notice for...</td>\n",
       "    </tr>\n",
       "    <tr>\n",
       "      <th>7</th>\n",
       "      <td>Govt directs Alok Verma to join work 1 day bef...</td>\n",
       "      <td>Weeks after ex-CBI Director Alok Verma told th...</td>\n",
       "      <td>sostoken Govt directs Alok Verma to join work ...</td>\n",
       "      <td>Govt directs Alok Verma to join work 1 day bef...</td>\n",
       "    </tr>\n",
       "  </tbody>\n",
       "</table>\n",
       "</div>"
      ],
      "text/plain": [
       "                                           headlines  \\\n",
       "1  Delhi techie wins free food from Swiggy for on...   \n",
       "2  New Zealand end Rohit Sharma-led India's 12-ma...   \n",
       "3  Aegon life iTerm insurance plan helps customer...   \n",
       "5  Rahat Fateh Ali Khan denies getting notice for...   \n",
       "7  Govt directs Alok Verma to join work 1 day bef...   \n",
       "\n",
       "                                                text  \\\n",
       "1  Kunal Shah's credit card bill payment platform...   \n",
       "2  New Zealand defeated India by 8 wickets in the...   \n",
       "3  With Aegon Life iTerm Insurance plan, customer...   \n",
       "5  Pakistani singer Rahat Fateh Ali Khan has deni...   \n",
       "7  Weeks after ex-CBI Director Alok Verma told th...   \n",
       "\n",
       "                                       decoder_input  \\\n",
       "1  sostoken Delhi techie wins free food from Swig...   \n",
       "2  sostoken New Zealand end Rohit Sharma-led Indi...   \n",
       "3  sostoken Aegon life iTerm insurance plan helps...   \n",
       "5  sostoken Rahat Fateh Ali Khan denies getting n...   \n",
       "7  sostoken Govt directs Alok Verma to join work ...   \n",
       "\n",
       "                                      decoder_target  \n",
       "1  Delhi techie wins free food from Swiggy for on...  \n",
       "2  New Zealand end Rohit Sharma-led India's 12-ma...  \n",
       "3  Aegon life iTerm insurance plan helps customer...  \n",
       "5  Rahat Fateh Ali Khan denies getting notice for...  \n",
       "7  Govt directs Alok Verma to join work 1 day bef...  "
      ]
     },
     "execution_count": 24,
     "metadata": {},
     "output_type": "execute_result"
    }
   ],
   "source": [
    "data['decoder_input'] = data['headlines'].apply(lambda x : 'sostoken '+ x)\n",
    "data['decoder_target'] = data['headlines'].apply(lambda x : x + ' eostoken')\n",
    "data.head()"
   ]
  },
  {
   "cell_type": "markdown",
   "id": "noticed-bookmark",
   "metadata": {},
   "source": [
    "#### 인코더의 입력 및 디코더의 입력과 레이블 각각 Numpy 타입으로 저장"
   ]
  },
  {
   "cell_type": "code",
   "execution_count": 25,
   "id": "native-basket",
   "metadata": {},
   "outputs": [],
   "source": [
    "encoder_input = np.array(data['text']) # 인코더의 입력\n",
    "decoder_input = np.array(data['decoder_input']) # 디코더의 입력\n",
    "decoder_target = np.array(data['decoder_target']) # 디코더의 레이블"
   ]
  },
  {
   "cell_type": "markdown",
   "id": "portuguese-density",
   "metadata": {},
   "source": [
    "### 훈련데이터와 테스트 데이터 분리"
   ]
  },
  {
   "cell_type": "markdown",
   "id": "collaborative-paint",
   "metadata": {},
   "source": [
    "#### encoder_input과 크기, 형태 같은 정수 시퀀스 생성"
   ]
  },
  {
   "cell_type": "code",
   "execution_count": 26,
   "id": "surface-webcam",
   "metadata": {},
   "outputs": [
    {
     "name": "stdout",
     "output_type": "stream",
     "text": [
      "[94817 33507  1012 ... 31380 76946 90274]\n"
     ]
    }
   ],
   "source": [
    "indices = np.arange(encoder_input.shape[0])\n",
    "np.random.shuffle(indices)\n",
    "print(indices)"
   ]
  },
  {
   "cell_type": "markdown",
   "id": "intensive-trial",
   "metadata": {},
   "source": [
    "#### 생성한 정수시퀀스 이용해 샘플의 순서 섞기"
   ]
  },
  {
   "cell_type": "code",
   "execution_count": 27,
   "id": "satisfied-antibody",
   "metadata": {},
   "outputs": [],
   "source": [
    "encoder_input = encoder_input[indices]\n",
    "decoder_input = decoder_input[indices]\n",
    "decoder_target = decoder_target[indices]"
   ]
  },
  {
   "cell_type": "markdown",
   "id": "meaning-wyoming",
   "metadata": {},
   "source": [
    "#### 테스트데이터 개수 정의"
   ]
  },
  {
   "cell_type": "code",
   "execution_count": 28,
   "id": "heated-still",
   "metadata": {},
   "outputs": [
    {
     "name": "stdout",
     "output_type": "stream",
     "text": [
      "테스트 데이터의 수 : 19167\n"
     ]
    }
   ],
   "source": [
    "n_of_val = int(len(encoder_input)*0.2)\n",
    "print('테스트 데이터의 수 :', n_of_val)"
   ]
  },
  {
   "cell_type": "markdown",
   "id": "extended-oklahoma",
   "metadata": {},
   "source": [
    "#### 전체데이터를 훈련데이터와 테스트 데이터로 양분"
   ]
  },
  {
   "cell_type": "code",
   "execution_count": 29,
   "id": "fixed-affect",
   "metadata": {},
   "outputs": [
    {
     "name": "stdout",
     "output_type": "stream",
     "text": [
      "훈련 데이터의 개수 : 76671\n",
      "훈련 레이블의 개수 : 76671\n",
      "테스트 데이터의 개수 : 19167\n",
      "테스트 레이블의 개수 : 19167\n"
     ]
    }
   ],
   "source": [
    "encoder_input_train = encoder_input[:-n_of_val]\n",
    "decoder_input_train = decoder_input[:-n_of_val]\n",
    "decoder_target_train = decoder_target[:-n_of_val]\n",
    "\n",
    "encoder_input_test = encoder_input[-n_of_val:]\n",
    "decoder_input_test = decoder_input[-n_of_val:]\n",
    "decoder_target_test = decoder_target[-n_of_val:]\n",
    "\n",
    "print('훈련 데이터의 개수 :', len(encoder_input_train))\n",
    "print('훈련 레이블의 개수 :', len(decoder_input_train))\n",
    "print('테스트 데이터의 개수 :', len(encoder_input_test))\n",
    "print('테스트 레이블의 개수 :', len(decoder_input_test))"
   ]
  },
  {
   "cell_type": "markdown",
   "id": "foreign-vegetarian",
   "metadata": {},
   "source": [
    "### 훈련데이터와 테스트데이터 정수 인코딩"
   ]
  },
  {
   "cell_type": "markdown",
   "id": "sustained-lecture",
   "metadata": {},
   "source": [
    "#### 훈련데이터의 text 컬럼 에서 단어집합 생성"
   ]
  },
  {
   "cell_type": "code",
   "execution_count": 30,
   "id": "mexican-poker",
   "metadata": {},
   "outputs": [],
   "source": [
    "src_tokenizer = Tokenizer() \n",
    "src_tokenizer.fit_on_texts(encoder_input_train)"
   ]
  },
  {
   "cell_type": "markdown",
   "id": "operating-cattle",
   "metadata": {},
   "source": [
    "#### 등장 빈도수 6회 이하인 단어의 통계정보 확인"
   ]
  },
  {
   "cell_type": "code",
   "execution_count": 31,
   "id": "coordinated-calculator",
   "metadata": {},
   "outputs": [
    {
     "name": "stdout",
     "output_type": "stream",
     "text": [
      "단어 집합(vocabulary)의 크기 : 90468\n",
      "등장 빈도가 6번 이하인 희귀 단어의 수: 66023\n",
      "단어 집합에서 희귀 단어를 제외시킬 경우의 단어 집합의 크기 24445\n",
      "단어 집합에서 희귀 단어의 비율: 72.97939602953531\n",
      "전체 등장 빈도에서 희귀 단어 등장 빈도 비율: 2.785993124285878\n"
     ]
    }
   ],
   "source": [
    "threshold = 7\n",
    "total_cnt = len(src_tokenizer.word_index) # 단어의 수\n",
    "rare_cnt = 0 # 등장 빈도수가 threshold보다 작은 단어의 개수를 카운트\n",
    "total_freq = 0 # 훈련 데이터의 전체 단어 빈도수 총 합\n",
    "rare_freq = 0 # 등장 빈도수가 threshold보다 작은 단어의 등장 빈도수의 총 합\n",
    "\n",
    "# 단어와 빈도수의 쌍(pair)을 key와 value로 받는다.\n",
    "for key, value in src_tokenizer.word_counts.items():\n",
    "    total_freq = total_freq + value\n",
    "\n",
    "    # 단어의 등장 빈도수가 threshold보다 작으면\n",
    "    if(value < threshold):\n",
    "        rare_cnt = rare_cnt + 1\n",
    "        rare_freq = rare_freq + value\n",
    "\n",
    "print('단어 집합(vocabulary)의 크기 :', total_cnt)\n",
    "print('등장 빈도가 %s번 이하인 희귀 단어의 수: %s'%(threshold - 1, rare_cnt))\n",
    "print('단어 집합에서 희귀 단어를 제외시킬 경우의 단어 집합의 크기 %s'%(total_cnt - rare_cnt))\n",
    "print(\"단어 집합에서 희귀 단어의 비율:\", (rare_cnt / total_cnt)*100)\n",
    "print(\"전체 등장 빈도에서 희귀 단어 등장 빈도 비율:\", (rare_freq / total_freq)*100)"
   ]
  },
  {
   "cell_type": "markdown",
   "id": "contrary-three",
   "metadata": {},
   "source": [
    "#### 단어집합 크기 8000으로 제한하여 단어집합 재생성"
   ]
  },
  {
   "cell_type": "code",
   "execution_count": 32,
   "id": "stuffed-alert",
   "metadata": {},
   "outputs": [],
   "source": [
    "src_vocab = 8000\n",
    "src_tokenizer = Tokenizer(num_words=src_vocab)\n",
    "src_tokenizer.fit_on_texts(encoder_input_train)"
   ]
  },
  {
   "cell_type": "markdown",
   "id": "pending-blood",
   "metadata": {},
   "source": [
    "#### 생성된 텍스트 시퀀스를 정수시퀀스로 변환"
   ]
  },
  {
   "cell_type": "code",
   "execution_count": 33,
   "id": "recovered-madness",
   "metadata": {},
   "outputs": [
    {
     "name": "stdout",
     "output_type": "stream",
     "text": [
      "[[4214, 3836, 26, 1546, 3, 1139, 11, 1, 4432, 5, 2938, 6, 4788, 100, 1918, 1447, 87, 1292, 7590, 1, 5054, 12, 822, 2, 6327, 367, 19, 3, 3326, 215, 2365, 6, 74, 93, 3, 22, 3, 6091, 4592, 1089, 9, 248, 211, 29, 1, 3836, 10, 178, 25, 168, 4, 6328], [18, 7208, 271, 7, 532, 345, 3700, 3995, 3627, 999, 17, 2040, 291, 3164, 1472, 65, 200, 6789, 51, 21, 1, 267, 105, 19, 1, 73, 1046, 296, 79, 257, 768, 3, 1989, 2, 1627, 945, 4, 3701, 3, 1773, 637, 99, 6484, 4, 1, 2040, 184, 3165, 16, 3081], [1151, 1611, 8, 10, 11, 1047, 3874, 2029, 3, 570, 2, 1138, 203, 7, 1, 683, 21, 641, 5159, 3, 1378, 2, 1, 2, 1, 2331, 1404, 196, 84, 26, 2, 64, 224, 732, 11, 13, 1, 1728, 6, 11, 23, 112, 1982, 224, 1337, 32, 1151, 28, 282, 167, 1, 613, 5, 17, 73, 1047, 3014, 126, 1443]]\n"
     ]
    }
   ],
   "source": [
    "encoder_input_train = src_tokenizer.texts_to_sequences(encoder_input_train) \n",
    "encoder_input_test = src_tokenizer.texts_to_sequences(encoder_input_test)\n",
    "\n",
    "print(encoder_input_train[:3])"
   ]
  },
  {
   "cell_type": "markdown",
   "id": "other-colon",
   "metadata": {},
   "source": [
    "#### 훈련데이터의 headlines 컬럼에서 단어집합 생성"
   ]
  },
  {
   "cell_type": "code",
   "execution_count": 34,
   "id": "informal-bicycle",
   "metadata": {},
   "outputs": [],
   "source": [
    "tar_tokenizer = Tokenizer()\n",
    "tar_tokenizer.fit_on_texts(decoder_input_train)"
   ]
  },
  {
   "cell_type": "markdown",
   "id": "protective-cameroon",
   "metadata": {},
   "source": [
    "#### 빈도수 5회 이하인 단어들의 통계정보"
   ]
  },
  {
   "cell_type": "code",
   "execution_count": 35,
   "id": "smoking-farming",
   "metadata": {},
   "outputs": [
    {
     "name": "stdout",
     "output_type": "stream",
     "text": [
      "단어 집합(vocabulary)의 크기 : 40432\n",
      "등장 빈도가 5번 이하인 희귀 단어의 수: 29274\n",
      "단어 집합에서 희귀 단어를 제외시킬 경우의 단어 집합의 크기 11158\n",
      "단어 집합에서 희귀 단어의 비율: 72.40304709141274\n",
      "전체 등장 빈도에서 희귀 단어 등장 빈도 비율: 6.31509491052127\n"
     ]
    }
   ],
   "source": [
    "threshold = 6\n",
    "total_cnt = len(tar_tokenizer.word_index) # 단어의 수\n",
    "rare_cnt = 0 # 등장 빈도수가 threshold보다 작은 단어의 개수를 카운트\n",
    "total_freq = 0 # 훈련 데이터의 전체 단어 빈도수 총 합\n",
    "rare_freq = 0 # 등장 빈도수가 threshold보다 작은 단어의 등장 빈도수의 총 합\n",
    "\n",
    "# 단어와 빈도수의 쌍(pair)을 key와 value로 받는다.\n",
    "for key, value in tar_tokenizer.word_counts.items():\n",
    "    total_freq = total_freq + value\n",
    "\n",
    "    # 단어의 등장 빈도수가 threshold보다 작으면\n",
    "    if(value < threshold):\n",
    "        rare_cnt = rare_cnt + 1\n",
    "        rare_freq = rare_freq + value\n",
    "\n",
    "print('단어 집합(vocabulary)의 크기 :', total_cnt)\n",
    "print('등장 빈도가 %s번 이하인 희귀 단어의 수: %s'%(threshold - 1, rare_cnt))\n",
    "print('단어 집합에서 희귀 단어를 제외시킬 경우의 단어 집합의 크기 %s'%(total_cnt - rare_cnt))\n",
    "print(\"단어 집합에서 희귀 단어의 비율:\", (rare_cnt / total_cnt)*100)\n",
    "print(\"전체 등장 빈도에서 희귀 단어 등장 빈도 비율:\", (rare_freq / total_freq)*100)"
   ]
  },
  {
   "cell_type": "markdown",
   "id": "roman-health",
   "metadata": {},
   "source": [
    "#### 단어집합 크기 2000으로 재생성한 후, 텍스트 시퀀스를 정수시퀀스로 변환"
   ]
  },
  {
   "cell_type": "code",
   "execution_count": 36,
   "id": "organizational-thanks",
   "metadata": {},
   "outputs": [
    {
     "name": "stdout",
     "output_type": "stream",
     "text": [
      "input\n",
      "input  [[1, 1952, 1982, 7, 11], [1, 1278, 34, 1041, 9, 101, 5], [1, 1289, 11, 660, 3, 3, 901], [1, 245, 1109, 3, 674, 3, 306], [1, 1198, 487, 14, 7, 102]]\n",
      "target\n",
      "decoder  [[1952, 1982, 7, 11, 2], [1278, 34, 1041, 9, 101, 5, 2], [1289, 11, 660, 3, 3, 901, 2], [245, 1109, 3, 674, 3, 306, 2], [1198, 487, 14, 7, 102, 2]]\n"
     ]
    }
   ],
   "source": [
    "tar_vocab = 2000\n",
    "tar_tokenizer = Tokenizer(num_words=tar_vocab) \n",
    "tar_tokenizer.fit_on_texts(decoder_input_train)\n",
    "tar_tokenizer.fit_on_texts(decoder_target_train)\n",
    "\n",
    "# 텍스트 시퀀스를 정수 시퀀스로 변환\n",
    "decoder_input_train = tar_tokenizer.texts_to_sequences(decoder_input_train) \n",
    "decoder_target_train = tar_tokenizer.texts_to_sequences(decoder_target_train)\n",
    "decoder_input_test = tar_tokenizer.texts_to_sequences(decoder_input_test)\n",
    "decoder_target_test = tar_tokenizer.texts_to_sequences(decoder_target_test)\n",
    "\n",
    "# 잘 변환되었는지 확인\n",
    "print('input')\n",
    "print('input ',decoder_input_train[:5])\n",
    "print('target')\n",
    "print('decoder ',decoder_target_train[:5])"
   ]
  },
  {
   "cell_type": "markdown",
   "id": "grave-brand",
   "metadata": {},
   "source": [
    "#### 훈련데이터와 테스트 데이터에서 길이가 1인 데이터(빈 샘플)를 제거"
   ]
  },
  {
   "cell_type": "code",
   "execution_count": 37,
   "id": "computational-hebrew",
   "metadata": {},
   "outputs": [
    {
     "name": "stdout",
     "output_type": "stream",
     "text": [
      "삭제할 훈련 데이터의 개수 : 14\n",
      "삭제할 테스트 데이터의 개수 : 5\n",
      "훈련 데이터의 개수 : 76657\n",
      "훈련 레이블의 개수 : 76657\n",
      "테스트 데이터의 개수 : 19162\n",
      "테스트 레이블의 개수 : 19162\n"
     ]
    },
    {
     "name": "stderr",
     "output_type": "stream",
     "text": [
      "/opt/conda/lib/python3.7/site-packages/numpy/core/_asarray.py:83: VisibleDeprecationWarning: Creating an ndarray from ragged nested sequences (which is a list-or-tuple of lists-or-tuples-or ndarrays with different lengths or shapes) is deprecated. If you meant to do this, you must specify 'dtype=object' when creating the ndarray\n",
      "  return array(a, dtype, copy=False, order=order)\n"
     ]
    }
   ],
   "source": [
    "drop_train = [index for index, sentence in enumerate(decoder_input_train) if len(sentence) == 1]\n",
    "drop_test = [index for index, sentence in enumerate(decoder_input_test) if len(sentence) == 1]\n",
    "\n",
    "print('삭제할 훈련 데이터의 개수 :', len(drop_train))\n",
    "print('삭제할 테스트 데이터의 개수 :', len(drop_test))\n",
    "\n",
    "encoder_input_train = np.delete(encoder_input_train, drop_train, axis=0)\n",
    "decoder_input_train = np.delete(decoder_input_train, drop_train, axis=0)\n",
    "decoder_target_train = np.delete(decoder_target_train, drop_train, axis=0)\n",
    "\n",
    "encoder_input_test = np.delete(encoder_input_test, drop_test, axis=0)\n",
    "decoder_input_test = np.delete(decoder_input_test, drop_test, axis=0)\n",
    "decoder_target_test = np.delete(decoder_target_test, drop_test, axis=0)\n",
    "\n",
    "print('훈련 데이터의 개수 :', len(encoder_input_train))\n",
    "print('훈련 레이블의 개수 :', len(decoder_input_train))\n",
    "print('테스트 데이터의 개수 :', len(encoder_input_test))\n",
    "print('테스트 레이블의 개수 :', len(decoder_input_test))"
   ]
  },
  {
   "cell_type": "markdown",
   "id": "political-process",
   "metadata": {},
   "source": [
    "#### 최대길이 보다 짧은 데이터들 패딩처리"
   ]
  },
  {
   "cell_type": "code",
   "execution_count": 38,
   "id": "tender-terror",
   "metadata": {},
   "outputs": [],
   "source": [
    "encoder_input_train = pad_sequences(encoder_input_train, maxlen=text_max_len, padding='post')\n",
    "encoder_input_test = pad_sequences(encoder_input_test, maxlen=text_max_len, padding='post')\n",
    "decoder_input_train = pad_sequences(decoder_input_train, maxlen=headlines_max_len, padding='post')\n",
    "decoder_target_train = pad_sequences(decoder_target_train, maxlen=headlines_max_len, padding='post')\n",
    "decoder_input_test = pad_sequences(decoder_input_test, maxlen=headlines_max_len, padding='post')\n",
    "decoder_target_test = pad_sequences(decoder_target_test, maxlen=headlines_max_len, padding='post')"
   ]
  },
  {
   "cell_type": "markdown",
   "id": "romance-essence",
   "metadata": {},
   "source": [
    "## 2. seq2seq 모델설계 및 훈련\n",
    "-----"
   ]
  },
  {
   "cell_type": "markdown",
   "id": "rising-blend",
   "metadata": {},
   "source": [
    "### 인코더 설계"
   ]
  },
  {
   "cell_type": "code",
   "execution_count": 39,
   "id": "oriental-trading",
   "metadata": {},
   "outputs": [
    {
     "name": "stdout",
     "output_type": "stream",
     "text": [
      "WARNING:tensorflow:Layer lstm will not use cuDNN kernel since it doesn't meet the cuDNN kernel criteria. It will use generic GPU kernel as fallback when running on GPU\n",
      "WARNING:tensorflow:Layer lstm_1 will not use cuDNN kernel since it doesn't meet the cuDNN kernel criteria. It will use generic GPU kernel as fallback when running on GPU\n",
      "WARNING:tensorflow:Layer lstm_2 will not use cuDNN kernel since it doesn't meet the cuDNN kernel criteria. It will use generic GPU kernel as fallback when running on GPU\n"
     ]
    }
   ],
   "source": [
    "from tensorflow.keras.layers import Input, LSTM, Embedding, Dense, Concatenate\n",
    "from tensorflow.keras.models import Model\n",
    "from tensorflow.keras.callbacks import EarlyStopping, ModelCheckpoint\n",
    "\n",
    "\n",
    "# 인코더 설계 시작\n",
    "embedding_dim = 128\n",
    "hidden_size = 256\n",
    "\n",
    "# 인코더\n",
    "encoder_inputs = Input(shape=(text_max_len,))\n",
    "\n",
    "# 인코더의 임베딩 층\n",
    "enc_emb = Embedding(src_vocab, embedding_dim)(encoder_inputs)\n",
    "\n",
    "# 인코더의 LSTM 1\n",
    "encoder_lstm1 = LSTM(hidden_size, return_sequences=True, return_state=True ,dropout = 0.4, recurrent_dropout = 0.4)\n",
    "encoder_output1, state_h1, state_c1 = encoder_lstm1(enc_emb)\n",
    "\n",
    "# 인코더의 LSTM 2\n",
    "encoder_lstm2 = LSTM(hidden_size, return_sequences=True, return_state=True, dropout=0.4, recurrent_dropout=0.4)\n",
    "encoder_output2, state_h2, state_c2 = encoder_lstm2(encoder_output1)\n",
    "\n",
    "# 인코더의 LSTM 3\n",
    "encoder_lstm3 = LSTM(hidden_size, return_state=True, return_sequences=True, dropout=0.4, recurrent_dropout=0.4)\n",
    "encoder_outputs, state_h, state_c= encoder_lstm3(encoder_output2)"
   ]
  },
  {
   "cell_type": "markdown",
   "id": "temporal-dollar",
   "metadata": {},
   "source": [
    "### 디코더 설계\n",
    "\n",
    "#### 디코더의 임베딩 층"
   ]
  },
  {
   "cell_type": "code",
   "execution_count": 40,
   "id": "herbal-merchandise",
   "metadata": {},
   "outputs": [
    {
     "name": "stdout",
     "output_type": "stream",
     "text": [
      "WARNING:tensorflow:Layer lstm_3 will not use cuDNN kernel since it doesn't meet the cuDNN kernel criteria. It will use generic GPU kernel as fallback when running on GPU\n"
     ]
    }
   ],
   "source": [
    "# 디코더 설계\n",
    "decoder_inputs = Input(shape=(None,))\n",
    "\n",
    "# 디코더의 임베딩 층\n",
    "dec_emb_layer = Embedding(tar_vocab, embedding_dim)\n",
    "dec_emb = dec_emb_layer(decoder_inputs)\n",
    "\n",
    "# 디코더의 LSTM\n",
    "decoder_lstm = LSTM(hidden_size, return_sequences=True, return_state=True, dropout=0.4, recurrent_dropout=0.2)\n",
    "decoder_outputs, _, _ = decoder_lstm(dec_emb, initial_state=[state_h, state_c])"
   ]
  },
  {
   "cell_type": "markdown",
   "id": "tribal-ownership",
   "metadata": {},
   "source": [
    "#### 디코더의 출력층"
   ]
  },
  {
   "cell_type": "code",
   "execution_count": 41,
   "id": "vulnerable-indonesian",
   "metadata": {},
   "outputs": [
    {
     "name": "stdout",
     "output_type": "stream",
     "text": [
      "Model: \"model\"\n",
      "__________________________________________________________________________________________________\n",
      "Layer (type)                    Output Shape         Param #     Connected to                     \n",
      "==================================================================================================\n",
      "input_1 (InputLayer)            [(None, 60)]         0                                            \n",
      "__________________________________________________________________________________________________\n",
      "embedding (Embedding)           (None, 60, 128)      1024000     input_1[0][0]                    \n",
      "__________________________________________________________________________________________________\n",
      "lstm (LSTM)                     [(None, 60, 256), (N 394240      embedding[0][0]                  \n",
      "__________________________________________________________________________________________________\n",
      "input_2 (InputLayer)            [(None, None)]       0                                            \n",
      "__________________________________________________________________________________________________\n",
      "lstm_1 (LSTM)                   [(None, 60, 256), (N 525312      lstm[0][0]                       \n",
      "__________________________________________________________________________________________________\n",
      "embedding_1 (Embedding)         (None, None, 128)    256000      input_2[0][0]                    \n",
      "__________________________________________________________________________________________________\n",
      "lstm_2 (LSTM)                   [(None, 60, 256), (N 525312      lstm_1[0][0]                     \n",
      "__________________________________________________________________________________________________\n",
      "lstm_3 (LSTM)                   [(None, None, 256),  394240      embedding_1[0][0]                \n",
      "                                                                 lstm_2[0][1]                     \n",
      "                                                                 lstm_2[0][2]                     \n",
      "__________________________________________________________________________________________________\n",
      "dense (Dense)                   (None, None, 2000)   514000      lstm_3[0][0]                     \n",
      "==================================================================================================\n",
      "Total params: 3,633,104\n",
      "Trainable params: 3,633,104\n",
      "Non-trainable params: 0\n",
      "__________________________________________________________________________________________________\n"
     ]
    }
   ],
   "source": [
    "# 디코더의 출력층\n",
    "decoder_softmax_layer = Dense(tar_vocab, activation='softmax')\n",
    "decoder_softmax_outputs = decoder_softmax_layer(decoder_outputs) \n",
    "\n",
    "# 모델 정의\n",
    "model = Model([encoder_inputs, decoder_inputs], decoder_softmax_outputs)\n",
    "model.summary()"
   ]
  },
  {
   "cell_type": "markdown",
   "id": "trying-secretariat",
   "metadata": {},
   "source": [
    "### 디코더 출력층에 어텐션 메커니즘 적용"
   ]
  },
  {
   "cell_type": "code",
   "execution_count": 42,
   "id": "daily-vietnamese",
   "metadata": {},
   "outputs": [
    {
     "name": "stdout",
     "output_type": "stream",
     "text": [
      "Model: \"model_1\"\n",
      "__________________________________________________________________________________________________\n",
      "Layer (type)                    Output Shape         Param #     Connected to                     \n",
      "==================================================================================================\n",
      "input_1 (InputLayer)            [(None, 60)]         0                                            \n",
      "__________________________________________________________________________________________________\n",
      "embedding (Embedding)           (None, 60, 128)      1024000     input_1[0][0]                    \n",
      "__________________________________________________________________________________________________\n",
      "lstm (LSTM)                     [(None, 60, 256), (N 394240      embedding[0][0]                  \n",
      "__________________________________________________________________________________________________\n",
      "input_2 (InputLayer)            [(None, None)]       0                                            \n",
      "__________________________________________________________________________________________________\n",
      "lstm_1 (LSTM)                   [(None, 60, 256), (N 525312      lstm[0][0]                       \n",
      "__________________________________________________________________________________________________\n",
      "embedding_1 (Embedding)         (None, None, 128)    256000      input_2[0][0]                    \n",
      "__________________________________________________________________________________________________\n",
      "lstm_2 (LSTM)                   [(None, 60, 256), (N 525312      lstm_1[0][0]                     \n",
      "__________________________________________________________________________________________________\n",
      "lstm_3 (LSTM)                   [(None, None, 256),  394240      embedding_1[0][0]                \n",
      "                                                                 lstm_2[0][1]                     \n",
      "                                                                 lstm_2[0][2]                     \n",
      "__________________________________________________________________________________________________\n",
      "attention_layer (AttentionLayer ((None, None, 256),  131328      lstm_2[0][0]                     \n",
      "                                                                 lstm_3[0][0]                     \n",
      "__________________________________________________________________________________________________\n",
      "concat_layer (Concatenate)      (None, None, 512)    0           lstm_3[0][0]                     \n",
      "                                                                 attention_layer[0][0]            \n",
      "__________________________________________________________________________________________________\n",
      "dense_1 (Dense)                 (None, None, 2000)   1026000     concat_layer[0][0]               \n",
      "==================================================================================================\n",
      "Total params: 4,276,432\n",
      "Trainable params: 4,276,432\n",
      "Non-trainable params: 0\n",
      "__________________________________________________________________________________________________\n"
     ]
    }
   ],
   "source": [
    "urllib.request.urlretrieve(\"https://raw.githubusercontent.com/thushv89/attention_keras/master/src/layers/attention.py\", filename=\"attention.py\")\n",
    "from attention import AttentionLayer\n",
    "\n",
    "# 어텐션 층(어텐션 함수)\n",
    "attn_layer = AttentionLayer(name='attention_layer')\n",
    "# 인코더와 디코더의 모든 time step의 hidden state를 어텐션 층에 전달하고 결과를 리턴\n",
    "attn_out, attn_states = attn_layer([encoder_outputs, decoder_outputs])\n",
    "\n",
    "# 어텐션의 결과와 디코더의 hidden state들을 연결\n",
    "decoder_concat_input = Concatenate(axis=-1, name='concat_layer')([decoder_outputs, attn_out])\n",
    "\n",
    "# 디코더의 출력층\n",
    "decoder_softmax_layer = Dense(tar_vocab, activation='softmax')\n",
    "decoder_softmax_outputs = decoder_softmax_layer(decoder_concat_input)\n",
    "\n",
    "# 모델 정의\n",
    "model = Model([encoder_inputs, decoder_inputs], decoder_softmax_outputs)\n",
    "model.summary()"
   ]
  },
  {
   "cell_type": "markdown",
   "id": "improved-large",
   "metadata": {},
   "source": [
    "### 모델 훈련"
   ]
  },
  {
   "cell_type": "markdown",
   "id": "collaborative-gather",
   "metadata": {},
   "source": [
    "#### 훈련수행"
   ]
  },
  {
   "cell_type": "code",
   "execution_count": 43,
   "id": "anonymous-chaos",
   "metadata": {},
   "outputs": [
    {
     "name": "stdout",
     "output_type": "stream",
     "text": [
      "Epoch 1/50\n",
      "300/300 [==============================] - 268s 856ms/step - loss: 4.2705 - val_loss: 3.6727\n",
      "Epoch 2/50\n",
      "300/300 [==============================] - 255s 851ms/step - loss: 3.6140 - val_loss: 3.3500\n",
      "Epoch 3/50\n",
      "300/300 [==============================] - 254s 847ms/step - loss: 3.2870 - val_loss: 3.1238\n",
      "Epoch 4/50\n",
      "300/300 [==============================] - 250s 832ms/step - loss: 3.0625 - val_loss: 2.9607\n",
      "Epoch 5/50\n",
      "300/300 [==============================] - 250s 833ms/step - loss: 2.8939 - val_loss: 2.8507\n",
      "Epoch 6/50\n",
      "300/300 [==============================] - 250s 834ms/step - loss: 2.7630 - val_loss: 2.7535\n",
      "Epoch 7/50\n",
      "300/300 [==============================] - 250s 832ms/step - loss: 2.6534 - val_loss: 2.6780\n",
      "Epoch 8/50\n",
      "300/300 [==============================] - 252s 839ms/step - loss: 2.5618 - val_loss: 2.6321\n",
      "Epoch 9/50\n",
      "300/300 [==============================] - 251s 837ms/step - loss: 2.4851 - val_loss: 2.5777\n",
      "Epoch 10/50\n",
      "300/300 [==============================] - 251s 836ms/step - loss: 2.4144 - val_loss: 2.5349\n",
      "Epoch 11/50\n",
      "300/300 [==============================] - 251s 836ms/step - loss: 2.3525 - val_loss: 2.4989\n",
      "Epoch 12/50\n",
      "300/300 [==============================] - 250s 834ms/step - loss: 2.2873 - val_loss: 2.4737\n",
      "Epoch 13/50\n",
      "300/300 [==============================] - 249s 831ms/step - loss: 2.2403 - val_loss: 2.4458\n",
      "Epoch 14/50\n",
      "300/300 [==============================] - 250s 835ms/step - loss: 2.1931 - val_loss: 2.4237\n",
      "Epoch 15/50\n",
      "300/300 [==============================] - 249s 832ms/step - loss: 2.1477 - val_loss: 2.4097\n",
      "Epoch 16/50\n",
      "300/300 [==============================] - 249s 831ms/step - loss: 2.1048 - val_loss: 2.3932\n",
      "Epoch 17/50\n",
      "300/300 [==============================] - 250s 833ms/step - loss: 2.0720 - val_loss: 2.3752\n",
      "Epoch 18/50\n",
      "300/300 [==============================] - 250s 832ms/step - loss: 2.0311 - val_loss: 2.3511\n",
      "Epoch 19/50\n",
      "300/300 [==============================] - 249s 831ms/step - loss: 2.0015 - val_loss: 2.3473\n",
      "Epoch 20/50\n",
      "300/300 [==============================] - 251s 837ms/step - loss: 1.9674 - val_loss: 2.3480\n",
      "Epoch 21/50\n",
      "300/300 [==============================] - 250s 835ms/step - loss: 1.9370 - val_loss: 2.3265\n",
      "Epoch 22/50\n",
      "300/300 [==============================] - 250s 834ms/step - loss: 1.9081 - val_loss: 2.3225\n",
      "Epoch 23/50\n",
      "300/300 [==============================] - 250s 834ms/step - loss: 1.8820 - val_loss: 2.3058\n",
      "Epoch 24/50\n",
      "300/300 [==============================] - 250s 834ms/step - loss: 1.8590 - val_loss: 2.3116\n",
      "Epoch 25/50\n",
      "300/300 [==============================] - 250s 833ms/step - loss: 1.8349 - val_loss: 2.2993\n",
      "Epoch 26/50\n",
      "300/300 [==============================] - 250s 833ms/step - loss: 1.8056 - val_loss: 2.2961\n",
      "Epoch 27/50\n",
      "300/300 [==============================] - 249s 832ms/step - loss: 1.7896 - val_loss: 2.2979\n",
      "Epoch 28/50\n",
      "300/300 [==============================] - 249s 831ms/step - loss: 1.7725 - val_loss: 2.2893\n",
      "Epoch 29/50\n",
      "300/300 [==============================] - 249s 831ms/step - loss: 1.7494 - val_loss: 2.2944\n",
      "Epoch 30/50\n",
      "300/300 [==============================] - 250s 833ms/step - loss: 1.7314 - val_loss: 2.2882\n",
      "Epoch 31/50\n",
      "300/300 [==============================] - 250s 832ms/step - loss: 1.7186 - val_loss: 2.2855\n",
      "Epoch 32/50\n",
      "300/300 [==============================] - 250s 832ms/step - loss: 1.7042 - val_loss: 2.2842\n",
      "Epoch 33/50\n",
      "300/300 [==============================] - 249s 831ms/step - loss: 1.6864 - val_loss: 2.2889\n",
      "Epoch 34/50\n",
      "300/300 [==============================] - 250s 833ms/step - loss: 1.6653 - val_loss: 2.2789\n",
      "Epoch 35/50\n",
      "300/300 [==============================] - 249s 832ms/step - loss: 1.6527 - val_loss: 2.2731\n",
      "Epoch 36/50\n",
      "300/300 [==============================] - 249s 831ms/step - loss: 1.6401 - val_loss: 2.2774\n",
      "Epoch 37/50\n",
      "300/300 [==============================] - 250s 833ms/step - loss: 1.6233 - val_loss: 2.2750\n",
      "Epoch 00037: early stopping\n"
     ]
    }
   ],
   "source": [
    "model.compile(optimizer='rmsprop', loss='sparse_categorical_crossentropy')\n",
    "es = EarlyStopping(monitor='val_loss', patience=2, verbose=1)\n",
    "history = model.fit(x=[encoder_input_train, decoder_input_train], y=decoder_target_train, \\\n",
    "          validation_data=([encoder_input_test, decoder_input_test], decoder_target_test), \\\n",
    "          batch_size=256, callbacks=[es], epochs=50)"
   ]
  },
  {
   "cell_type": "markdown",
   "id": "atlantic-expression",
   "metadata": {},
   "source": [
    "#### 훈련데이터의 손실과 검증데이터의 손실 변화 시각화"
   ]
  },
  {
   "cell_type": "code",
   "execution_count": 44,
   "id": "dense-scroll",
   "metadata": {},
   "outputs": [
    {
     "data": {
      "image/png": "[encoded data removed]",
      "text/plain": [
       "<Figure size 432x288 with 1 Axes>"
      ]
     },
     "metadata": {
      "needs_background": "light"
     },
     "output_type": "display_data"
    }
   ],
   "source": [
    "plt.plot(history.history['loss'], label='train')\n",
    "plt.plot(history.history['val_loss'], label='test')\n",
    "plt.legend()\n",
    "plt.show()"
   ]
  },
  {
   "cell_type": "markdown",
   "id": "coordinated-catalyst",
   "metadata": {},
   "source": [
    "## 3. 인퍼런스 모델 구현\n",
    "-----"
   ]
  },
  {
   "cell_type": "markdown",
   "id": "running-objective",
   "metadata": {},
   "source": [
    "### 단어사전 생성"
   ]
  },
  {
   "cell_type": "code",
   "execution_count": 49,
   "id": "traditional-limit",
   "metadata": {},
   "outputs": [],
   "source": [
    "src_index_to_word = src_tokenizer.index_word # 원문 단어 집합에서 정수 -> 단어를 얻음\n",
    "tar_word_to_index = tar_tokenizer.word_index # 요약 단어 집합에서 단어 -> 정수를 얻음\n",
    "tar_index_to_word = tar_tokenizer.index_word # 요약 단어 집합에서 정수 -> 단어를 얻음"
   ]
  },
  {
   "cell_type": "markdown",
   "id": "latest-delay",
   "metadata": {},
   "source": [
    "### 모델  설계\n",
    "\n",
    "#### 인코더와 디코더 설계"
   ]
  },
  {
   "cell_type": "code",
   "execution_count": 50,
   "id": "polish-brisbane",
   "metadata": {},
   "outputs": [],
   "source": [
    "# 인코더 설계\n",
    "encoder_model = Model(inputs=encoder_inputs, outputs=[encoder_outputs, state_h, state_c])\n",
    "\n",
    "# 이전 시점의 상태들을 저장하는 텐서\n",
    "decoder_state_input_h = Input(shape=(hidden_size,))\n",
    "decoder_state_input_c = Input(shape=(hidden_size,))\n",
    "\n",
    "dec_emb2 = dec_emb_layer(decoder_inputs)\n",
    "\n",
    "# 문장의 다음 단어를 예측하기 위해서 초기 상태(initial_state)를 이전 시점의 상태로 사용. 이는 뒤의 함수 decode_sequence()에 구현\n",
    "# 훈련 과정에서와 달리 LSTM의 리턴하는 은닉 상태와 셀 상태인 state_h와 state_c를 버리지 않음.\n",
    "decoder_outputs2, state_h2, state_c2 = decoder_lstm(dec_emb2, initial_state=[decoder_state_input_h, decoder_state_input_c])"
   ]
  },
  {
   "cell_type": "markdown",
   "id": "celtic-estonia",
   "metadata": {},
   "source": [
    "#### 어텐션 메커니즘 적용한 출력층 설계 "
   ]
  },
  {
   "cell_type": "code",
   "execution_count": 51,
   "id": "christian-litigation",
   "metadata": {},
   "outputs": [],
   "source": [
    "# 어텐션 함수\n",
    "decoder_hidden_state_input = Input(shape=(text_max_len, hidden_size))\n",
    "attn_out_inf, attn_states_inf = attn_layer([decoder_hidden_state_input, decoder_outputs2])\n",
    "decoder_inf_concat = Concatenate(axis=-1, name='concat')([decoder_outputs2, attn_out_inf])\n",
    "\n",
    "# 디코더의 출력층\n",
    "decoder_outputs2 = decoder_softmax_layer(decoder_inf_concat) \n",
    "\n",
    "# 최종 디코더 모델\n",
    "decoder_model = Model(\n",
    "    [decoder_inputs] + [decoder_hidden_state_input,decoder_state_input_h, decoder_state_input_c],\n",
    "    [decoder_outputs2] + [state_h2, state_c2])"
   ]
  },
  {
   "cell_type": "markdown",
   "id": "optical-lover",
   "metadata": {},
   "source": [
    "### 인퍼런스 단계에서 단어시퀀스 완성하는 함수"
   ]
  },
  {
   "cell_type": "code",
   "execution_count": 55,
   "id": "bright-bacon",
   "metadata": {},
   "outputs": [],
   "source": [
    "def decode_sequence(input_seq):\n",
    "    # 입력으로부터 인코더의 상태를 얻음\n",
    "    e_out, e_h, e_c = encoder_model.predict(input_seq)\n",
    "\n",
    "     # <SOS>에 해당하는 토큰 생성\n",
    "    target_seq = np.zeros((1,1))\n",
    "    target_seq[0, 0] = tar_word_to_index['sostoken']\n",
    "\n",
    "    stop_condition = False\n",
    "    decoded_sentence = ''\n",
    "    while not stop_condition: # stop_condition이 True가 될 때까지 루프 반복\n",
    "\n",
    "        output_tokens, h, c = decoder_model.predict([target_seq] + [e_out, e_h, e_c])\n",
    "        sampled_token_index = np.argmax(output_tokens[0, -1, :])\n",
    "        sampled_token = tar_index_to_word[sampled_token_index]\n",
    "\n",
    "        if (sampled_token!='eostoken'):\n",
    "            decoded_sentence += ' '+sampled_token\n",
    "\n",
    "        #  <eos>에 도달하거나 최대 길이를 넘으면 중단.\n",
    "        if (sampled_token == 'eostoken'  or len(decoded_sentence.split()) >= (headlines_max_len-1)):\n",
    "            stop_condition = True\n",
    "\n",
    "        # 길이가 1인 타겟 시퀀스를 업데이트\n",
    "        target_seq = np.zeros((1,1))\n",
    "        target_seq[0, 0] = sampled_token_index\n",
    "\n",
    "        # 상태를 업데이트 합니다.\n",
    "        e_h, e_c = h, c\n",
    "\n",
    "    return decoded_sentence"
   ]
  },
  {
   "cell_type": "markdown",
   "id": "signal-editing",
   "metadata": {},
   "source": [
    "## 4. 모델 테스트\n",
    "-----"
   ]
  },
  {
   "cell_type": "markdown",
   "id": "signal-facing",
   "metadata": {},
   "source": [
    "### text와 headlines의 정수시퀀스를 텍스트 시퀀스로 변환하는 함수"
   ]
  },
  {
   "cell_type": "code",
   "execution_count": 53,
   "id": "comparative-affiliate",
   "metadata": {},
   "outputs": [],
   "source": [
    "def seq2text(input_seq):\n",
    "    temp=''\n",
    "    for i in input_seq:\n",
    "        if (i!=0):\n",
    "            temp = temp + src_index_to_word[i]+' '\n",
    "    return temp\n",
    "\n",
    "def seq2summary(input_seq):\n",
    "    temp=''\n",
    "    for i in input_seq:\n",
    "        if ((i!=0 and i!=tar_word_to_index['sostoken']) and i!=tar_word_to_index['eostoken']):\n",
    "            temp = temp + tar_index_to_word[i] + ' '\n",
    "    return temp"
   ]
  },
  {
   "cell_type": "markdown",
   "id": "naughty-cycle",
   "metadata": {},
   "source": [
    "### 테스트 데이터 50개 샘플에 대한 실제 headline과 예측된 headline 비교"
   ]
  },
  {
   "cell_type": "code",
   "execution_count": 56,
   "id": "vulnerable-nature",
   "metadata": {},
   "outputs": [
    {
     "name": "stdout",
     "output_type": "stream",
     "text": [
      "원문 : uber has applied for a patent for an ai system that can predict if a user is drunk while booking a cab according to the application the system would track users' speed including on the app walking speed booking location among others a passenger might only be with trained drivers and prevented from joining a \n",
      "실제 요약 : uber to an ai system to drunk \n",
      "예측 요약 :  uber to let users track videos via\n",
      "\n",
      "\n",
      "원문 : the monthly grant for who scored 1 runs in a school match in 2016 has been temporarily this year by the mumbai cricket association had announced a monthly of ã¢ââ¹10 000 for five years for but he has not received the amount this year will review his performance this year before continuing the grant \n",
      "실제 요약 : run stopped by \n",
      "예측 요약 :  man receives 25 in ipl\n",
      "\n",
      "\n",
      "원문 : union minister hegde on thursday apologised in the parliament for his remark on the constitution we are here to change the constitution hegde had claimed adding that people who believe in are unaware of their the lok sabha was on wednesday after the opposition protested against the minister's remarks \n",
      "실제 요약 : union minister apologises for remark \n",
      "예측 요약 :  minister apologises for minister remark\n",
      "\n",
      "\n",
      "원문 : the tripura government suspended internet for 48 hours on thursday to stop the spread of rumours after three people were lynched in the state around 1 000 people attacked four uttar pradesh traders over rumours of them being following which one of them succumbed to injuries a woman was later lynched by a mob which death to child \n",
      "실제 요약 : tripura cuts internet for to stop rumours as 3 \n",
      "예측 요약 :  tripura cops use to protest on rumours of\n",
      "\n",
      "\n",
      "원문 : in his speech during australian pm maiden visit to india pm narendra modi referred to captain steve smith's batting in the border gavaskar trophy i hope your visit to india is as as it has been for smith's batting the other australian captain said modi smith had scored three centuries in four tests during the series \n",
      "실제 요약 : pm modi pm's india visit to \n",
      "예측 요약 :  pm modi wishes pm modi on his independence day\n",
      "\n",
      "\n",
      "원문 : at digital payment company paytm has made over ã¢ââ¹20 lakh in the recently conducted stock sale wherein around 200 employees sold their shares worth ã¢ââ¹300 crore the stock sale also saw some 20 25 employees make ã¢ââ¹6 7 crore each around 1 million the sale made paytm second most valuable internet startup in india with a valuation of 10 billion \n",
      "실제 요약 : office boy makes lakh after selling his stock \n",
      "예측 요약 :  paytm buys lakh in market cap after selling shares\n",
      "\n",
      "\n",
      "원문 : ranveer singh while talking about acting said that he doesn't get and it as a responsibility towards what he loves doing for a film to become a hit or a there are many and many factors i've been enough to experience both and glad that were there because they taught me a lot added ranveer \n",
      "실제 요약 : i've acting but no pressure ranveer \n",
      "예측 요약 :  i don't ranveer to do a as ranveer singh\n",
      "\n",
      "\n",
      "원문 : us president donald trump and his staff are set to temporarily move out of the white west wing as on the building get underway adding that the massive is more out of than a white house official said that work has already begun to replace the west 27 year old and air system \n",
      "실제 요약 : white house to \n",
      "예측 요약 :  trump to set up white house in\n",
      "\n",
      "\n",
      "원문 : former india cricketer sachin tendulkar paid a surprise visit to child care centre in mumbai dressed as on the occasion of christmas on tuesday sachin spent time with the children gave them gifts and also played cricket with them the joy on their innocent faces was just he tweeted \n",
      "실제 요약 : sachin up as kids \n",
      "예측 요약 :  sachin pays tribute to to\n",
      "\n",
      "\n",
      "원문 : the aditya birla group said on tuesday it has received licence from the reserve bank of india to start its payments bank headed by kumar birla aditya birla had set up a joint venture with telecom major idea called aditya birla idea payments bank at present airtel and india post are offering payments bank services in the country \n",
      "실제 요약 : group gets rbi to start payments bank \n",
      "예측 요약 :  gets rbi bank merger with bank\n",
      "\n",
      "\n",
      "원문 : south korean electronics company has filed a trademark application for three names and that could possibly be used for its upcoming smartphones its ceo had earlier said the company is working on a smartphone this comes after samsung recently unveiled its first ever smartphone prototype that into a small \n",
      "실제 요약 : after phone \n",
      "예측 요약 :  files for book that used to be made\n",
      "\n",
      "\n",
      "원문 : a former army officer verma has made a new record for the highest jump in india by performing a jump from a noida building of 600 feet height verma has over 54 to his credit and has completed 2 400 350 he also received the national adventure award in 2015 \n",
      "실제 요약 : ex army man records india's highest from noida building \n",
      "예측 요약 :  ex army officer breaks record for highest\n",
      "\n",
      "\n",
      "원문 : the supreme court has directed all states to complete the audit of all shelter homes and the district to their report by september 15 it seems that no one is interested in monitoring conditions in shelter homes it remarked this comes in the wake of muzaffarpur and shelter homes cases in which inmates were allegedly sexually abused \n",
      "실제 요약 : sc asks states to of shelter by 15 \n",
      "예측 요약 :  sc asks to shelter to shelter\n",
      "\n",
      "\n",
      "원문 : former brazilian football star carlos became a father for the ninth time after he welcomed his new daughter on sunday is the former brazil second child with his current wife notably the 44 year old has seven other children from other relationships including five sons one of whom is adopted \n",
      "실제 요약 : ex brazil star becomes father for time \n",
      "예측 요약 :  ex football captain son for\n",
      "\n",
      "\n",
      "원문 : israeli prime minister benjamin netanyahu gandhi as in a note left at mahatma gandhi's ashram during his visit to gujarat an inspiring visit to the of one of great of inspiration he wrote in the note notably netanyahu is the first israeli prime minister to visit india in 15 years \n",
      "실제 요약 : israeli pm gandhi as \n",
      "예측 요약 :  pm modi israeli pm\n",
      "\n",
      "\n",
      "원문 : at least 64 people have been killed and 44 others have been missing in flooding and caused by rain in western and central japan the country's meteorological agency urged against rising rivers and strong winds prime minister shinzo abe told his ministers to make an all out effort to rescue victims saying the situation is extremely serious \n",
      "실제 요약 : killed missing as rain hits japan \n",
      "예측 요약 :  22 killed missing in sri lanka\n",
      "\n",
      "\n",
      "원문 : talking about the of flying cars larry page backed flying car startup ceo has said eventually it will be cheaper than normal cars adding that they have been working on flying cars for about eight years now he also said we have done many many thousands of successful flights we are working towards he added \n",
      "실제 요약 : flying cars will be than cars ceo \n",
      "예측 요약 :  flying taxi will cars cars ceo\n",
      "\n",
      "\n",
      "원문 : uttar pradesh cm yogi adityanath on wednesday directed state officials to create better shelter facilities for the proper care of stray cows in the state the cm has also asked the state officials to protect the land from the of the cm has allotted ã¢ââ¹10 crore to each of the 16 municipal for setting up \n",
      "실제 요약 : ensure better for cows up cm yogi adityanath \n",
      "예측 요약 :  up govt to make yogi for cows\n",
      "\n",
      "\n",
      "원문 : egyptian artist mohammed seeks to set a guinness world record for creating the largest with a recently created 700 metre long he stated that he self funded the project for the past three years the is displayed in a wooden box with at each end \n",
      "실제 요약 : seeks to set world record with 700 m \n",
      "예측 요약 :  to set record world record\n",
      "\n",
      "\n",
      "원문 : the 64 year old of french company has become the world's richest woman with a net worth of 43 3 billion this comes days after her mother and the world's richest woman passed away at the age of 94 had a fortune of over 45 billion when she passed away on thursday \n",
      "실제 요약 : becomes the world's richest woman \n",
      "예측 요약 :  world's richest woman becomes world's richest woman\n",
      "\n",
      "\n",
      "원문 : at least five people were killed and 25 others were injured when a rolled down a hill and hit tourists in the baba in district jammu and kashmir a police officer said the rock was probably by monsoon rains meanwhile the army and police were into service for a rescue operation he added \n",
      "실제 요약 : 5 dead as falls on tourists at j k \n"
     ]
    },
    {
     "name": "stdout",
     "output_type": "stream",
     "text": [
      "예측 요약 :  5 killed in and vehicle in j k\n",
      "\n",
      "\n",
      "원문 : eight indians are among the 10 people who won nearly ã¢ââ¹1 8 crore one million each in a recent draw in abu dhabi the big ticket draw which was held at the abu dhabi international airport is the largest and longest running monthly draw for cash and luxury cars in the uae capital \n",
      "실제 요약 : 8 indians win ã¢ââ¹1 8 crore each in uae \n",
      "예측 요약 :  8 indians in ipl ticket for ã¢ââ¹6 crore\n",
      "\n",
      "\n",
      "원문 : pm narendra modi was presented with united highest environmental honour of the in delhi by un secretary general on wednesday pm modi was recognised for his leadership of the international solar alliance and to eliminate single use plastic in india by 2022 he was among six winners including french president emmanuel macron \n",
      "실제 요약 : pm modi receives united highest honour \n",
      "예측 요약 :  pm modi with national award\n",
      "\n",
      "\n",
      "원문 : shah rukh khan has revealed that his son gets really excited while telling him about abuses that he has learnt srk added i'm from delhi i've also been that age and my of hindi is fantastic srk further revealed that sometimes they just lie down in their shorts without their shirts and \n",
      "실제 요약 : gets me about srk \n",
      "예측 요약 :  son told me to my shah rukh khan\n",
      "\n",
      "\n",
      "원문 : nationalist congress party president sharad pawar on wednesday said the ram temple issue might not benefit the bjp if it is raised ahead of 2019 lok sabha elections his comment came a day after the bjp lost assembly elections in three states where it was in power he also said that people do not accept an issue twice \n",
      "실제 요약 : ram temple issue may not bjp in 2019 polls \n",
      "예측 요약 :  ram temple not to be in 2019 polls\n",
      "\n",
      "\n",
      "원문 : an indian origin man in the us has been sentenced to 20 years in prison for killing his wife by her nearly 40 times after she told him she was having an affair the man said he attacked his wife after she said she was leaving him and would be taking all of his money and their children with her \n",
      "실제 요약 : indian origin man in us jailed for 20 years for killing wife \n",
      "예측 요약 :  indian origin man jailed for 20 yrs for wife\n",
      "\n",
      "\n",
      "원문 : pc jeweller has withdrawn a proposal to buyback shares worth crore after it failed to receive the no objection certificate from its pc jeweller has lost nearly 80 of its market value in last six months after reports of its with financial services firm and a gift of shares by a promoter to his family members \n",
      "실제 요약 : withdraws crore share proposal \n",
      "예측 요약 :  withdraws down from after 6 months\n",
      "\n",
      "\n",
      "원문 : american mixed martial artist johnson defended his title for the 11th consecutive time at ufc on saturday surpassing the defence record he shared with champion anderson johnson who stopped his opponent ray by in the fifth round to achieve the feat landed total strikes as compared to 22 \n",
      "실제 요약 : champion defends title for record time \n",
      "예측 요약 :  wins title for 2nd time\n",
      "\n",
      "\n",
      "원문 : the release date of hrithik roshan starrer has been postponed to january 25 2019 the vikas bahl directorial was earlier scheduled to release on november 23 is a biopic on anand kumar who is credited with starting an educational initiative in bihar to prepare but financially challenged students for the iit entrance examination \n",
      "실제 요약 : release date of hrithik \n",
      "예측 요약 :  release date of hrithik announced\n",
      "\n",
      "\n",
      "원문 : reliance jio and competition commission of india cci have moved the supreme court challenging an order a probe into airtel vodafone and idea bombay high court had the order to probe jio's complaint of against the in september 2017 jio alleged the firms denied points causing failure of calls made by its customers \n",
      "실제 요약 : jio order probe on \n",
      "예측 요약 :  reliance moves sc against reliance jio\n",
      "\n",
      "\n",
      "원문 : jammu and kashmir police on monday said that the militants who surrender will be accepted into the mainstream even if they surrendered in the middle of an encounter with security forces we will go a hundred steps to you to take care of your future and ensure your safety inspector general of police crpf hasan said \n",
      "실제 요약 : militants who will be j k police \n",
      "예측 요약 :  militants to save j k police\n",
      "\n",
      "\n",
      "원문 : which released today from a plot that fails to offer the fun expected of a story of its kind wrote hindustan times times of india said only reason to smile in the movie is rajkummar rao ndtv wrote the film in a of it was rated 2 5 5 toi 2 5 ht ndtv \n",
      "실제 요약 : rajkummar rao starrer hits the theatres \n",
      "예측 요약 :  hits the theatres\n",
      "\n",
      "\n",
      "원문 : man in uttar pradesh's was allegedly beaten to death by policemen over money dispute on monday the 44 year old victim who ran a near a liquor shop was reportedly attacked by a group of policemen led by sub inspector ashish yadav the sub inspector has been suspended while a ã¢ââ¹1 lakh compensation has been announced for the victim's family \n",
      "실제 요약 : man killed by over money dispute \n",
      "예측 요약 :  up man to death for not paying fine\n",
      "\n",
      "\n",
      "원문 : around 200 naked models participated in a public body painting promoting and on friday in times square new york the models painted like all you need is love and my body my art on their bodies they were photographed with the as part of the body notes \n",
      "실제 요약 : of in to \n",
      "예측 요약 :  200 200 people in\n",
      "\n",
      "\n",
      "원문 : ahead of the india pakistan match in the upcoming champions trophy tournament pakistan cricket fan has turned into an indian team supporter i still love pakistan but i love india more now earlier i wanted pakistan to win but now it is india said chicago based mohammad he further said india should win the game easily \n",
      "실제 요약 : pakistan cricket fan turns india \n",
      "예측 요약 :  pak captain india shahid on champions trophy\n",
      "\n",
      "\n",
      "원문 : patanjali witnessed a 10 decline in revenues to ã¢ââ¹8 135 crore in 2017 18 compared to ã¢ââ¹9 crore the previous year according to data by care ratings profit fell 56 to crore the revenue decline was mainly due to to to the gst regime and develop infrastructure and supply chain care said \n",
      "실제 요약 : patanjali fall 10 to crore in 2017 18 \n",
      "예측 요약 :  patanjali profit rises 10 to crore in june quarter\n",
      "\n",
      "\n",
      "원문 : e commerce major snapdeal is about 50 of its corporate office in gurugram in order to cut costs according to reports snapdeal has been working towards reducing its operational costs to bring down its losses snapdeal's losses more than doubled to ã¢ââ¹2 crore around million for the financial year ended march 31 2016 \n",
      "실제 요약 : snapdeal may its gurugram office to cut \n",
      "예측 요약 :  tata 50 50 mn in gurugram\n",
      "\n",
      "\n",
      "원문 : indian professionals prefer homegrown technology and mobile internet companies like parent communications and flipkart over global giants such as google and amazon as their workplace according to a report the report ranked 25 companies that are most by professionals in india cab hailing startup ola dropped 11 spots to be ranked 16th this year \n",
      "실제 요약 : indians paytm over google as \n",
      "예측 요약 :  flipkart payments tech firms among online\n",
      "\n",
      "\n",
      "원문 : the election commission has rejected congress candidate g nomination for the reserved seat in karnataka assembly elections after he falsely claimed in his affidavit that he was a dalit the was based on a high court order that he failed to prove he was a dalit belongs to the community which falls under \n",
      "실제 요약 : k'taka cong candidate rejected over fake dalit claim \n",
      "예측 요약 :  ec rejects cong candidate for seat seat\n",
      "\n",
      "\n",
      "원문 : robert who is years old and believed to be britain's oldest man refused a birthday card from queen elizabeth ii saying that he has got too many of them he accepted a card from the queen two years ago because she had been on it in the rest of the cards she looked a bit he said n n \n",
      "실제 요약 : oldest man refuses birthday card from the \n",
      "예측 요약 :  my oldest man on birthday\n",
      "\n",
      "\n",
      "원문 : goldman sachs ceo reportedly took a dig at us president donald trump in a tweet about solar eclipse saying wish the moon wasn't the only thing casting a across the country notably tweeted for the first time ever in june 2017 to express over trump's decision to pull out of the paris climate accord \n",
      "실제 요약 : moon not the only on us ceo \n",
      "예측 요약 :  time trump tweets trump\n",
      "\n",
      "\n",
      "원문 : bjp on friday approached the election commission demanding action against congress and its president rahul gandhi for his interview published in an english daily on thursday and called it a example of paid news claiming rahul tried to influence voters union minister abbas naqvi said no campaigning or such should be done 48 hours before polling \n",
      "실제 요약 : rahul's paid news take action bjp to ec \n"
     ]
    },
    {
     "name": "stdout",
     "output_type": "stream",
     "text": [
      "예측 요약 :  bjp demands action against rahul gandhi\n",
      "\n",
      "\n",
      "원문 : national carrier air india's net loss to ã¢ââ¹3 crore in 2016 17 union minister jayant sinha informed the parliament on thursday the airline recorded operating profit of crore last fiscal compared to crore in 2015 16 he further said that as per the figures air india's total loans as on march 31 2017 are around crore \n",
      "실제 요약 : air india's net loss to ã¢ââ¹3 600 crore in 2016 17 \n",
      "예측 요약 :  air india ã¢ââ¹3 crore in 2016 17\n",
      "\n",
      "\n",
      "원문 : calling karnataka governor a of bjp congress spokesperson randeep surjewala on wednesday said the governor has his office by giving 15 days time governor is encouraging horse trading by bjp leaders the jd s congress cm candidate hd kumaraswamy said this comes after bjp's bs yeddyurappa was formally invited to form the government \n",
      "실제 요약 : karnataka governor has his office congress \n",
      "예측 요약 :  cong has 15 to k'taka cm on k'taka polls\n",
      "\n",
      "\n",
      "원문 : actor shahid kapoor while reacting to the burning down of the sets of his upcoming film 'padmavati' said it is unfortunate that something like this has happened for the second time he added that he is not aware of who is responsible for the earlier in jaipur director sanjay leela bhansali was by protesters during the film's shooting \n",
      "실제 요약 : it again shahid on \n",
      "예측 요약 :  it is a on shahid kapoor\n",
      "\n",
      "\n",
      "원문 : doctors in pune successfully replaced 60 of a four year old girl's damaged skull with a three bone vishal claimed this was not only the first successful skull surgery in india but also in asia pacific the girl suffered major injuries after a road accident on may 31 2017 and was re admitted in may this year \n",
      "실제 요약 : 4 year old girl gets india's 1st in pune \n",
      "예측 요약 :  doctors find in 4 yr old man's claim\n",
      "\n",
      "\n",
      "원문 : bjp leader piyush goyal on thursday called congress president rahul gandhi's media address in bengaluru adding that many people were not allowed to ask questions during the address and that other questions were goyal said congress their president along with the failed and corrupt siddaramaiah government have no answers on issues of karnataka \n",
      "실제 요약 : rahul bengaluru media bjp \n",
      "예측 요약 :  rahul's not in rahul's hands bjp leader\n",
      "\n",
      "\n",
      "원문 : after samajwadi party candidates won in uttar pradesh bypolls with support a poster of the respective party akhilesh yadav and mayawati was seen outside samajwadi party office the caption on the poster read thank you to the people of and gorakhpur for the victory sp bsp won in gorakhpur seat held by cm yogi adityanath for 19 years \n",
      "실제 요약 : akhilesh poster outside sp office post win \n",
      "예측 요약 :  poster shows khan as sp\n",
      "\n",
      "\n",
      "원문 : first woman chairman bhattacharya retired on friday over 40 years after joining the country's largest lender as a officer she said i've seen the bank from a long distance from the days of huge to now when everything is on cloud i'm happy that i've future the bank she added \n",
      "실제 요약 : first woman chairman \n",
      "예측 요약 :  woman chief 40 yrs ago\n",
      "\n",
      "\n",
      "원문 : the united states government on friday said that it is unable to confirm reports of nirav modi's presence in the country this comes after reports recently suggested that nirav modi was seen in new york nirav modi is a key accused in the ã¢ââ¹11 400 crore punjab national bank fraud case \n",
      "실제 요약 : can't reports of in the country us \n",
      "예측 요약 :  us report may have been in report\n",
      "\n",
      "\n"
     ]
    }
   ],
   "source": [
    "for i in range(50, 100):\n",
    "    print(\"원문 :\", seq2text(encoder_input_test[i]))\n",
    "    print(\"실제 요약 :\", seq2summary(decoder_input_test[i]))\n",
    "    print(\"예측 요약 :\", decode_sequence(encoder_input_test[i].reshape(1, text_max_len)))\n",
    "    print(\"\\n\")"
   ]
  },
  {
   "cell_type": "markdown",
   "id": "shared-backing",
   "metadata": {},
   "source": [
    "## 5. 추출적 요약\n",
    "-----"
   ]
  },
  {
   "cell_type": "markdown",
   "id": "diverse-passage",
   "metadata": {},
   "source": [
    "### Summa.summarize 모듈임포트"
   ]
  },
  {
   "cell_type": "code",
   "execution_count": 84,
   "id": "gorgeous-efficiency",
   "metadata": {},
   "outputs": [],
   "source": [
    "import requests\n",
    "from summa.summarizer import summarize"
   ]
  },
  {
   "cell_type": "markdown",
   "id": "sealed-france",
   "metadata": {},
   "source": [
    "### 추출적 분석용 test컬럼 데이터 생성"
   ]
  },
  {
   "cell_type": "code",
   "execution_count": 193,
   "id": "handy-loading",
   "metadata": {},
   "outputs": [
    {
     "name": "stdout",
     "output_type": "stream",
     "text": [
      "전체 샘플수 : 98360\n",
      "전체 샘플 중 길이가 60 이하인 샘플의 비율: 0.997448149654331\n",
      "전체 샘플 중 길이가 12 이하인 샘플의 비율: 0.9768198454656364\n"
     ]
    },
    {
     "data": {
      "text/plain": [
       "'A Zomato user recently shared screenshots of a text conversation with Zomato\\'s customer care over a delayed food delivery order. The startup\\'s customer care sent a sad emoticon to the user instead of the usual formal response. When the user asked, \"Should we really break up now,\" Zomato replied, \"Noooo, I can\\'t loose you\".'"
      ]
     },
     "execution_count": 193,
     "metadata": {},
     "output_type": "execute_result"
    }
   ],
   "source": [
    "# 데이터 불러오기\n",
    "new_data = pd.read_csv('news_summary_more.csv', encoding='iso-8859-1')\n",
    "new_data.drop_duplicates(subset = ['text'], inplace=True)\n",
    "print('전체 샘플수 :', (len(data)))\n",
    "\n",
    "# 데이터 최대길이 초과한 데이터 제거\n",
    "below_threshold_len(text_max_len, new_data['text'])\n",
    "below_threshold_len(headlines_max_len, new_data['headlines'])\n",
    "\n",
    "# 추출적 분석용 input_test 데이터 생성 \n",
    "new_encoder_input = np.array(new_data['text'])\n",
    "new_encoder_input = new_encoder_input[indices]\n",
    "new_encoder_input_test = new_encoder_input[-n_of_val:]\n",
    "\n",
    "new_encoder_input_test[0] "
   ]
  },
  {
   "cell_type": "markdown",
   "id": "turkish-symphony",
   "metadata": {},
   "source": [
    "### 추상적 headline 과 추출적 headline 비교"
   ]
  },
  {
   "cell_type": "code",
   "execution_count": 264,
   "id": "american-burning",
   "metadata": {},
   "outputs": [
    {
     "name": "stdout",
     "output_type": "stream",
     "text": [
      "<< 50 >>---------------------------------------------------------------------\n",
      "[원문]\n",
      ": Reacting to Senegal coach Aliou CissÃÂ©'s celebration during the team's victory against Poland at the 2018 FIFA World Cup, a user tweeted, \"CissÃÂ© is me when there's free food at work\n",
      "\n",
      "\" Other users wrote, \"Me when I wake up early but realise I've 10 more minutes of sleep before the alarm rings,\" and \"CissÃÂ©'s like: 'Celebrate\n",
      "\n",
      " But make it fashion'\n",
      "\n",
      "\" \n",
      "[추상적 headline]\n",
      ":  uber to let users track videos via\n",
      "ratio, len(text),word: 0.5 366 16\n",
      "[추출적 headline]\n",
      ": Reacting to Senegal coach Aliou CissÃÂ©'s celebration during the team's victory against Poland at the 2018 FIFA World Cup, a user tweeted, \"CissÃÂ© is me when there's free food at work\n",
      "<< 51 >>---------------------------------------------------------------------\n",
      "[원문]\n",
      ": Security footage from a State Bank of India branch in Pathankot showed a naked man stealing the guard's shoes, two pressure cookers, and a pan, instead of money\n",
      "\n",
      " He had entered the bank through a hole he dug\n",
      "\n",
      " The manager said that the CCTV footage showed the man trying to break the locker but failing to do so\n",
      "\n",
      "\n",
      "[추상적 headline]\n",
      ":  man receives 25 in ipl\n",
      "ratio, len(text),word: 0.5 320 16\n",
      "[추출적 headline]\n",
      ": Security footage from a State Bank of India branch in Pathankot showed a naked man stealing the guard's shoes, two pressure cookers, and a pan, instead of money\n",
      "<< 52 >>---------------------------------------------------------------------\n",
      "[원문]\n",
      ": American aviation and aerospace company Boeing has unveiled a prototype of a vertical-takeoff-and-landing (eVTOL) unmanned aerial vehicle that can carry up to 226\n",
      "\n",
      "7 kilograms of cargo\n",
      "\n",
      " The vehicle is fully electric, measures 15 by 18 feet and weighs more than 317 kilograms\n",
      "\n",
      " The vehicle is also outfitted with eight counter-rotating propeller blades and custom Boeing batteries\n",
      "\n",
      "\n",
      "[추상적 headline]\n",
      ":  minister apologises for minister remark\n",
      "ratio, len(text),word: 0.5 390 16\n",
      "[추출적 headline]\n",
      ": The vehicle is fully electric, measures 15 by 18 feet and weighs more than 317 kilograms\n",
      "<< 53 >>---------------------------------------------------------------------\n",
      "[원문]\n",
      ":  An Ahmedabad-Delhi Vistara flight was delayed by four hours today due to a hoax bomb threat, a senior aviation official said\n",
      "\n",
      " The hoax threat was made to the Vistara call centre in Gurugram, following which a Bomb Threat Assessment Committee was convened\n",
      "\n",
      " The flight underwent a security drill, while Vistara told passengers it was delayed due to \"mandatory security checks\"\n",
      "\n",
      " \n",
      "[추상적 headline]\n",
      ":  tripura cops use to protest on rumours of\n",
      "ratio, len(text),word: 0.5 386 16\n",
      "[추출적 headline]\n",
      ": An Ahmedabad-Delhi Vistara flight was delayed by four hours today due to a hoax bomb threat, a senior aviation official said\n",
      "<< 54 >>---------------------------------------------------------------------\n",
      "[원문]\n",
      ": Australia in 1932 declared a war against emus, as about 20,000 emus began occupying farmland, which was intended for WWI veterans\n",
      "\n",
      " The Ministry of Defence deployed soldiers and provided machine guns to annihilate the birds\n",
      "\n",
      " Only about 1,000 emus were killed and when the 'Great Emu War' was discussed in the Parliament, a representative stated that emus won the war\n",
      "\n",
      " \n",
      "[추상적 headline]\n",
      ":  pm modi wishes pm modi on his independence day\n",
      "ratio, len(text),word: 0.5 376 16\n",
      "[추출적 headline]\n",
      ": Australia in 1932 declared a war against emus, as about 20,000 emus began occupying farmland, which was intended for WWI veterans\n",
      "<< 55 >>---------------------------------------------------------------------\n",
      "[원문]\n",
      ": The tallest hotel in the world, the 356-metre-high Gevora Hotel, has opened in Dubai\n",
      "\n",
      " The 75-storey structure broke the record earlier held by JW Marriott Marquis, which is also situated in Dubai, by just one metre\n",
      "\n",
      " The Gevora Hotel has 528 rooms, four dining options, a luxury spa and a swimming pool, among other facilities\n",
      "\n",
      "\n",
      "[추상적 headline]\n",
      ":  paytm buys lakh in market cap after selling shares\n",
      "ratio, len(text),word: 0.5 335 16\n",
      "[추출적 headline]\n",
      ": The tallest hotel in the world, the 356-metre-high Gevora Hotel, has opened in Dubai\n",
      "<< 56 >>---------------------------------------------------------------------\n",
      "[원문]\n",
      ": News anchor Radhika Kaushik died after falling from the fourth floor of her apartment building in Noida on Friday morning\n",
      "\n",
      " Police said a party was going on in her flat at the time of the incident and recovered bottles of alcohol\n",
      "\n",
      " Police claimed Kaushik's co-anchor was also in the flat and they reportedly had an argument before she fell\n",
      "\n",
      "\n",
      "[추상적 headline]\n",
      ":  i don't ranveer to do a as ranveer singh\n",
      "ratio, len(text),word: 0.5 347 16\n",
      "[추출적 headline]\n",
      ": Police claimed Kaushik's co-anchor was also in the flat and they reportedly had an argument before she fell\n",
      "<< 57 >>---------------------------------------------------------------------\n",
      "[원문]\n",
      ": The trailer of the Ajith and Vivek Oberoi starrer 'Vivegam', which marks the Bollywood actor's debut in Tamil films, has been released\n",
      "\n",
      " The film, which also stars Kajal Aggarwal and Akshara Haasan, has been shot in countries like Romania, Albania, Bulgaria and Serbia\n",
      "\n",
      " Written and directed by Siva, the film is scheduled to release on August 24\n",
      "\n",
      "\n",
      "[추상적 headline]\n",
      ":  trump to set up white house in\n",
      "ratio, len(text),word: 0.5 354 16\n",
      "[추출적 headline]\n",
      ": Written and directed by Siva, the film is scheduled to release on August 24\n",
      "<< 58 >>---------------------------------------------------------------------\n",
      "[원문]\n",
      ": Odisha's Jagannath Temple was closed on Friday following a scuffle between a priest and the police\n",
      "\n",
      " On Thursday, the police had stopped a priest from taking three devotees inside the temple as they suspected the devotees of not being Hindus\n",
      "\n",
      " Meanwhile, the priest insisted the devotees were Bengalis, which led to the fight\n",
      "\n",
      "\n",
      "[추상적 headline]\n",
      ":  sachin pays tribute to to\n",
      "ratio, len(text),word: 0.5 333 16\n",
      "[추출적 headline]\n",
      ": On Thursday, the police had stopped a priest from taking three devotees inside the temple as they suspected the devotees of not being Hindus\n",
      "<< 59 >>---------------------------------------------------------------------\n",
      "[원문]\n",
      ": US President Donald Trump's youngest son, Barron Trump, was seen practising his football skills in the White House's lawns while wearing a full Arsenal kit\n",
      "\n",
      " The 11-year-old was pictured in the lawn during Monday's Easter Egg Roll at the White House\n",
      "\n",
      " Several members of US' professional soccer league Major League Soccer were present at the lawn party\n",
      "\n",
      "\n",
      "[추상적 headline]\n",
      ":  gets rbi bank merger with bank\n",
      "ratio, len(text),word: 0.5 360 16\n",
      "[추출적 headline]\n",
      ": The 11-year-old was pictured in the lawn during Monday's Easter Egg Roll at the White House\n",
      "<< 60 >>---------------------------------------------------------------------\n",
      "[원문]\n",
      ": Actress Rakhi Sawant on Wednesday said that she is getting married to social media personality Deepak Kalal in Los Angeles on December 31 this year\n",
      "\n",
      " \"Everyone in the industry is tying the knot\n",
      "\n",
      "\n",
      "\n",
      "\n",
      "\n",
      "I felt it was the right time for me to get married too,\" Rakhi said\n",
      "\n",
      " \"Deepak proposed me on India's Got Talent\n",
      "\n",
      "\n",
      "\n",
      "\n",
      "\n",
      "I decided to say yes,\" she added\n",
      "\n",
      " \n",
      "[추상적 headline]\n",
      ":  files for book that used to be made\n",
      "ratio, len(text),word: 0.5 369 16\n",
      "[추출적 headline]\n",
      ": Actress Rakhi Sawant on Wednesday said that she is getting married to social media personality Deepak Kalal in Los Angeles on December 31 this year\n",
      "<< 61 >>---------------------------------------------------------------------\n",
      "[원문]\n",
      ": A man has been arrested in the US state of Florida for possessing cocaine that was hidden inside a 'Cookie Monster' doll\n",
      "\n",
      " The man was arrested when police officials searched his car upon smelling marijuana and found the doll\n",
      "\n",
      " Suspecting that the doll seemed heavier than it should be, officials found packages inside it that contained cocaine\n",
      "\n",
      "\n",
      "[추상적 headline]\n",
      ":  ex army officer breaks record for highest\n",
      "ratio, len(text),word: 0.5 352 16\n",
      "[추출적 headline]\n",
      ": A man has been arrested in the US state of Florida for possessing cocaine that was hidden inside a 'Cookie Monster' doll\n",
      "<< 62 >>---------------------------------------------------------------------\n",
      "[원문]\n",
      ": Three men were given death penalty by a local court in Himachal Pradesh's Shimla on Wednesday for kidnapping and murdering a four-year-old boy in 2014\n",
      "\n",
      " The child was tortured, starved and forced to consume liquor before he was thrown into a water tank, police said\n",
      "\n",
      " His skeletal remains were found inside the tank in August 2016\n",
      "\n",
      " \n"
     ]
    },
    {
     "name": "stdout",
     "output_type": "stream",
     "text": [
      "[추상적 headline]\n",
      ":  sc asks to shelter to shelter\n",
      "ratio, len(text),word: 0.5 339 16\n",
      "[추출적 headline]\n",
      ": The child was tortured, starved and forced to consume liquor before he was thrown into a water tank, police said\n",
      "<< 63 >>---------------------------------------------------------------------\n",
      "[원문]\n",
      ": The New Delhi Municipal Corporation has announced that Gole Market near Connaught Place will be transformed into a museum to house materials of cultural and historical importance related to Delhi\n",
      "\n",
      " The museum will reportedly have four components including a photo exhibition, documentaries, freedom movement, and paintings and sculpture\n",
      "\n",
      " The project is expected to be completed by September 2018\n",
      "\n",
      " \n",
      "[추상적 headline]\n",
      ":  ex football captain son for\n",
      "ratio, len(text),word: 0.5 405 16\n",
      "[추출적 headline]\n",
      ": The New Delhi Municipal Corporation has announced that Gole Market near Connaught Place will be transformed into a museum to house materials of cultural and historical importance related to Delhi\n",
      "<< 64 >>---------------------------------------------------------------------\n",
      "[원문]\n",
      ": US President Donald Trump cheats like hell on the golf course, Trump's golfing partner and 15-time LPGA Tour winner Suzann Pettersen has said\n",
      "\n",
      " \"He always says he is the world's best putter\n",
      "\n",
      " But in all the times I've played (with) him, he's never come close to breaking 80,\" Pettersen who holds a career-best world rank of No\n",
      "\n",
      " 2 added\n",
      "\n",
      "n\n",
      "[추상적 headline]\n",
      ":  pm modi israeli pm\n",
      "ratio, len(text),word: 0.5 347 16\n",
      "[추출적 headline]\n",
      ": But in all the times I've played (with) him, he's never come close to breaking 80,\" Pettersen who holds a career-best world rank of No\n",
      "<< 65 >>---------------------------------------------------------------------\n",
      "[원문]\n",
      ": Answering a question on his rivalry with Lionel Messi especially after leaving Real Madrid, Cristiano Ronaldo said, \"everybody is fighting for their own club\n",
      "\n",
      "\n",
      "\n",
      "\n",
      "\n",
      " at the end of the story we will see who is the best\"\n",
      "\n",
      " The 33-year-old, attending his first press conference after joining Juventus, also said, \"I don't see players as rivals\n",
      "\n",
      " That's not as I live\"\n",
      "\n",
      "\n",
      "[추상적 headline]\n",
      ":  22 killed missing in sri lanka\n",
      "ratio, len(text),word: 0.5 376 16\n",
      "[추출적 headline]\n",
      ": Answering a question on his rivalry with Lionel Messi especially after leaving Real Madrid, Cristiano Ronaldo said, \"everybody is fighting for their own club\n",
      "<< 66 >>---------------------------------------------------------------------\n",
      "[원문]\n",
      ": Personal security officers of CBI Director Alok Verma, who was sent on leave following an order by the government on Wednesday, held four men outside the CBI house on Thursday morning\n",
      "\n",
      " The men were later detained by the Delhi Police, who are currently questioning them\n",
      "\n",
      " The men had reportedly been 'stationed' outside Verma's residence in a car since Wednesday night\n",
      "\n",
      "\n",
      "[추상적 headline]\n",
      ":  flying taxi will cars cars ceo\n",
      "ratio, len(text),word: 0.5 376 16\n",
      "[추출적 headline]\n",
      ": The men had reportedly been 'stationed' outside Verma's residence in a car since Wednesday night\n",
      "<< 67 >>---------------------------------------------------------------------\n",
      "[원문]\n",
      ": Delhi recorded the lowest temperature of the season at 2\n",
      "\n",
      "6 degrees Celsius on Saturday morning, a Meteorological Department official said\n",
      "\n",
      " The official said the temperature is four notches below the season's average, adding that the maximum temperature is expected to hover around 19 degrees Celsius\n",
      "\n",
      " The visibility in the morning was 1,500 metres in most parts of the city\n",
      "\n",
      "\n",
      "[추상적 headline]\n",
      ":  up govt to make yogi for cows\n",
      "ratio, len(text),word: 0.5 386 16\n",
      "[추출적 headline]\n",
      ": The official said the temperature is four notches below the season's average, adding that the maximum temperature is expected to hover around 19 degrees Celsius\n",
      "<< 68 >>---------------------------------------------------------------------\n",
      "[원문]\n",
      ": US-based researchers have developed an electrode grid-based plastic wrap that maps the brain during a surgery\n",
      "\n",
      " Compared to clinical electrode grids, the device is about a thousand times thinner (six micrometres) and the grid spacing is 25 times closer, providing higher resolution recordings\n",
      "\n",
      " The higher resolution could enable doctors to perform safer, more precise surgeries, researchers said\n",
      "\n",
      "\n",
      "[추상적 headline]\n",
      ":  to set record world record\n",
      "ratio, len(text),word: 0.5 404 16\n",
      "[추출적 headline]\n",
      ": The higher resolution could enable doctors to perform safer, more precise surgeries, researchers said\n",
      "<< 69 >>---------------------------------------------------------------------\n",
      "[원문]\n",
      ": The Delhi Commission for Women (DCW) has issued a notice to the principal of a school in Delhi's Malviya Nagar, where a 6-year-old girl was allegedly raped by a sweeper\n",
      "\n",
      " The Commission has asked the school how the male staff had access to women's toilet and if the police verification of the staff had been conducted\n",
      "\n",
      "\n",
      "[추상적 headline]\n",
      ":  world's richest woman becomes world's richest woman\n",
      "ratio, len(text),word: 0.5 323 16\n",
      "[추출적 headline]\n",
      ": The Delhi Commission for Women (DCW) has issued a notice to the principal of a school in Delhi's Malviya Nagar, where a 6-year-old girl was allegedly raped by a sweeper\n",
      "<< 70 >>---------------------------------------------------------------------\n",
      "[원문]\n",
      ": The body of a freelance journalist working with a Malayalam news channel was found in a canal near Kerala's Vaikom on Tuesday after a boat carrying him capsized in the canal\n",
      "\n",
      " The rescue operations were launched after two members of a media team that had gone to cover the flood-hit areas near Vaikom were reported missing on Monday\n",
      "\n",
      "\n",
      "[추상적 headline]\n",
      ":  5 killed in and vehicle in j k\n",
      "ratio, len(text),word: 0.5 338 16\n",
      "[추출적 headline]\n",
      ": The body of a freelance journalist working with a Malayalam news channel was found in a canal near Kerala's Vaikom on Tuesday after a boat carrying him capsized in the canal\n",
      "<< 71 >>---------------------------------------------------------------------\n",
      "[원문]\n",
      ": Dineshwar Sharma, recently appointed as the government's representative to initiate talks with stakeholders in Jammu and Kashmir, is a 1979-batch Indian Police Service officer of the Kerala cadre\n",
      "\n",
      " He served as the Director of Intelligence Bureau between 2014 and 2016\n",
      "\n",
      " Earlier in June this year, Sharma was appointed as government representative for talks with insurgent groups in Assam\n",
      "\n",
      "\n",
      "[추상적 headline]\n",
      ":  8 indians in ipl ticket for ã¢ââ¹6 crore\n",
      "ratio, len(text),word: 0.5 396 16\n",
      "[추출적 headline]\n",
      ": Dineshwar Sharma, recently appointed as the government's representative to initiate talks with stakeholders in Jammu and Kashmir, is a 1979-batch Indian Police Service officer of the Kerala cadre\n",
      "<< 72 >>---------------------------------------------------------------------\n",
      "[원문]\n",
      ": Dead bodies of five brothers aged between three and seven years were found inside an open well in Madhya Pradesh's Barwani\n",
      "\n",
      " While four of the siblings were born to one mother, the one aged three years was their stepbrother\n",
      "\n",
      " The mother of the four brothers and their father are reportedly missing, while the autopsy reports of the deceased are awaited\n",
      "\n",
      "\n",
      "[추상적 headline]\n",
      ":  pm modi with national award\n",
      "ratio, len(text),word: 0.5 360 16\n",
      "[추출적 headline]\n",
      ": While four of the siblings were born to one mother, the one aged three years was their stepbrother\n",
      "<< 73 >>---------------------------------------------------------------------\n",
      "[원문]\n",
      ": A man stabbed a 21-year-old aspiring air hostess multiple times on a busy street in Mansarovar Park area of Delhi in an alleged case of one-sided love affair\n",
      "\n",
      " While the woman was admitted to GTB Hospital where she succumbed to her injuries, the accused is on the run\n",
      "\n",
      " The incident was captured on the CCTV cameras installed in the neighbourhood\n",
      "\n",
      "\n",
      "[추상적 headline]\n",
      ":  son told me to my shah rukh khan\n",
      "ratio, len(text),word: 0.5 354 16\n",
      "[추출적 headline]\n",
      ": A man stabbed a 21-year-old aspiring air hostess multiple times on a busy street in Mansarovar Park area of Delhi in an alleged case of one-sided love affair\n",
      "<< 74 >>---------------------------------------------------------------------\n",
      "[원문]\n",
      ": A senior assistant manager at a bank in West Bengal stole coins worth Ã¢ÂÂ¹84 lakh over a period of 17 months to buy lottery tickets\n",
      "\n",
      " The 35-year-old, whose crime was uncovered during an annual audit, was arrested on Friday and confessed soon after\n",
      "\n",
      " Investigators said they are trying to figure out how he transported the coins out of the bank\n",
      "\n",
      "\n"
     ]
    },
    {
     "name": "stdout",
     "output_type": "stream",
     "text": [
      "[추상적 headline]\n",
      ":  ram temple not to be in 2019 polls\n",
      "ratio, len(text),word: 0.5 354 16\n",
      "[추출적 headline]\n",
      ": A senior assistant manager at a bank in West Bengal stole coins worth Ã¢ÂÂ¹84 lakh over a period of 17 months to buy lottery tickets\n",
      "<< 75 >>---------------------------------------------------------------------\n",
      "[원문]\n",
      ": Technology giant Microsoft has launched an AI-enabled smart speaker called 'Invoke' priced at $199 (Ã¢ÂÂ¹13,000) to compete with Amazon's Echo and Google Home\n",
      "\n",
      " Microsoft partnered with audio products specialist Harman Kardon to build the speaker which comes with Microsoft's digital assistant Cortana\n",
      "\n",
      " 'Invoke' has touch controls, and features an aux port along with the Bluetooth support\n",
      "\n",
      "\n",
      "[추상적 headline]\n",
      ":  indian origin man jailed for 20 yrs for wife\n",
      "ratio, len(text),word: 0.5 399 16\n",
      "[추출적 headline]\n",
      ": Technology giant Microsoft has launched an AI-enabled smart speaker called 'Invoke' priced at $199 (Ã¢ÂÂ¹13,000) to compete with Amazon's Echo and Google Home\n",
      "<< 76 >>---------------------------------------------------------------------\n",
      "[원문]\n",
      ": A fake news of WhatsApp introducing a third blue tick for chats being read by the government is doing rounds online\n",
      "\n",
      " However, WhatsApp chats are end-to-end encrypted and no third-party can read the chats\n",
      "\n",
      " WhatsApp, which is dealing with fake news crisis, said last week it is limiting forwarding messages to only five chats at once in India\n",
      "\n",
      "\n",
      "[추상적 headline]\n",
      ":  withdraws down from after 6 months\n",
      "ratio, len(text),word: 0.5 350 16\n",
      "[추출적 headline]\n",
      ": A fake news of WhatsApp introducing a third blue tick for chats being read by the government is doing rounds online\n",
      "<< 77 >>---------------------------------------------------------------------\n",
      "[원문]\n",
      ": Slamming Uttar Pradesh Chief Minister Yogi Adityanath, Bahujan Samaj Party (BSP) President Mayawati on Tuesday said that he would focus on the development of the state only when he gets time from his \"puja paath\" in temples\n",
      "\n",
      " \"The previous Samajwadi Party government was not good, but the present government is worse and is even lagging behind them,\" she added\n",
      "\n",
      " nn\n",
      "[추상적 headline]\n",
      ":  wins title for 2nd time\n",
      "ratio, len(text),word: 0.5 369 16\n",
      "[추출적 headline]\n",
      ": \n",
      "<< 78 >>---------------------------------------------------------------------\n",
      "[원문]\n",
      ": Rachel Crooks, who publicly accused US President Donald Trump of forcibly kissing her when she worked at Trump Tower in New York in 2005, has announced that she is running for the state legislature in Ohio\n",
      "\n",
      " \"I think my voice should have been heard then, and I'll still fight for it to be heard now,\" the 35-year-old first-time candidate said\n",
      "\n",
      "nn\n",
      "[추상적 headline]\n",
      ":  release date of hrithik announced\n",
      "ratio, len(text),word: 0.5 350 16\n",
      "[추출적 headline]\n",
      ": \n",
      "<< 79 >>---------------------------------------------------------------------\n",
      "[원문]\n",
      ": The Uttar Pradesh government is planning to introduce a bill granting ancestral property rights to unmarried granddaughters who have lost their fathers\n",
      "\n",
      " The bill will be tabled in the Budget session of the Uttar Pradesh legislature, commencing on Thursday\n",
      "\n",
      " The proposal was approved on Wednesday by the state cabinet at a meeting chaired by Chief Minister Yogi Adityanath\n",
      "\n",
      "nn\n",
      "[추상적 headline]\n",
      ":  reliance moves sc against reliance jio\n",
      "ratio, len(text),word: 0.5 383 16\n",
      "[추출적 headline]\n",
      ": The Uttar Pradesh government is planning to introduce a bill granting ancestral property rights to unmarried granddaughters who have lost their fathers\n",
      "<< 80 >>---------------------------------------------------------------------\n",
      "[원문]\n",
      ": Seventeen-year-old Tyler Ruzich has become the fifth teenager who has filed election papers to contest in the elections for Governor of the US state of Kansas\n",
      "\n",
      " The five teenagers, out of whom four are Republicans and one is a Democrat, have vowed to legalise marijuana\n",
      "\n",
      " There are no age restrictions to run for the post of a Governor in Kansas\n",
      "\n",
      "\n",
      "[추상적 headline]\n",
      ":  militants to save j k police\n",
      "ratio, len(text),word: 0.5 353 16\n",
      "[추출적 headline]\n",
      ": Seventeen-year-old Tyler Ruzich has become the fifth teenager who has filed election papers to contest in the elections for Governor of the US state of Kansas\n",
      "<< 81 >>---------------------------------------------------------------------\n",
      "[원문]\n",
      ": India is planning to build the world's highest railway line connecting Leh in Jammu & Kashmir to parts of Himachal Pradesh including Manali\n",
      "\n",
      " The 498-km-long line, to be built at an altitude of 3,300 metres will overtake the Qinghai-Tibet Railway\n",
      "\n",
      " It will also help boost India's defence against China at the Sino-Indian border\n",
      "\n",
      "\n",
      "[추상적 headline]\n",
      ":  hits the theatres\n",
      "ratio, len(text),word: 0.5 336 16\n",
      "[추출적 headline]\n",
      ": India is planning to build the world's highest railway line connecting Leh in Jammu & Kashmir to parts of Himachal Pradesh including Manali\n",
      "<< 82 >>---------------------------------------------------------------------\n",
      "[원문]\n",
      ": Jailed INLD chief OP Chautala has expelled his son Ajay from the primary membership of the party for his involvement in anti-party activities\n",
      "\n",
      " This comes days after Ajay's sons Dushyant and Digvijay were expelled from the party for indulging in \"indiscipline\" at a rally held on October 7\n",
      "\n",
      " Dushyant has claimed that his father's expulsion letter is \"forged\"\n",
      "\n",
      "\n",
      "[추상적 headline]\n",
      ":  up man to death for not paying fine\n",
      "ratio, len(text),word: 0.5 367 16\n",
      "[추출적 headline]\n",
      ": This comes days after Ajay's sons Dushyant and Digvijay were expelled from the party for indulging in \"indiscipline\" at a rally held on October 7\n",
      "<< 83 >>---------------------------------------------------------------------\n",
      "[원문]\n",
      ": Sheena Bora murder-accused Indrani Mukerjea filed an application in a CBI court on Tuesday, alleging that she was beaten up and threatened with sexual assault by jail officials\n",
      "\n",
      " This comes after Mukerjea, along with around 200 inmates, climbed up the prison's terrace and began protesting over the death of a convict\n",
      "\n",
      " They also allegedly hurt prison staff and damaged property\n",
      "\n",
      "\n",
      "[추상적 headline]\n",
      ":  200 200 people in\n",
      "ratio, len(text),word: 0.5 386 16\n",
      "[추출적 headline]\n",
      ": They also allegedly hurt prison staff and damaged property\n",
      "<< 84 >>---------------------------------------------------------------------\n",
      "[원문]\n",
      ": In an apology email sent to its riders in New York, ride-hailing startup Uber has said that by expanding so quickly, it \"failed to prioritise the people that helped get us here\n",
      "\n",
      "\" Admitting that it has \"fallen short\", Uber explained that it was embracing \"radical change\" following an investigation into the startup's questionable work environment\n",
      "\n",
      "\n",
      "[추상적 headline]\n",
      ":  pak captain india shahid on champions trophy\n",
      "ratio, len(text),word: 0.5 353 16\n",
      "[추출적 headline]\n",
      ": In an apology email sent to its riders in New York, ride-hailing startup Uber has said that by expanding so quickly, it \"failed to prioritise the people that helped get us here\n",
      "<< 85 >>---------------------------------------------------------------------\n",
      "[원문]\n",
      ": A 45-year-old man from Assam was allegedly lynched by four members of a non-governmental organisation (NGO) in Meghalaya's East Garo Hills district\n",
      "\n",
      " The victim, who had come to supply bakery items along with his brother-in-law, was assaulted on the pretext of examining his trade license\n",
      "\n",
      " Police immediately arrested three accused while one who had managed to escape, surrendered later\n",
      "\n",
      "\n",
      "[추상적 headline]\n",
      ":  patanjali profit rises 10 to crore in june quarter\n",
      "ratio, len(text),word: 0.5 395 16\n",
      "[추출적 headline]\n",
      ": A 45-year-old man from Assam was allegedly lynched by four members of a non-governmental organisation (NGO) in Meghalaya's East Garo Hills district\n",
      "<< 86 >>---------------------------------------------------------------------\n",
      "[원문]\n",
      ": Calcutta High Court judge CS Karnan has ordered the Chief Justice of India JS Khehar, and six other Supreme Court judges to appear before him at his residence near Kolkata by April 28\n",
      "\n",
      " The apex court had earlier issued an arrest warrant against Karnan in a contempt case, making it the first such order against a sitting High Court judge\n",
      "\n",
      "\n",
      "[추상적 headline]\n",
      ":  tata 50 50 mn in gurugram\n",
      "ratio, len(text),word: 0.5 344 16\n",
      "[추출적 headline]\n",
      ": \n",
      "<< 87 >>---------------------------------------------------------------------\n",
      "[원문]\n",
      ": Pakistan spinner Shadab Khan has been fined 20% of match fee for making an inappropriate comment and pointing his finger at Windies' Chadwick Walton after getting him out in the second T20I on Monday\n",
      "\n",
      " The spinner also received one demerit point for his action\n",
      "\n",
      " Shadab ended with bowling figures of 4-0-23-2 in the match as Pakistan registered an 82-run win\n",
      "\n",
      "\n"
     ]
    },
    {
     "name": "stdout",
     "output_type": "stream",
     "text": [
      "[추상적 headline]\n",
      ":  flipkart payments tech firms among online\n",
      "ratio, len(text),word: 0.5 366 16\n",
      "[추출적 headline]\n",
      ": \n",
      "<< 88 >>---------------------------------------------------------------------\n",
      "[원문]\n",
      ": A five-judge Supreme Court bench will hear the petition moved by two Congress MPs against Rajya Sabha Chairman Venkaiah Naidu's rejection of impeachment motion against Chief Justice Dipak Misra\n",
      "\n",
      " The bench does not include the four senior SC judges who held a press conference against Misra\n",
      "\n",
      " The MPs' petition has called Naidu's rejection arbitrary and in violation of the Constitution\n",
      "\n",
      " \n",
      "[추상적 headline]\n",
      ":  ec rejects cong candidate for seat seat\n",
      "ratio, len(text),word: 0.5 395 16\n",
      "[추출적 headline]\n",
      ": A five-judge Supreme Court bench will hear the petition moved by two Congress MPs against Rajya Sabha Chairman Venkaiah Naidu's rejection of impeachment motion against Chief Justice Dipak Misra\n",
      "<< 89 >>---------------------------------------------------------------------\n",
      "[원문]\n",
      ": At least ten people were injured after eight coaches of Meerut-Lucknow Rajya Rani Express derailed near Kosi bridge in Rampur district of Uttar Pradesh on Saturday\n",
      "\n",
      " While the rescue team has rushed to the spot, the injured have been admitted to a nearby district hospital\n",
      "\n",
      " Meanwhile, Railway Minister Suresh Prabhu has ordered an enquiry into the incident\n",
      "\n",
      " \n",
      "[추상적 headline]\n",
      ":  my oldest man on birthday\n",
      "ratio, len(text),word: 0.5 366 16\n",
      "[추출적 headline]\n",
      ": At least ten people were injured after eight coaches of Meerut-Lucknow Rajya Rani Express derailed near Kosi bridge in Rampur district of Uttar Pradesh on Saturday\n",
      "<< 90 >>---------------------------------------------------------------------\n",
      "[원문]\n",
      ": Two female bikers, Amrutha Kashinath and Shubra Acharya, embarked on a journey on Tuesday to cover the estimated 4,000-kilometre distance from Kanyakumari to Leh in less than 100 hours\n",
      "\n",
      " The bikers, who said travelling is not unsafe for women in India, hope to enter Limca Book of Records for the feat\n",
      "\n",
      " They will be passing destinations like Hyderabad and Agra\n",
      "\n",
      " \n",
      "[추상적 headline]\n",
      ":  time trump tweets trump\n",
      "ratio, len(text),word: 0.5 370 16\n",
      "[추출적 headline]\n",
      ": Two female bikers, Amrutha Kashinath and Shubra Acharya, embarked on a journey on Tuesday to cover the estimated 4,000-kilometre distance from Kanyakumari to Leh in less than 100 hours\n",
      "<< 91 >>---------------------------------------------------------------------\n",
      "[원문]\n",
      ": Australian Test team captain Tim Paine has questioned the DRS, calling it a frustrating and an imperfect system\n",
      "\n",
      " In Australia's second innings, Aaron Finch was caught off off-spinner Ravichandran Ashwin's bowling but he didn't use the DRS after consulting partner Marcus Harris\n",
      "\n",
      " Replays later suggested that the ball had not touched the gloves\n",
      "\n",
      "\n",
      "[추상적 headline]\n",
      ":  bjp demands action against rahul gandhi\n",
      "ratio, len(text),word: 0.5 353 16\n",
      "[추출적 headline]\n",
      ": Australian Test team captain Tim Paine has questioned the DRS, calling it a frustrating and an imperfect system\n",
      "<< 92 >>---------------------------------------------------------------------\n",
      "[원문]\n",
      ": World number three tennis player Grigor Dimitrov jumped the net to check on his opponent Kyle Edmund who tumbled to the court, clutching his right ankle during a Brisbane International match\n",
      "\n",
      " Dimitrov consoled Edmund and walked him to his chair as the crowd applauded the sportsmanship\n",
      "\n",
      " \"It was just\n",
      "\n",
      "\n",
      "\n",
      "\n",
      "\n",
      "a natural instinct for me to go and jump over,\" said Dimitrov\n",
      "\n",
      " \n",
      "[추상적 headline]\n",
      ":  air india ã¢ââ¹3 crore in 2016 17\n",
      "ratio, len(text),word: 0.5 383 16\n",
      "[추출적 headline]\n",
      ": World number three tennis player Grigor Dimitrov jumped the net to check on his opponent Kyle Edmund who tumbled to the court, clutching his right ankle during a Brisbane International match\n",
      "<< 93 >>---------------------------------------------------------------------\n",
      "[원문]\n",
      ": Facebook is designing its own computer-chips to analyse and filter videos in real time, the company's Director at AI Research Yann LeCun has said\n",
      "\n",
      " LeCun also said that AI is helping the company tackle problems of extremist propaganda, fake accounts and hate speech\n",
      "\n",
      " Facebook is also putting together a team to design its own semiconductors, earlier reports claimed\n",
      "\n",
      "\n",
      "[추상적 headline]\n",
      ":  cong has 15 to k'taka cm on k'taka polls\n",
      "ratio, len(text),word: 0.5 374 16\n",
      "[추출적 headline]\n",
      ": Facebook is designing its own computer-chips to analyse and filter videos in real time, the company's Director at AI Research Yann LeCun has said\n",
      "<< 94 >>---------------------------------------------------------------------\n",
      "[원문]\n",
      ": Following the CBI filing a chargesheet against him, Himachal Pradesh CM Virbhadra Singh on Saturday rejected the charges as fabricated and accused the BJP of conspiring against him\n",
      "\n",
      " \"The fight has just begun and I know the truth will prevail\n",
      "\n",
      " The BJP is misusing its power,\" he added\n",
      "\n",
      " The CBI chargesheet also named his wife in the disproportionate assets case\n",
      "\n",
      "\n",
      "[추상적 headline]\n",
      ":  it is a on shahid kapoor\n",
      "ratio, len(text),word: 0.5 373 16\n",
      "[추출적 headline]\n",
      ": Following the CBI filing a chargesheet against him, Himachal Pradesh CM Virbhadra Singh on Saturday rejected the charges as fabricated and accused the BJP of conspiring against him\n",
      "<< 95 >>---------------------------------------------------------------------\n",
      "[원문]\n",
      ": The BCCI has reportedly decided that players' wives can join their husbands after 10 days into an overseas tour and stay for the remainder of the tour\n",
      "\n",
      " This comes after Virat Kohli's request to allow wives to accompany the team for an overseas tour's full duration\n",
      "\n",
      " Currently, the players' wives can accompany them on away tours for just two weeks\n",
      "\n",
      " \n",
      "[추상적 headline]\n",
      ":  doctors find in 4 yr old man's claim\n",
      "ratio, len(text),word: 0.5 358 16\n",
      "[추출적 headline]\n",
      ": Currently, the players' wives can accompany them on away tours for just two weeks\n",
      "<< 96 >>---------------------------------------------------------------------\n",
      "[원문]\n",
      ": Tesla has released some of its source code for the technology used in its cars including Autopilot and infotainment system\n",
      "\n",
      " Tesla also said it would keep updating the \"new versions corresponding to new releases over time\"\n",
      "\n",
      " Tesla has been accused by copyright holders for using their open source software like Linux and BusyBox without complying with the licenses\n",
      "\n",
      "\n",
      "[추상적 headline]\n",
      ":  rahul's not in rahul's hands bjp leader\n",
      "ratio, len(text),word: 0.5 372 16\n",
      "[추출적 headline]\n",
      ": Tesla has released some of its source code for the technology used in its cars including Autopilot and infotainment system\n",
      "<< 97 >>---------------------------------------------------------------------\n",
      "[원문]\n",
      ": At least 68 people were killed in rioting and a fire in the cells of a Venezuelan police station on Wednesday, government officials said\n",
      "\n",
      " The blaze reportedly started after prisoners set fire to mattresses in an attempt to break out\n",
      "\n",
      " Prisoners in overcrowded Venezuelan jails often openly use machine guns, grenades and drugs, leaving guards powerless\n",
      "\n",
      "\n",
      "[추상적 headline]\n",
      ":  poster shows khan as sp\n",
      "ratio, len(text),word: 0.5 361 16\n",
      "[추출적 headline]\n",
      ": Prisoners in overcrowded Venezuelan jails often openly use machine guns, grenades and drugs, leaving guards powerless\n",
      "<< 98 >>---------------------------------------------------------------------\n",
      "[원문]\n",
      ": Thousands of fish washed ashore on the banks of Kashmir's Jhelum river on Sunday, triggering rumours of poisoning\n",
      "\n",
      " The district administration urged people to not panic and the fisheries department rejected the possibility of poisoning\n",
      "\n",
      " The incident could have occurred due to low water levels, low levels of oxygen, or pollution, said Central Kashmir's Fisheries Deputy Director MM Wani\n",
      "\n",
      "\n",
      "[추상적 headline]\n",
      ":  woman chief 40 yrs ago\n",
      "ratio, len(text),word: 0.5 397 16\n",
      "[추출적 headline]\n",
      ": The district administration urged people to not panic and the fisheries department rejected the possibility of poisoning\n",
      "<< 99 >>---------------------------------------------------------------------\n",
      "[원문]\n",
      ": Navi Mumbai has the fastest 4G speed at an average of 8\n",
      "\n",
      "72 Mbps, while Allahabad has the lowest at 3\n",
      "\n",
      "5 Mbps, an OpenSignal analysis of 20 Indian cities between December-February revealed\n",
      "\n",
      " Chennai has the second fastest speed at 8\n",
      "\n",
      "52 Mbps, nearly double its speed from last year\n",
      "\n",
      " Mumbai stood fifth at 6\n",
      "\n",
      "97 Mbps and Delhi stood seventh at 6\n",
      "\n",
      "69 Mbps\n",
      "\n",
      " \n"
     ]
    },
    {
     "name": "stdout",
     "output_type": "stream",
     "text": [
      "[추상적 headline]\n",
      ":  us report may have been in report\n",
      "ratio, len(text),word: 0.5 373 16\n",
      "[추출적 headline]\n",
      ": 52 Mbps, nearly double its speed from last year\r\n",
      "97 Mbps and Delhi stood seventh at 6\r\n",
      "69 Mbps\r\n"
     ]
    }
   ],
   "source": [
    "# 50개의 문장을 대상으로 추상적 기법과 추출적 기법 비교\n",
    "for i in range(50, 100):\n",
    "    text = '\\r\\n\\r\\n'.join(new_encoder_input_test[i].split('.')) # 원문에 문단 구분추가 \n",
    "    print(f'<< {i} >>---------------------------------------------------------------------')\n",
    "    print(f'[원문]\\n: ' + text) \n",
    "    print('[추상적 headline]\\n: '+ decode_sequence(encoder_input_test[i].reshape(1, text_max_len)))\n",
    "    if len(text) >= 100: \n",
    "        ratio, words = 0.5, 16\n",
    "    elif len(text) >= 50:\n",
    "        ratio, words = 0.75, 10\n",
    "    else: ratio, words = 1.0, 5 \n",
    "    print('ratio, len(text),word:',ratio,len(text),words)\n",
    "    print('[추출적 headline]\\n: '+ summarize(text, ratio=ratio, words=words))\n",
    "    \n",
    "    # 50개 출력시 종료\n",
    "    if idx == 99:\n",
    "        print(f'<<<<{i} headlines are predicted>>>>')\n",
    "        break"
   ]
  },
  {
   "cell_type": "markdown",
   "id": "informational-necessity",
   "metadata": {},
   "source": [
    "추출적 분석의 경우 "
   ]
  }
 ],
 "metadata": {
  "kernelspec": {
   "display_name": "Python 3",
   "language": "python",
   "name": "python3"
  },
  "language_info": {
   "codemirror_mode": {
    "name": "ipython",
    "version": 3
   },
   "file_extension": ".py",
   "mimetype": "text/x-python",
   "name": "python",
   "nbconvert_exporter": "python",
   "pygments_lexer": "ipython3",
   "version": "3.7.9"
  }
 },
 "nbformat": 4,
 "nbformat_minor": 5
}
