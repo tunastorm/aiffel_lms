{
 "cells": [
  {
   "cell_type": "markdown",
   "id": "preliminary-charity",
   "metadata": {},
   "source": [
    "## 0. 모듈임포트\n",
    "-----"
   ]
  },
  {
   "cell_type": "code",
   "execution_count": 1,
   "id": "suspended-dietary",
   "metadata": {},
   "outputs": [],
   "source": [
    "import os\n",
    "import pandas as pd\n",
    "import numpy as np\n",
    "from scipy.sparse import csr_matrix\n",
    "from implicit.als import AlternatingLeastSquares"
   ]
  },
  {
   "cell_type": "markdown",
   "id": "undefined-naples",
   "metadata": {},
   "source": [
    "## 1. 전처리\n",
    "-----\n",
    "\n",
    "### 유저별 평가 데이터 불러오기"
   ]
  },
  {
   "cell_type": "code",
   "execution_count": 390,
   "id": "indie-tracy",
   "metadata": {},
   "outputs": [
    {
     "data": {
      "text/html": [
       "<div>\n",
       "<style scoped>\n",
       "    .dataframe tbody tr th:only-of-type {\n",
       "        vertical-align: middle;\n",
       "    }\n",
       "\n",
       "    .dataframe tbody tr th {\n",
       "        vertical-align: top;\n",
       "    }\n",
       "\n",
       "    .dataframe thead th {\n",
       "        text-align: right;\n",
       "    }\n",
       "</style>\n",
       "<table border=\"1\" class=\"dataframe\">\n",
       "  <thead>\n",
       "    <tr style=\"text-align: right;\">\n",
       "      <th></th>\n",
       "      <th>user_id</th>\n",
       "      <th>movie_id</th>\n",
       "      <th>rating</th>\n",
       "      <th>timestamp</th>\n",
       "    </tr>\n",
       "  </thead>\n",
       "  <tbody>\n",
       "    <tr>\n",
       "      <th>0</th>\n",
       "      <td>1</td>\n",
       "      <td>1193</td>\n",
       "      <td>5</td>\n",
       "      <td>978300760</td>\n",
       "    </tr>\n",
       "    <tr>\n",
       "      <th>1</th>\n",
       "      <td>1</td>\n",
       "      <td>661</td>\n",
       "      <td>3</td>\n",
       "      <td>978302109</td>\n",
       "    </tr>\n",
       "    <tr>\n",
       "      <th>2</th>\n",
       "      <td>1</td>\n",
       "      <td>914</td>\n",
       "      <td>3</td>\n",
       "      <td>978301968</td>\n",
       "    </tr>\n",
       "    <tr>\n",
       "      <th>3</th>\n",
       "      <td>1</td>\n",
       "      <td>3408</td>\n",
       "      <td>4</td>\n",
       "      <td>978300275</td>\n",
       "    </tr>\n",
       "    <tr>\n",
       "      <th>4</th>\n",
       "      <td>1</td>\n",
       "      <td>2355</td>\n",
       "      <td>5</td>\n",
       "      <td>978824291</td>\n",
       "    </tr>\n",
       "  </tbody>\n",
       "</table>\n",
       "</div>"
      ],
      "text/plain": [
       "   user_id  movie_id  rating  timestamp\n",
       "0        1      1193       5  978300760\n",
       "1        1       661       3  978302109\n",
       "2        1       914       3  978301968\n",
       "3        1      3408       4  978300275\n",
       "4        1      2355       5  978824291"
      ]
     },
     "execution_count": 390,
     "metadata": {},
     "output_type": "execute_result"
    }
   ],
   "source": [
    "rating_file_path=os.getenv('HOME') + '/aiffel/recommendata_iu/data/ml-1m/ratings.dat'\n",
    "ratings_cols = ['user_id', 'movie_id', 'rating', 'timestamp']\n",
    "ratings = pd.read_csv(rating_file_path, sep='::', names=ratings_cols, engine='python', encoding = \"ISO-8859-1\")\n",
    "orginal_data_size = len(ratings)\n",
    "ratings.head()"
   ]
  },
  {
   "cell_type": "markdown",
   "id": "saved-edwards",
   "metadata": {},
   "source": [
    "### rating이 3점 이상인 데이터만 남기기"
   ]
  },
  {
   "cell_type": "code",
   "execution_count": 391,
   "id": "included-persian",
   "metadata": {},
   "outputs": [
    {
     "name": "stdout",
     "output_type": "stream",
     "text": [
      "orginal_data_size: 1000209, filtered_data_size: 836478\n",
      "Ratio of Remaining Data is 83.63%\n"
     ]
    }
   ],
   "source": [
    "ratings = ratings[ratings['rating']>=3]\n",
    "filtered_data_size = len(ratings)\n",
    "\n",
    "print(f'orginal_data_size: {orginal_data_size}, filtered_data_size: {filtered_data_size}')\n",
    "print(f'Ratio of Remaining Data is {filtered_data_size / orginal_data_size:.2%}')"
   ]
  },
  {
   "cell_type": "markdown",
   "id": "electoral-marketplace",
   "metadata": {},
   "source": [
    "### rating 컬럼 이름 count로 변경"
   ]
  },
  {
   "cell_type": "code",
   "execution_count": 392,
   "id": "broadband-console",
   "metadata": {},
   "outputs": [],
   "source": [
    "ratings.rename(columns={'rating':'count'}, inplace=True)"
   ]
  },
  {
   "cell_type": "markdown",
   "id": "dominant-postage",
   "metadata": {},
   "source": [
    "### 영화별 장르 데이터 불러오기"
   ]
  },
  {
   "cell_type": "code",
   "execution_count": 424,
   "id": "sustainable-adaptation",
   "metadata": {},
   "outputs": [
    {
     "data": {
      "text/html": [
       "<div>\n",
       "<style scoped>\n",
       "    .dataframe tbody tr th:only-of-type {\n",
       "        vertical-align: middle;\n",
       "    }\n",
       "\n",
       "    .dataframe tbody tr th {\n",
       "        vertical-align: top;\n",
       "    }\n",
       "\n",
       "    .dataframe thead th {\n",
       "        text-align: right;\n",
       "    }\n",
       "</style>\n",
       "<table border=\"1\" class=\"dataframe\">\n",
       "  <thead>\n",
       "    <tr style=\"text-align: right;\">\n",
       "      <th></th>\n",
       "      <th>movie_id</th>\n",
       "      <th>title</th>\n",
       "      <th>genre</th>\n",
       "    </tr>\n",
       "  </thead>\n",
       "  <tbody>\n",
       "    <tr>\n",
       "      <th>0</th>\n",
       "      <td>1</td>\n",
       "      <td>Toy Story (1995)</td>\n",
       "      <td>Animation|Children's|Comedy</td>\n",
       "    </tr>\n",
       "    <tr>\n",
       "      <th>1</th>\n",
       "      <td>2</td>\n",
       "      <td>Jumanji (1995)</td>\n",
       "      <td>Adventure|Children's|Fantasy</td>\n",
       "    </tr>\n",
       "    <tr>\n",
       "      <th>2</th>\n",
       "      <td>3</td>\n",
       "      <td>Grumpier Old Men (1995)</td>\n",
       "      <td>Comedy|Romance</td>\n",
       "    </tr>\n",
       "    <tr>\n",
       "      <th>3</th>\n",
       "      <td>4</td>\n",
       "      <td>Waiting to Exhale (1995)</td>\n",
       "      <td>Comedy|Drama</td>\n",
       "    </tr>\n",
       "    <tr>\n",
       "      <th>4</th>\n",
       "      <td>5</td>\n",
       "      <td>Father of the Bride Part II (1995)</td>\n",
       "      <td>Comedy</td>\n",
       "    </tr>\n",
       "  </tbody>\n",
       "</table>\n",
       "</div>"
      ],
      "text/plain": [
       "   movie_id                               title                         genre\n",
       "0         1                    Toy Story (1995)   Animation|Children's|Comedy\n",
       "1         2                      Jumanji (1995)  Adventure|Children's|Fantasy\n",
       "2         3             Grumpier Old Men (1995)                Comedy|Romance\n",
       "3         4            Waiting to Exhale (1995)                  Comedy|Drama\n",
       "4         5  Father of the Bride Part II (1995)                        Comedy"
      ]
     },
     "execution_count": 424,
     "metadata": {},
     "output_type": "execute_result"
    }
   ],
   "source": [
    "movie_file_path=os.getenv('HOME') + '/aiffel/recommendata_iu/data/ml-1m/movies.dat'\n",
    "cols = ['movie_id', 'title', 'genre'] \n",
    "movies = pd.read_csv(movie_file_path, sep='::', names=cols, engine='python', encoding='ISO-8859-1')\n",
    "movies = movies.dropna()\n",
    "movies.head()"
   ]
  },
  {
   "cell_type": "code",
   "execution_count": 394,
   "id": "boolean-madagascar",
   "metadata": {},
   "outputs": [],
   "source": [
    "ratings = ratings.merge(movies).drop('genre', axis=1)\n",
    "ratings_temp = ratings.copy()"
   ]
  },
  {
   "cell_type": "code",
   "execution_count": 395,
   "id": "organizational-david",
   "metadata": {},
   "outputs": [],
   "source": [
    "ratings = ratings_temp"
   ]
  },
  {
   "cell_type": "code",
   "execution_count": 396,
   "id": "delayed-channel",
   "metadata": {},
   "outputs": [
    {
     "data": {
      "text/html": [
       "<div>\n",
       "<style scoped>\n",
       "    .dataframe tbody tr th:only-of-type {\n",
       "        vertical-align: middle;\n",
       "    }\n",
       "\n",
       "    .dataframe tbody tr th {\n",
       "        vertical-align: top;\n",
       "    }\n",
       "\n",
       "    .dataframe thead th {\n",
       "        text-align: right;\n",
       "    }\n",
       "</style>\n",
       "<table border=\"1\" class=\"dataframe\">\n",
       "  <thead>\n",
       "    <tr style=\"text-align: right;\">\n",
       "      <th></th>\n",
       "      <th>user_id</th>\n",
       "      <th>movie_id</th>\n",
       "      <th>count</th>\n",
       "      <th>timestamp</th>\n",
       "      <th>title</th>\n",
       "    </tr>\n",
       "  </thead>\n",
       "  <tbody>\n",
       "    <tr>\n",
       "      <th>0</th>\n",
       "      <td>1</td>\n",
       "      <td>1193</td>\n",
       "      <td>5</td>\n",
       "      <td>978300760</td>\n",
       "      <td>One Flew Over the Cuckoo's Nest</td>\n",
       "    </tr>\n",
       "    <tr>\n",
       "      <th>1</th>\n",
       "      <td>2</td>\n",
       "      <td>1193</td>\n",
       "      <td>5</td>\n",
       "      <td>978298413</td>\n",
       "      <td>One Flew Over the Cuckoo's Nest</td>\n",
       "    </tr>\n",
       "    <tr>\n",
       "      <th>2</th>\n",
       "      <td>12</td>\n",
       "      <td>1193</td>\n",
       "      <td>4</td>\n",
       "      <td>978220179</td>\n",
       "      <td>One Flew Over the Cuckoo's Nest</td>\n",
       "    </tr>\n",
       "    <tr>\n",
       "      <th>3</th>\n",
       "      <td>15</td>\n",
       "      <td>1193</td>\n",
       "      <td>4</td>\n",
       "      <td>978199279</td>\n",
       "      <td>One Flew Over the Cuckoo's Nest</td>\n",
       "    </tr>\n",
       "    <tr>\n",
       "      <th>4</th>\n",
       "      <td>17</td>\n",
       "      <td>1193</td>\n",
       "      <td>5</td>\n",
       "      <td>978158471</td>\n",
       "      <td>One Flew Over the Cuckoo's Nest</td>\n",
       "    </tr>\n",
       "    <tr>\n",
       "      <th>...</th>\n",
       "      <td>...</td>\n",
       "      <td>...</td>\n",
       "      <td>...</td>\n",
       "      <td>...</td>\n",
       "      <td>...</td>\n",
       "    </tr>\n",
       "    <tr>\n",
       "      <th>836473</th>\n",
       "      <td>5851</td>\n",
       "      <td>3607</td>\n",
       "      <td>5</td>\n",
       "      <td>957756608</td>\n",
       "      <td>One Little Indian</td>\n",
       "    </tr>\n",
       "    <tr>\n",
       "      <th>836474</th>\n",
       "      <td>5854</td>\n",
       "      <td>3026</td>\n",
       "      <td>4</td>\n",
       "      <td>958346883</td>\n",
       "      <td>Slaughterhouse</td>\n",
       "    </tr>\n",
       "    <tr>\n",
       "      <th>836475</th>\n",
       "      <td>5854</td>\n",
       "      <td>690</td>\n",
       "      <td>3</td>\n",
       "      <td>957744257</td>\n",
       "      <td>Promise, The (Versprechen, Das)</td>\n",
       "    </tr>\n",
       "    <tr>\n",
       "      <th>836476</th>\n",
       "      <td>5938</td>\n",
       "      <td>2909</td>\n",
       "      <td>4</td>\n",
       "      <td>957273353</td>\n",
       "      <td>Five Wives, Three Secretaries and Me</td>\n",
       "    </tr>\n",
       "    <tr>\n",
       "      <th>836477</th>\n",
       "      <td>5948</td>\n",
       "      <td>1360</td>\n",
       "      <td>5</td>\n",
       "      <td>1016563709</td>\n",
       "      <td>Identification of a Woman (Identificazione di ...</td>\n",
       "    </tr>\n",
       "  </tbody>\n",
       "</table>\n",
       "<p>836478 rows × 5 columns</p>\n",
       "</div>"
      ],
      "text/plain": [
       "        user_id  movie_id  count   timestamp  \\\n",
       "0             1      1193      5   978300760   \n",
       "1             2      1193      5   978298413   \n",
       "2            12      1193      4   978220179   \n",
       "3            15      1193      4   978199279   \n",
       "4            17      1193      5   978158471   \n",
       "...         ...       ...    ...         ...   \n",
       "836473     5851      3607      5   957756608   \n",
       "836474     5854      3026      4   958346883   \n",
       "836475     5854       690      3   957744257   \n",
       "836476     5938      2909      4   957273353   \n",
       "836477     5948      1360      5  1016563709   \n",
       "\n",
       "                                                    title  \n",
       "0                         One Flew Over the Cuckoo's Nest  \n",
       "1                         One Flew Over the Cuckoo's Nest  \n",
       "2                         One Flew Over the Cuckoo's Nest  \n",
       "3                         One Flew Over the Cuckoo's Nest  \n",
       "4                         One Flew Over the Cuckoo's Nest  \n",
       "...                                                   ...  \n",
       "836473                                  One Little Indian  \n",
       "836474                                     Slaughterhouse  \n",
       "836475                    Promise, The (Versprechen, Das)  \n",
       "836476               Five Wives, Three Secretaries and Me  \n",
       "836477  Identification of a Woman (Identificazione di ...  \n",
       "\n",
       "[836478 rows x 5 columns]"
      ]
     },
     "execution_count": 396,
     "metadata": {},
     "output_type": "execute_result"
    }
   ],
   "source": [
    "ratings['title'] = ratings['title'][:].str.slice(start=0, stop=-7)\n",
    "ratings = ratings.dropna()\n",
    "ratings"
   ]
  },
  {
   "cell_type": "markdown",
   "id": "polar-doubt",
   "metadata": {},
   "source": [
    "## 2. 분석\n",
    "-----"
   ]
  },
  {
   "cell_type": "markdown",
   "id": "stock-fashion",
   "metadata": {},
   "source": [
    "### 사용자와 영화의 유니크한 개수 확인"
   ]
  },
  {
   "cell_type": "code",
   "execution_count": 397,
   "id": "amended-bibliography",
   "metadata": {},
   "outputs": [
    {
     "name": "stdout",
     "output_type": "stream",
     "text": [
      "num_user: 6039\n",
      "num_movie: 3628\n"
     ]
    }
   ],
   "source": [
    "num_user = ratings['user_id'].nunique()\n",
    "num_movie = ratings['movie_id'].nunique()\n",
    "print(f'num_user: {num_user}\\nnum_movie: {num_movie}')"
   ]
  },
  {
   "cell_type": "markdown",
   "id": "dominant-revolution",
   "metadata": {},
   "source": [
    "### 영화 인기순위 30위 뽑기"
   ]
  },
  {
   "cell_type": "markdown",
   "id": "traditional-hampton",
   "metadata": {},
   "source": [
    "#### 각 영화별 별점 평가 개수와 별점의 평균 구하기"
   ]
  },
  {
   "cell_type": "code",
   "execution_count": 398,
   "id": "familiar-plate",
   "metadata": {},
   "outputs": [],
   "source": [
    "grouped = ratings['count'].groupby(ratings['movie_id'])\n",
    "movie_count = grouped.count().sort_values(ascending=False).to_frame()\n",
    "movie_mean = grouped.mean().sort_values(ascending=False).to_frame()"
   ]
  },
  {
   "cell_type": "markdown",
   "id": "geological-sarah",
   "metadata": {},
   "source": [
    "#### movie_score 데이터프레임 생성"
   ]
  },
  {
   "cell_type": "code",
   "execution_count": 399,
   "id": "jewish-mixture",
   "metadata": {},
   "outputs": [
    {
     "data": {
      "text/html": [
       "<div>\n",
       "<style scoped>\n",
       "    .dataframe tbody tr th:only-of-type {\n",
       "        vertical-align: middle;\n",
       "    }\n",
       "\n",
       "    .dataframe tbody tr th {\n",
       "        vertical-align: top;\n",
       "    }\n",
       "\n",
       "    .dataframe thead th {\n",
       "        text-align: right;\n",
       "    }\n",
       "</style>\n",
       "<table border=\"1\" class=\"dataframe\">\n",
       "  <thead>\n",
       "    <tr style=\"text-align: right;\">\n",
       "      <th></th>\n",
       "      <th>rating_count</th>\n",
       "      <th>mean</th>\n",
       "    </tr>\n",
       "    <tr>\n",
       "      <th>movie_id</th>\n",
       "      <th></th>\n",
       "      <th></th>\n",
       "    </tr>\n",
       "  </thead>\n",
       "  <tbody>\n",
       "    <tr>\n",
       "      <th>2858</th>\n",
       "      <td>3211</td>\n",
       "      <td>4.499844</td>\n",
       "    </tr>\n",
       "    <tr>\n",
       "      <th>260</th>\n",
       "      <td>2910</td>\n",
       "      <td>4.528522</td>\n",
       "    </tr>\n",
       "    <tr>\n",
       "      <th>1196</th>\n",
       "      <td>2885</td>\n",
       "      <td>4.384055</td>\n",
       "    </tr>\n",
       "    <tr>\n",
       "      <th>1210</th>\n",
       "      <td>2716</td>\n",
       "      <td>4.161635</td>\n",
       "    </tr>\n",
       "    <tr>\n",
       "      <th>2028</th>\n",
       "      <td>2561</td>\n",
       "      <td>4.431082</td>\n",
       "    </tr>\n",
       "  </tbody>\n",
       "</table>\n",
       "</div>"
      ],
      "text/plain": [
       "          rating_count      mean\n",
       "movie_id                        \n",
       "2858              3211  4.499844\n",
       "260               2910  4.528522\n",
       "1196              2885  4.384055\n",
       "1210              2716  4.161635\n",
       "2028              2561  4.431082"
      ]
     },
     "execution_count": 399,
     "metadata": {},
     "output_type": "execute_result"
    }
   ],
   "source": [
    "movie_score = movie_count\n",
    "movie_score['mean'] = movie_mean['count']\n",
    "movie_score.rename(columns = {'count':'rating_count'}, inplace =True)\n",
    "movie_score.head()"
   ]
  },
  {
   "cell_type": "markdown",
   "id": "reliable-cyprus",
   "metadata": {},
   "source": [
    " #### 상위 30개 구하기\n",
    " * 평점의 평균이 4점 이상인 것중 평가개수 상위 30개를 선택"
   ]
  },
  {
   "cell_type": "code",
   "execution_count": 400,
   "id": "continued-independence",
   "metadata": {},
   "outputs": [
    {
     "data": {
      "text/html": [
       "<div>\n",
       "<style scoped>\n",
       "    .dataframe tbody tr th:only-of-type {\n",
       "        vertical-align: middle;\n",
       "    }\n",
       "\n",
       "    .dataframe tbody tr th {\n",
       "        vertical-align: top;\n",
       "    }\n",
       "\n",
       "    .dataframe thead th {\n",
       "        text-align: right;\n",
       "    }\n",
       "</style>\n",
       "<table border=\"1\" class=\"dataframe\">\n",
       "  <thead>\n",
       "    <tr style=\"text-align: right;\">\n",
       "      <th></th>\n",
       "      <th>movie_id</th>\n",
       "      <th>rating_count</th>\n",
       "      <th>mean</th>\n",
       "      <th>title</th>\n",
       "      <th>genre</th>\n",
       "    </tr>\n",
       "  </thead>\n",
       "  <tbody>\n",
       "    <tr>\n",
       "      <th>0</th>\n",
       "      <td>858</td>\n",
       "      <td>2167</td>\n",
       "      <td>4.598523</td>\n",
       "      <td>Godfather, The (1972)</td>\n",
       "      <td>Action|Crime|Drama</td>\n",
       "    </tr>\n",
       "    <tr>\n",
       "      <th>1</th>\n",
       "      <td>318</td>\n",
       "      <td>2194</td>\n",
       "      <td>4.596627</td>\n",
       "      <td>Shawshank Redemption, The (1994)</td>\n",
       "      <td>Drama</td>\n",
       "    </tr>\n",
       "    <tr>\n",
       "      <th>2</th>\n",
       "      <td>527</td>\n",
       "      <td>2257</td>\n",
       "      <td>4.571112</td>\n",
       "      <td>Schindler's List (1993)</td>\n",
       "      <td>Drama|War</td>\n",
       "    </tr>\n",
       "    <tr>\n",
       "      <th>3</th>\n",
       "      <td>260</td>\n",
       "      <td>2910</td>\n",
       "      <td>4.528522</td>\n",
       "      <td>Star Wars: Episode IV - A New Hope (1977)</td>\n",
       "      <td>Action|Adventure|Fantasy|Sci-Fi</td>\n",
       "    </tr>\n",
       "    <tr>\n",
       "      <th>4</th>\n",
       "      <td>1198</td>\n",
       "      <td>2473</td>\n",
       "      <td>4.520421</td>\n",
       "      <td>Raiders of the Lost Ark (1981)</td>\n",
       "      <td>Action|Adventure</td>\n",
       "    </tr>\n",
       "    <tr>\n",
       "      <th>5</th>\n",
       "      <td>2858</td>\n",
       "      <td>3211</td>\n",
       "      <td>4.499844</td>\n",
       "      <td>American Beauty (1999)</td>\n",
       "      <td>Comedy|Drama</td>\n",
       "    </tr>\n",
       "    <tr>\n",
       "      <th>6</th>\n",
       "      <td>2762</td>\n",
       "      <td>2385</td>\n",
       "      <td>4.487631</td>\n",
       "      <td>Sixth Sense, The (1999)</td>\n",
       "      <td>Thriller</td>\n",
       "    </tr>\n",
       "    <tr>\n",
       "      <th>7</th>\n",
       "      <td>2571</td>\n",
       "      <td>2434</td>\n",
       "      <td>4.479458</td>\n",
       "      <td>Matrix, The (1999)</td>\n",
       "      <td>Action|Sci-Fi|Thriller</td>\n",
       "    </tr>\n",
       "    <tr>\n",
       "      <th>8</th>\n",
       "      <td>296</td>\n",
       "      <td>2030</td>\n",
       "      <td>4.459606</td>\n",
       "      <td>Pulp Fiction (1994)</td>\n",
       "      <td>Crime|Drama</td>\n",
       "    </tr>\n",
       "    <tr>\n",
       "      <th>9</th>\n",
       "      <td>593</td>\n",
       "      <td>2498</td>\n",
       "      <td>4.441954</td>\n",
       "      <td>Silence of the Lambs, The (1991)</td>\n",
       "      <td>Drama|Thriller</td>\n",
       "    </tr>\n",
       "    <tr>\n",
       "      <th>10</th>\n",
       "      <td>2028</td>\n",
       "      <td>2561</td>\n",
       "      <td>4.431082</td>\n",
       "      <td>Saving Private Ryan (1998)</td>\n",
       "      <td>Action|Drama|War</td>\n",
       "    </tr>\n",
       "    <tr>\n",
       "      <th>11</th>\n",
       "      <td>608</td>\n",
       "      <td>2371</td>\n",
       "      <td>4.413749</td>\n",
       "      <td>Fargo (1996)</td>\n",
       "      <td>Crime|Drama|Thriller</td>\n",
       "    </tr>\n",
       "    <tr>\n",
       "      <th>12</th>\n",
       "      <td>1196</td>\n",
       "      <td>2885</td>\n",
       "      <td>4.384055</td>\n",
       "      <td>Star Wars: Episode V - The Empire Strikes Back...</td>\n",
       "      <td>Action|Adventure|Drama|Sci-Fi|War</td>\n",
       "    </tr>\n",
       "    <tr>\n",
       "      <th>13</th>\n",
       "      <td>1197</td>\n",
       "      <td>2252</td>\n",
       "      <td>4.380995</td>\n",
       "      <td>Princess Bride, The (1987)</td>\n",
       "      <td>Action|Adventure|Comedy|Romance</td>\n",
       "    </tr>\n",
       "    <tr>\n",
       "      <th>14</th>\n",
       "      <td>110</td>\n",
       "      <td>2314</td>\n",
       "      <td>4.375540</td>\n",
       "      <td>Braveheart (1995)</td>\n",
       "      <td>Action|Drama|War</td>\n",
       "    </tr>\n",
       "    <tr>\n",
       "      <th>15</th>\n",
       "      <td>2997</td>\n",
       "      <td>2066</td>\n",
       "      <td>4.338819</td>\n",
       "      <td>Being John Malkovich (1999)</td>\n",
       "      <td>Comedy</td>\n",
       "    </tr>\n",
       "    <tr>\n",
       "      <th>16</th>\n",
       "      <td>1617</td>\n",
       "      <td>2210</td>\n",
       "      <td>4.305430</td>\n",
       "      <td>L.A. Confidential (1997)</td>\n",
       "      <td>Crime|Film-Noir|Mystery|Thriller</td>\n",
       "    </tr>\n",
       "    <tr>\n",
       "      <th>17</th>\n",
       "      <td>2396</td>\n",
       "      <td>2213</td>\n",
       "      <td>4.294171</td>\n",
       "      <td>Shakespeare in Love (1998)</td>\n",
       "      <td>Comedy|Romance</td>\n",
       "    </tr>\n",
       "    <tr>\n",
       "      <th>18</th>\n",
       "      <td>1214</td>\n",
       "      <td>1920</td>\n",
       "      <td>4.293750</td>\n",
       "      <td>Alien (1979)</td>\n",
       "      <td>Action|Horror|Sci-Fi|Thriller</td>\n",
       "    </tr>\n",
       "    <tr>\n",
       "      <th>19</th>\n",
       "      <td>356</td>\n",
       "      <td>2022</td>\n",
       "      <td>4.292285</td>\n",
       "      <td>Forrest Gump (1994)</td>\n",
       "      <td>Comedy|Romance|War</td>\n",
       "    </tr>\n",
       "    <tr>\n",
       "      <th>20</th>\n",
       "      <td>3578</td>\n",
       "      <td>1798</td>\n",
       "      <td>4.268632</td>\n",
       "      <td>Gladiator (2000)</td>\n",
       "      <td>Action|Drama</td>\n",
       "    </tr>\n",
       "    <tr>\n",
       "      <th>21</th>\n",
       "      <td>1240</td>\n",
       "      <td>2019</td>\n",
       "      <td>4.245171</td>\n",
       "      <td>Terminator, The (1984)</td>\n",
       "      <td>Action|Sci-Fi|Thriller</td>\n",
       "    </tr>\n",
       "    <tr>\n",
       "      <th>22</th>\n",
       "      <td>1</td>\n",
       "      <td>2000</td>\n",
       "      <td>4.237500</td>\n",
       "      <td>Toy Story (1995)</td>\n",
       "      <td>Animation|Children's|Comedy</td>\n",
       "    </tr>\n",
       "    <tr>\n",
       "      <th>23</th>\n",
       "      <td>589</td>\n",
       "      <td>2509</td>\n",
       "      <td>4.190116</td>\n",
       "      <td>Terminator 2: Judgment Day (1991)</td>\n",
       "      <td>Action|Sci-Fi|Thriller</td>\n",
       "    </tr>\n",
       "    <tr>\n",
       "      <th>24</th>\n",
       "      <td>457</td>\n",
       "      <td>1941</td>\n",
       "      <td>4.164348</td>\n",
       "      <td>Fugitive, The (1993)</td>\n",
       "      <td>Action|Thriller</td>\n",
       "    </tr>\n",
       "    <tr>\n",
       "      <th>25</th>\n",
       "      <td>1210</td>\n",
       "      <td>2716</td>\n",
       "      <td>4.161635</td>\n",
       "      <td>Star Wars: Episode VI - Return of the Jedi (1983)</td>\n",
       "      <td>Action|Adventure|Romance|Sci-Fi|War</td>\n",
       "    </tr>\n",
       "    <tr>\n",
       "      <th>26</th>\n",
       "      <td>1097</td>\n",
       "      <td>2102</td>\n",
       "      <td>4.137012</td>\n",
       "      <td>E.T. the Extra-Terrestrial (1982)</td>\n",
       "      <td>Children's|Drama|Fantasy|Sci-Fi</td>\n",
       "    </tr>\n",
       "    <tr>\n",
       "      <th>27</th>\n",
       "      <td>1265</td>\n",
       "      <td>2121</td>\n",
       "      <td>4.114569</td>\n",
       "      <td>Groundhog Day (1993)</td>\n",
       "      <td>Comedy|Romance</td>\n",
       "    </tr>\n",
       "    <tr>\n",
       "      <th>28</th>\n",
       "      <td>1270</td>\n",
       "      <td>2460</td>\n",
       "      <td>4.097967</td>\n",
       "      <td>Back to the Future (1985)</td>\n",
       "      <td>Comedy|Sci-Fi</td>\n",
       "    </tr>\n",
       "    <tr>\n",
       "      <th>29</th>\n",
       "      <td>2716</td>\n",
       "      <td>2051</td>\n",
       "      <td>4.038030</td>\n",
       "      <td>Ghostbusters (1984)</td>\n",
       "      <td>Comedy|Horror</td>\n",
       "    </tr>\n",
       "  </tbody>\n",
       "</table>\n",
       "</div>"
      ],
      "text/plain": [
       "    movie_id  rating_count      mean  \\\n",
       "0        858          2167  4.598523   \n",
       "1        318          2194  4.596627   \n",
       "2        527          2257  4.571112   \n",
       "3        260          2910  4.528522   \n",
       "4       1198          2473  4.520421   \n",
       "5       2858          3211  4.499844   \n",
       "6       2762          2385  4.487631   \n",
       "7       2571          2434  4.479458   \n",
       "8        296          2030  4.459606   \n",
       "9        593          2498  4.441954   \n",
       "10      2028          2561  4.431082   \n",
       "11       608          2371  4.413749   \n",
       "12      1196          2885  4.384055   \n",
       "13      1197          2252  4.380995   \n",
       "14       110          2314  4.375540   \n",
       "15      2997          2066  4.338819   \n",
       "16      1617          2210  4.305430   \n",
       "17      2396          2213  4.294171   \n",
       "18      1214          1920  4.293750   \n",
       "19       356          2022  4.292285   \n",
       "20      3578          1798  4.268632   \n",
       "21      1240          2019  4.245171   \n",
       "22         1          2000  4.237500   \n",
       "23       589          2509  4.190116   \n",
       "24       457          1941  4.164348   \n",
       "25      1210          2716  4.161635   \n",
       "26      1097          2102  4.137012   \n",
       "27      1265          2121  4.114569   \n",
       "28      1270          2460  4.097967   \n",
       "29      2716          2051  4.038030   \n",
       "\n",
       "                                                title  \\\n",
       "0                               Godfather, The (1972)   \n",
       "1                    Shawshank Redemption, The (1994)   \n",
       "2                             Schindler's List (1993)   \n",
       "3           Star Wars: Episode IV - A New Hope (1977)   \n",
       "4                      Raiders of the Lost Ark (1981)   \n",
       "5                              American Beauty (1999)   \n",
       "6                             Sixth Sense, The (1999)   \n",
       "7                                  Matrix, The (1999)   \n",
       "8                                 Pulp Fiction (1994)   \n",
       "9                    Silence of the Lambs, The (1991)   \n",
       "10                         Saving Private Ryan (1998)   \n",
       "11                                       Fargo (1996)   \n",
       "12  Star Wars: Episode V - The Empire Strikes Back...   \n",
       "13                         Princess Bride, The (1987)   \n",
       "14                                  Braveheart (1995)   \n",
       "15                        Being John Malkovich (1999)   \n",
       "16                           L.A. Confidential (1997)   \n",
       "17                         Shakespeare in Love (1998)   \n",
       "18                                       Alien (1979)   \n",
       "19                                Forrest Gump (1994)   \n",
       "20                                   Gladiator (2000)   \n",
       "21                             Terminator, The (1984)   \n",
       "22                                   Toy Story (1995)   \n",
       "23                  Terminator 2: Judgment Day (1991)   \n",
       "24                               Fugitive, The (1993)   \n",
       "25  Star Wars: Episode VI - Return of the Jedi (1983)   \n",
       "26                  E.T. the Extra-Terrestrial (1982)   \n",
       "27                               Groundhog Day (1993)   \n",
       "28                          Back to the Future (1985)   \n",
       "29                                Ghostbusters (1984)   \n",
       "\n",
       "                                  genre  \n",
       "0                    Action|Crime|Drama  \n",
       "1                                 Drama  \n",
       "2                             Drama|War  \n",
       "3       Action|Adventure|Fantasy|Sci-Fi  \n",
       "4                      Action|Adventure  \n",
       "5                          Comedy|Drama  \n",
       "6                              Thriller  \n",
       "7                Action|Sci-Fi|Thriller  \n",
       "8                           Crime|Drama  \n",
       "9                        Drama|Thriller  \n",
       "10                     Action|Drama|War  \n",
       "11                 Crime|Drama|Thriller  \n",
       "12    Action|Adventure|Drama|Sci-Fi|War  \n",
       "13      Action|Adventure|Comedy|Romance  \n",
       "14                     Action|Drama|War  \n",
       "15                               Comedy  \n",
       "16     Crime|Film-Noir|Mystery|Thriller  \n",
       "17                       Comedy|Romance  \n",
       "18        Action|Horror|Sci-Fi|Thriller  \n",
       "19                   Comedy|Romance|War  \n",
       "20                         Action|Drama  \n",
       "21               Action|Sci-Fi|Thriller  \n",
       "22          Animation|Children's|Comedy  \n",
       "23               Action|Sci-Fi|Thriller  \n",
       "24                      Action|Thriller  \n",
       "25  Action|Adventure|Romance|Sci-Fi|War  \n",
       "26      Children's|Drama|Fantasy|Sci-Fi  \n",
       "27                       Comedy|Romance  \n",
       "28                        Comedy|Sci-Fi  \n",
       "29                        Comedy|Horror  "
      ]
     },
     "execution_count": 400,
     "metadata": {},
     "output_type": "execute_result"
    }
   ],
   "source": [
    "top_30 = movie_score[movie_score['mean'] >= 4.0]\n",
    "top_30 = top_30[top_30['rating_count'] >= 1700][:30]\n",
    "top_30 = top_30.sort_values('mean', ascending=False).reset_index()\n",
    "top_30.merge(movies)"
   ]
  },
  {
   "cell_type": "markdown",
   "id": "reasonable-harvard",
   "metadata": {},
   "source": [
    "## 3. 내가 선호하는 영화 ratings에 추가\n",
    "-----"
   ]
  },
  {
   "cell_type": "markdown",
   "id": "known-fusion",
   "metadata": {},
   "source": [
    "### 선호하는 영화 5개의 평점 추가"
   ]
  },
  {
   "cell_type": "markdown",
   "id": "allied-publicity",
   "metadata": {},
   "source": [
    "#### user_id의 최대값 조회"
   ]
  },
  {
   "cell_type": "code",
   "execution_count": 401,
   "id": "assisted-covering",
   "metadata": {},
   "outputs": [
    {
     "data": {
      "text/plain": [
       "6040"
      ]
     },
     "execution_count": 401,
     "metadata": {},
     "output_type": "execute_result"
    }
   ],
   "source": [
    "ratings['user_id'].max()"
   ]
  },
  {
   "cell_type": "markdown",
   "id": "classified-passing",
   "metadata": {},
   "source": [
    "#### 추가할 영화 평점 데이터 생성"
   ]
  },
  {
   "cell_type": "code",
   "execution_count": 402,
   "id": "homeless-reputation",
   "metadata": {},
   "outputs": [],
   "source": [
    "favorites5 = [ \n",
    "    {'user_id':6041, 'movie_id':858, 'count':5, 'timestamp': 218191713, 'title':'Godfather, The'},\n",
    "    {'user_id':6041, 'movie_id':2571, 'count':5, 'timestamp': 218191713, 'title':'Matrix, The'},\n",
    "    {'user_id':6041, 'movie_id':1, 'count':5, 'timestamp': 218191713, 'title':'Toy Story'},\n",
    "    {'user_id':6041, 'movie_id':589, 'count':5, 'timestamp': 218191713, 'title':'Terminator 2: Judgment Day'},\n",
    "    {'user_id':6041, 'movie_id':3578, 'count':5, 'timestamp': 218191713, 'title':'Gladiator'} \n",
    "]"
   ]
  },
  {
   "cell_type": "markdown",
   "id": "latter-duplicate",
   "metadata": {},
   "source": [
    "#### 내 평점 추가"
   ]
  },
  {
   "cell_type": "code",
   "execution_count": 403,
   "id": "electoral-musician",
   "metadata": {},
   "outputs": [
    {
     "data": {
      "text/html": [
       "<div>\n",
       "<style scoped>\n",
       "    .dataframe tbody tr th:only-of-type {\n",
       "        vertical-align: middle;\n",
       "    }\n",
       "\n",
       "    .dataframe tbody tr th {\n",
       "        vertical-align: top;\n",
       "    }\n",
       "\n",
       "    .dataframe thead th {\n",
       "        text-align: right;\n",
       "    }\n",
       "</style>\n",
       "<table border=\"1\" class=\"dataframe\">\n",
       "  <thead>\n",
       "    <tr style=\"text-align: right;\">\n",
       "      <th></th>\n",
       "      <th>user_id</th>\n",
       "      <th>movie_id</th>\n",
       "      <th>count</th>\n",
       "      <th>timestamp</th>\n",
       "      <th>title</th>\n",
       "    </tr>\n",
       "  </thead>\n",
       "  <tbody>\n",
       "    <tr>\n",
       "      <th>836473</th>\n",
       "      <td>5851</td>\n",
       "      <td>3607</td>\n",
       "      <td>5</td>\n",
       "      <td>957756608</td>\n",
       "      <td>One Little Indian</td>\n",
       "    </tr>\n",
       "    <tr>\n",
       "      <th>836474</th>\n",
       "      <td>5854</td>\n",
       "      <td>3026</td>\n",
       "      <td>4</td>\n",
       "      <td>958346883</td>\n",
       "      <td>Slaughterhouse</td>\n",
       "    </tr>\n",
       "    <tr>\n",
       "      <th>836475</th>\n",
       "      <td>5854</td>\n",
       "      <td>690</td>\n",
       "      <td>3</td>\n",
       "      <td>957744257</td>\n",
       "      <td>Promise, The (Versprechen, Das)</td>\n",
       "    </tr>\n",
       "    <tr>\n",
       "      <th>836476</th>\n",
       "      <td>5938</td>\n",
       "      <td>2909</td>\n",
       "      <td>4</td>\n",
       "      <td>957273353</td>\n",
       "      <td>Five Wives, Three Secretaries and Me</td>\n",
       "    </tr>\n",
       "    <tr>\n",
       "      <th>836477</th>\n",
       "      <td>5948</td>\n",
       "      <td>1360</td>\n",
       "      <td>5</td>\n",
       "      <td>1016563709</td>\n",
       "      <td>Identification of a Woman (Identificazione di ...</td>\n",
       "    </tr>\n",
       "    <tr>\n",
       "      <th>836478</th>\n",
       "      <td>6041</td>\n",
       "      <td>858</td>\n",
       "      <td>5</td>\n",
       "      <td>218191713</td>\n",
       "      <td>Godfather, The</td>\n",
       "    </tr>\n",
       "    <tr>\n",
       "      <th>836479</th>\n",
       "      <td>6041</td>\n",
       "      <td>2571</td>\n",
       "      <td>5</td>\n",
       "      <td>218191713</td>\n",
       "      <td>Matrix, The</td>\n",
       "    </tr>\n",
       "    <tr>\n",
       "      <th>836480</th>\n",
       "      <td>6041</td>\n",
       "      <td>1</td>\n",
       "      <td>5</td>\n",
       "      <td>218191713</td>\n",
       "      <td>Toy Story</td>\n",
       "    </tr>\n",
       "    <tr>\n",
       "      <th>836481</th>\n",
       "      <td>6041</td>\n",
       "      <td>589</td>\n",
       "      <td>5</td>\n",
       "      <td>218191713</td>\n",
       "      <td>Terminator 2: Judgment Day</td>\n",
       "    </tr>\n",
       "    <tr>\n",
       "      <th>836482</th>\n",
       "      <td>6041</td>\n",
       "      <td>3578</td>\n",
       "      <td>5</td>\n",
       "      <td>218191713</td>\n",
       "      <td>Gladiator</td>\n",
       "    </tr>\n",
       "  </tbody>\n",
       "</table>\n",
       "</div>"
      ],
      "text/plain": [
       "        user_id  movie_id  count   timestamp  \\\n",
       "836473     5851      3607      5   957756608   \n",
       "836474     5854      3026      4   958346883   \n",
       "836475     5854       690      3   957744257   \n",
       "836476     5938      2909      4   957273353   \n",
       "836477     5948      1360      5  1016563709   \n",
       "836478     6041       858      5   218191713   \n",
       "836479     6041      2571      5   218191713   \n",
       "836480     6041         1      5   218191713   \n",
       "836481     6041       589      5   218191713   \n",
       "836482     6041      3578      5   218191713   \n",
       "\n",
       "                                                    title  \n",
       "836473                                  One Little Indian  \n",
       "836474                                     Slaughterhouse  \n",
       "836475                    Promise, The (Versprechen, Das)  \n",
       "836476               Five Wives, Three Secretaries and Me  \n",
       "836477  Identification of a Woman (Identificazione di ...  \n",
       "836478                                     Godfather, The  \n",
       "836479                                        Matrix, The  \n",
       "836480                                          Toy Story  \n",
       "836481                         Terminator 2: Judgment Day  \n",
       "836482                                          Gladiator  "
      ]
     },
     "execution_count": 403,
     "metadata": {},
     "output_type": "execute_result"
    }
   ],
   "source": [
    "for rating in favorites5:\n",
    "    ratings = ratings.append(rating, ignore_index=True)\n",
    "ratings[-10:]"
   ]
  },
  {
   "cell_type": "markdown",
   "id": "posted-writer",
   "metadata": {},
   "source": [
    "## 4. csr matrix 생성\n",
    "-----"
   ]
  },
  {
   "cell_type": "code",
   "execution_count": 404,
   "id": "hungry-canadian",
   "metadata": {
    "scrolled": false
   },
   "outputs": [
    {
     "name": "stdout",
     "output_type": "stream",
     "text": [
      "num_user: 6040\n",
      "num_movie: 3883\n"
     ]
    }
   ],
   "source": [
    "num_user = ratings['user_id'].nunique()\n",
    "num_movie = movies['title'].nunique()\n",
    "print(f'num_user: {num_user}\\nnum_movie: {num_movie}')"
   ]
  },
  {
   "cell_type": "code",
   "execution_count": 405,
   "id": "representative-length",
   "metadata": {},
   "outputs": [],
   "source": [
    "ratings = ratings.rename(columns={'count':'counts'})"
   ]
  },
  {
   "cell_type": "markdown",
   "id": "harmful-oxide",
   "metadata": {},
   "source": [
    "* csr_matrix() 함수 호출시 rating.count로 사용하면 count함수를 호출하게 되어 에러가 발생한다. \n",
    "* 따라서 컬럼명을 counts로 변경해주었다."
   ]
  },
  {
   "cell_type": "code",
   "execution_count": 406,
   "id": "annual-portfolio",
   "metadata": {},
   "outputs": [],
   "source": [
    "movie_to_idx = {v:k for k,v in enumerate(ratings['title'].unique())}\n",
    "user_to_idx = {v:k for k,v in enumerate(ratings['user_id'].unique())}"
   ]
  },
  {
   "cell_type": "code",
   "execution_count": 408,
   "id": "polyphonic-climb",
   "metadata": {},
   "outputs": [
    {
     "name": "stdout",
     "output_type": "stream",
     "text": [
      "user_id column indexing OK!!\n"
     ]
    }
   ],
   "source": [
    "temp_user_data = ratings['user_id'].map(user_to_idx.get).dropna()\n",
    "if len(temp_user_data) == len(ratings):  \n",
    "    print('user_id column indexing OK!!')\n",
    "    ratings['user_id'] = temp_user_data   \n",
    "else:\n",
    "    print('user_id column indexing Fail!!')"
   ]
  },
  {
   "cell_type": "code",
   "execution_count": 409,
   "id": "diagnostic-chess",
   "metadata": {},
   "outputs": [
    {
     "name": "stdout",
     "output_type": "stream",
     "text": [
      "title column indexing OK!!\n"
     ]
    }
   ],
   "source": [
    "temp_movie_data = ratings['title'].map(movie_to_idx.get).dropna()\n",
    "if len(temp_movie_data) == len(ratings):\n",
    "    print('title column indexing OK!!')\n",
    "    ratings['movie_id'] = temp_movie_data \n",
    "else:\n",
    "    print('title column indexing Fail!!')"
   ]
  },
  {
   "cell_type": "markdown",
   "id": "remarkable-potential",
   "metadata": {},
   "source": [
    "> **movie_id를 title컬럼의 유니크 값을 기준으로 부여한 인덱스로 변경한 이유**   \n",
    "  검색시에는 문자열이 title로 검색해야하는데, src matrix를 생성할 때는 숫자형식의 movie_id값이 필요하기 때문에 위와 같이 변경해 주었다, "
   ]
  },
  {
   "cell_type": "code",
   "execution_count": 410,
   "id": "digital-biodiversity",
   "metadata": {},
   "outputs": [
    {
     "data": {
      "text/plain": [
       "<6040x3883 sparse matrix of type '<class 'numpy.longlong'>'\n",
       "\twith 834213 stored elements in Compressed Sparse Row format>"
      ]
     },
     "execution_count": 410,
     "metadata": {},
     "output_type": "execute_result"
    }
   ],
   "source": [
    "csr_data = csr_matrix((ratings.counts, (ratings.user_id, ratings.movie_id)), shape=(num_user, num_movie))\n",
    "csr_data"
   ]
  },
  {
   "cell_type": "markdown",
   "id": "automatic-convert",
   "metadata": {},
   "source": [
    "## 5. AlternatingLeastSquares 모델 훈련"
   ]
  },
  {
   "cell_type": "code",
   "execution_count": 411,
   "id": "previous-quarter",
   "metadata": {},
   "outputs": [],
   "source": [
    "os.environ['OPENBLAS_NUM_THREADS']='1'\n",
    "os.environ['KMP_DUPLICATE_LIB_OK']='True'\n",
    "os.environ['MKL_NUM_THREADS']='1'\n",
    "\n",
    "als_model = AlternatingLeastSquares(factors=100, regularization=0.01, use_gpu=False, iterations=15, dtype=np.float32)"
   ]
  },
  {
   "cell_type": "code",
   "execution_count": 412,
   "id": "mechanical-steel",
   "metadata": {},
   "outputs": [
    {
     "data": {
      "text/plain": [
       "<3883x6040 sparse matrix of type '<class 'numpy.longlong'>'\n",
       "\twith 834213 stored elements in Compressed Sparse Column format>"
      ]
     },
     "execution_count": 412,
     "metadata": {},
     "output_type": "execute_result"
    }
   ],
   "source": [
    "csr_data_transpose = csr_data.T\n",
    "csr_data_transpose"
   ]
  },
  {
   "cell_type": "code",
   "execution_count": 413,
   "id": "scenic-superior",
   "metadata": {},
   "outputs": [
    {
     "data": {
      "application/vnd.jupyter.widget-view+json": {
       "model_id": "25be439e59014a70a7958524e05174d4",
       "version_major": 2,
       "version_minor": 0
      },
      "text/plain": [
       "  0%|          | 0/15 [00:00<?, ?it/s]"
      ]
     },
     "metadata": {},
     "output_type": "display_data"
    }
   ],
   "source": [
    "als_model.fit(csr_data_transpose)"
   ]
  },
  {
   "cell_type": "markdown",
   "id": "breathing-offset",
   "metadata": {},
   "source": [
    "## 6. 훈련된 모델이 예측한 나의 선호도 파악\n",
    "-----\n",
    " * 내가 선호하는 5가지 영화와 그 외의 영화 하나를 골라 수행하기"
   ]
  },
  {
   "cell_type": "markdown",
   "id": "dangerous-burden",
   "metadata": {},
   "source": [
    "### 내가 선호하는 영화 5개의 선호도"
   ]
  },
  {
   "cell_type": "code",
   "execution_count": 441,
   "id": "intensive-pavilion",
   "metadata": {},
   "outputs": [
    {
     "name": "stdout",
     "output_type": "stream",
     "text": [
      "Godfather, The 0.6422356\n",
      "Matrix, The 0.55299544\n",
      "Toy Story 0.4811591\n",
      "Terminator 2: Judgment Day 0.5855664\n",
      "Gladiator 0.5992232\n"
     ]
    }
   ],
   "source": [
    "for movie in favorites5:\n",
    "    my, favorite = user_to_idx[6041], movie_to_idx[movie['title']]\n",
    "    my_vector, favorite_vector = als_model.user_factors[my], als_model.item_factors[favorite]\n",
    "    print(movie['title'], np.dot(my_vector, favorite_vector))"
   ]
  },
  {
   "cell_type": "markdown",
   "id": "pending-plant",
   "metadata": {},
   "source": [
    "### 그 외의 영화의 선호도"
   ]
  },
  {
   "cell_type": "code",
   "execution_count": 445,
   "id": "friendly-desktop",
   "metadata": {},
   "outputs": [
    {
     "data": {
      "text/plain": [
       "0.005048998"
      ]
     },
     "execution_count": 445,
     "metadata": {},
     "output_type": "execute_result"
    }
   ],
   "source": [
    "slaughterhouse = movie_to_idx['Slaughterhouse']\n",
    "slaughterhouse_vector = als_model.item_factors[slaughterhouse]\n",
    "np.dot(my_vector, slaughterhouse_vector)"
   ]
  },
  {
   "cell_type": "markdown",
   "id": "broadband-stone",
   "metadata": {},
   "source": [
    "## 7. 내가 좋아하는 영화와 비슷한 영화를 추천받기\n",
    "-----"
   ]
  },
  {
   "cell_type": "markdown",
   "id": "deadly-integer",
   "metadata": {},
   "source": [
    "### 영화제목 입력시 인덱스 반환하는 딕셔너리 생성"
   ]
  },
  {
   "cell_type": "code",
   "execution_count": 436,
   "id": "expressed-prime",
   "metadata": {},
   "outputs": [
    {
     "name": "stdout",
     "output_type": "stream",
     "text": [
      "Gladiator 67\n"
     ]
    }
   ],
   "source": [
    "idx_to_movie = {v:k for k,v in movie_to_idx.items()}\n",
    "print(idx_to_movie[67], movie_to_idx[idx_to_movie[67]])"
   ]
  },
  {
   "cell_type": "markdown",
   "id": "matched-endorsement",
   "metadata": {},
   "source": [
    "### 좋아하는 영화와 비슷한 영화를 추천"
   ]
  },
  {
   "cell_type": "code",
   "execution_count": 456,
   "id": "occupational-residence",
   "metadata": {},
   "outputs": [
    {
     "name": "stdout",
     "output_type": "stream",
     "text": [
      "The Patriot\n",
      "Mission: Impossible 2\n",
      "The Perfect Storm\n",
      "U-571\n",
      "X-Men\n",
      "Frequency\n"
     ]
    }
   ],
   "source": [
    "favorite_movie = 'Gladiator'\n",
    "movie_id = movie_to_idx[favorite_movie]\n",
    "similar_movies = als_model.similar_items(movie_id, N=15)\n",
    "\n",
    "for similar_movie in similar_movies:\n",
    "    if similar_movie[1] >= 0.4811591 and movie_id != similar_movie[0]: # 자기자신 제거 및 가장 좋아하는 영화중 내적 값이 가장 낮은 것을 기준으로 선별  \n",
    "        movie_name = idx_to_movie[similar_movie[0]]\n",
    "        if movie_name[-5:] == ', The': # The가 붙는 영화이름 올바르게 정렬\n",
    "            movie_name = movie_name[-3:] +' '+movie_name[:-5]\n",
    "        print(movie_name)"
   ]
  },
  {
   "cell_type": "markdown",
   "id": "agricultural-spain",
   "metadata": {},
   "source": [
    "> **좋아하는 영화를 선별할 때 내적 값이 0.4811591이상인 것을 선택하게 한 이유**   \n",
    "   선호하는 영화 5개중 가장 내적값이 낮은 것이 0.4811591이었기에 이것을 **좋아할 만한 영화를 걸러내는 하한선**으로 삼는다면 보다 정확한 추천이 가능할 거라는 가설을 세우고 적용하였다. "
   ]
  },
  {
   "cell_type": "markdown",
   "id": "steady-remedy",
   "metadata": {},
   "source": [
    "## 8. 내가 가장 좋아할 만한 영화들을 추천받기\n",
    "-----"
   ]
  },
  {
   "cell_type": "code",
   "execution_count": 458,
   "id": "laden-remove",
   "metadata": {
    "scrolled": true
   },
   "outputs": [
    {
     "data": {
      "text/plain": [
       "['Mission: Impossible 2',\n",
       " 'Toy Story 2',\n",
       " 'The Terminator',\n",
       " 'Jurassic Park',\n",
       " 'Total Recall',\n",
       " 'The Patriot',\n",
       " 'The Godfather: Part II',\n",
       " 'Terminator 2: Judgment Day',\n",
       " 'The Godfather: Part III',\n",
       " 'The Matrix',\n",
       " 'U-571',\n",
       " 'The Fifth Element',\n",
       " 'Face/Off',\n",
       " 'Babe',\n",
       " 'The Perfect Storm',\n",
       " 'The Fugitive',\n",
       " 'X-Men',\n",
       " 'Groundhog Day',\n",
       " 'Frequency',\n",
       " \"Bug's Life, A\",\n",
       " 'Men in Black',\n",
       " 'Aladdin']"
      ]
     },
     "execution_count": 458,
     "metadata": {},
     "output_type": "execute_result"
    }
   ],
   "source": [
    "my_favorites = []\n",
    "\n",
    "for favorite in favorites5:\n",
    "    movie_id = movie_to_idx[favorite['title']]\n",
    "    similar_movies = als_model.similar_items(movie_id, N=15)\n",
    "    # 좋아하는 영화와 비슷한 영화 추천\n",
    "    for similar_movie in similar_movies:\n",
    "        if similar_movie[1] >= 0.4811591 and movie_id != similar_movie[0]:\n",
    "            movie_name = idx_to_movie[similar_movie[0]]\n",
    "            if movie_name[-5:] == ', The': # The가 붙는 영화이름 올바르게 정렬\n",
    "                movie_name = movie_name[-3:] +' '+movie_name[:-5]\n",
    "            my_favorites.append(movie_name)\n",
    "\n",
    "my_favorites = list(set(my_favorites))\n",
    "my_favorites"
   ]
  },
  {
   "cell_type": "markdown",
   "id": "entire-jungle",
   "metadata": {},
   "source": [
    "## 9. 후기\n",
    "-----"
   ]
  },
  {
   "cell_type": "markdown",
   "id": "copyrighted-lunch",
   "metadata": {},
   "source": [
    "이번 노드를 진행하면서 가장 골치를 앓았던 부분은 csr matrix를 생성하는 부분이었다. 예제의 user_id나 artisit_id와는 달리 기본적으로 user_id와 movie_id가 정수형으로 되어 있어 별도의 변환이 불필요하다고 생각하고 그대로 진행했으나 계속 csr matrix 생성에 실패했다. csr matrix의 생성 원리를 이해하는 것부터 다시 진행하다보니 오후 시간이 전부 이 부분에 잡아먹히고 말았다. 결국 저녁에서야 예제처럼 인덱스를 부여하는 과정을 별도로 거치고 나니 이 부분은 해결되었다. 불필요하게 긴 시간동안 해맨 느낌이었지만 그외의 부분은 상대적으로 잘 진행되었기에 무사히 제출할 수 있었다. \n",
    "\n",
    "이번에 신경써서 했던 부분은 movie_id를 변경하는 부분과 좋아하는 영화를 추천하는 부분이었다. 특히 movie_id 변경은 앞서 언급한 src matrix 생성부분과 엮여있어 신경이 많이 쓰였다. 또한 영화를 추천하는 부분은 좋아하는 영화들의 내적값을 활용하여 추천의 정확성을 높이는 접근에 신경을 썼다. \n",
    "\n",
    "오늘도 노드를 하며 스트레스도 많이 받았지만 추천받은 결과를 보았을 때 유사한 장르의 영화들이 대부분이어서 보람이 있었고, 저번 해커톤때보다는 dataframe 사용에 더 익숙해진 것 같아 좋았다. 더 좋아지고 싶다."
   ]
  }
 ],
 "metadata": {
  "kernelspec": {
   "display_name": "Python 3",
   "language": "python",
   "name": "python3"
  },
  "language_info": {
   "codemirror_mode": {
    "name": "ipython",
    "version": 3
   },
   "file_extension": ".py",
   "mimetype": "text/x-python",
   "name": "python",
   "nbconvert_exporter": "python",
   "pygments_lexer": "ipython3",
   "version": "3.7.9"
  }
 },
 "nbformat": 4,
 "nbformat_minor": 5
}
