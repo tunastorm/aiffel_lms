{
 "cells": [
  {
   "cell_type": "markdown",
   "id": "silent-gothic",
   "metadata": {},
   "source": [
    "## 가위바위보_구별기\n",
    "-----"
   ]
  },
  {
   "cell_type": "markdown",
   "id": "split-motor",
   "metadata": {},
   "source": [
    "### 반복 사용되는 모듈 임포트 "
   ]
  },
  {
   "cell_type": "code",
   "execution_count": 9,
   "id": "chemical-minneapolis",
   "metadata": {},
   "outputs": [
    {
     "name": "stdout",
     "output_type": "stream",
     "text": [
      "PIL 라이브러리 import 완료!\n"
     ]
    }
   ],
   "source": [
    "from PIL import Image\n",
    "import matplotlib.pyplot as plt\n",
    "import os, glob, cv2\n",
    "\n",
    "print(\"PIL 라이브러리 import 완료!\")"
   ]
  },
  {
   "cell_type": "markdown",
   "id": "harmful-investment",
   "metadata": {},
   "source": [
    "### 가위, 바위, 보 이미지 전처리"
   ]
  },
  {
   "cell_type": "code",
   "execution_count": 52,
   "id": "defensive-blind",
   "metadata": {},
   "outputs": [],
   "source": [
    "def resize_images(img_path): \n",
    "    for folder in os.listdir(img_path):\n",
    "        if folder not in ['rock', 'scissor', 'paper']: \n",
    "            continue   \n",
    "        images=glob.glob(img_path + f\"/{folder}/*.jpg\")  \n",
    "        print(f\"{len(images)} {folder} images to be resized.\")\n",
    "        # 파일마다 모두 28x28 사이즈로 바꾸어 저장합니다.\n",
    "        target_size=(28,28)\n",
    "        for img in images:\n",
    "            old_img=cv2.imread(img,cv2.IMREAD_GRAYSCALE)\n",
    "            new_img=cv2.resize(old_img,target_size,Image.ANTIALIAS)\n",
    "            cv2.imwrite(img,new_img)\n",
    "        print(f\"{len(images)} {folder} images resized.\")"
   ]
  },
  {
   "cell_type": "code",
   "execution_count": 55,
   "id": "fabulous-providence",
   "metadata": {},
   "outputs": [
    {
     "name": "stdout",
     "output_type": "stream",
     "text": [
      "test/train 중 하나를 입력하세요train\n",
      "1108 paper images to be resized.\n",
      "1108 paper images resized.\n",
      "1105 rock images to be resized.\n",
      "1105 rock images resized.\n",
      "994 scissor images to be resized.\n",
      "994 scissor images resized.\n",
      "train 이미지 resize 완료!\n"
     ]
    }
   ],
   "source": [
    "folder_name = input(\"test/train 중 하나를 입력하세요\")\n",
    "image_dir_path = os.getenv(\"HOME\") + f\"/aiffel/rock_scissor_paper/{folder_name}\"\n",
    "resize_images(image_dir_path)\n",
    "\n",
    "print(f\"{folder_name} 이미지 resize 완료!\")"
   ]
  },
  {
   "cell_type": "markdown",
   "id": "wicked-petite",
   "metadata": {},
   "source": [
    "### 전처리된 이미지 행렬화"
   ]
  },
  {
   "cell_type": "code",
   "execution_count": 56,
   "id": "analyzed-problem",
   "metadata": {},
   "outputs": [],
   "source": [
    "import numpy as np\n",
    "\n",
    "def load_data(img_path, number_of_data=300):  # 가위바위보 이미지 개수 총합에 주의하세요.\n",
    "    # 가위 : 0, 바위 : 1, 보 : 2\n",
    "    img_size=28\n",
    "    color=1\n",
    "    #이미지 데이터와 라벨(가위 : 0, 바위 : 1, 보 : 2) 데이터를 담을 행렬(matrix) 영역을 생성합니다.\n",
    "    imgs=np.zeros(number_of_data*img_size*img_size*color,dtype=np.int32).reshape(number_of_data,img_size,img_size, color)\n",
    "    labels=np.zeros(number_of_data,dtype=np.int32)\n",
    "\n",
    "    idx=0\n",
    "    for file in glob.iglob(img_path+'/scissor/*.jpg'):\n",
    "        if idx > (number_of_data//3)-1:\n",
    "            continue\n",
    "        img = np.array(Image.open(file),dtype=np.uint8).reshape(28,28,1)\n",
    "        imgs[idx,:,:,:]=img    # 데이터 영역에 이미지 행렬을 복사\n",
    "        labels[idx]=0   # 가위 : 0\n",
    "        idx=idx+1\n",
    "        \n",
    "    for file in glob.iglob(img_path+'/rock/*.jpg'):\n",
    "        if idx > (number_of_data//3*2)-1:\n",
    "            continue\n",
    "        img = np.array(Image.open(file),dtype=np.uint8).reshape(28,28,1)\n",
    "        imgs[idx,:,:,:]=img    # 데이터 영역에 이미지 행렬을 복사\n",
    "        labels[idx]=1   # 바위 : 1\n",
    "        idx=idx+1  \n",
    "\n",
    "    for file in glob.iglob(img_path+'/paper/*.jpg'):\n",
    "        if idx > number_of_data-1:\n",
    "            continue\n",
    "        img = np.array(Image.open(file),dtype=np.uint8).reshape(28,28,1)\n",
    "        imgs[idx,:,:,:]=img    # 데이터 영역에 이미지 행렬을 복사\n",
    "        labels[idx]=2   # 보 : 2\n",
    "        idx=idx+1\n",
    "        \n",
    "    print(\"학습데이터(x_train)의 이미지 개수는\", idx,\"입니다.\")\n",
    "    return imgs, labels"
   ]
  },
  {
   "cell_type": "code",
   "execution_count": 75,
   "id": "colonial-phone",
   "metadata": {},
   "outputs": [
    {
     "name": "stdout",
     "output_type": "stream",
     "text": [
      "train/test 중 하나를 입력하세요train\n",
      "train\n",
      "학습데이터(x_train)의 이미지 개수는 3207 입니다.\n",
      "x_train shape: (3300, 28, 28, 1)\n",
      "y_train shape: (3300,)\n"
     ]
    }
   ],
   "source": [
    "folder_name = input(\"train/test 중 하나를 입력하세요\")\n",
    "image_dir_path = os.getenv(\"HOME\") + f\"/aiffel/rock_scissor_paper/{folder_name}\"\n",
    "print(folder_name)\n",
    "if folder_name == \"train\":\n",
    "    (x_train, y_train)=load_data(image_dir_path,3300)\n",
    "    x_train_norm = x_train/255.0   # 입력은 0~1 사이의 값으로 정규화\n",
    "    print(f\"x_train shape: {x_train.shape}\")\n",
    "    print(f\"y_train shape: {y_train.shape}\")\n",
    "else: \n",
    "    (x_test, y_test)=load_data(image_dir_path)\n",
    "    x_test_norm = x_test/255.0   # 입력은 0~1 사이의 값으로 정규화\n",
    "    x_train_reshaped=x_train_norm.reshape( -1, 28, 28, 1)  # 데이터갯수에 -1을 쓰면 reshape시 자동계산됩니다.\n",
    "    x_test_reshaped=x_test_norm.reshape( -1, 28, 28, 1)\n",
    "    print(f\"x_test reshaped: {x_test_reshaped.shape}\")\n",
    "    print(f\"y_test reshaped: {x_test_reshaped.shape}\")"
   ]
  },
  {
   "cell_type": "code",
   "execution_count": 59,
   "id": "ordered-course",
   "metadata": {},
   "outputs": [
    {
     "name": "stdout",
     "output_type": "stream",
     "text": [
      "Model: \"sequential\"\n",
      "_________________________________________________________________\n",
      "Layer (type)                 Output Shape              Param #   \n",
      "=================================================================\n",
      "conv2d (Conv2D)              (None, 26, 26, 16)        160       \n",
      "_________________________________________________________________\n",
      "max_pooling2d (MaxPooling2D) (None, 13, 13, 16)        0         \n",
      "_________________________________________________________________\n",
      "conv2d_1 (Conv2D)            (None, 11, 11, 32)        4640      \n",
      "_________________________________________________________________\n",
      "max_pooling2d_1 (MaxPooling2 (None, 5, 5, 32)          0         \n",
      "_________________________________________________________________\n",
      "flatten (Flatten)            (None, 800)               0         \n",
      "_________________________________________________________________\n",
      "dense (Dense)                (None, 64)                51264     \n",
      "_________________________________________________________________\n",
      "dense_1 (Dense)              (None, 10)                650       \n",
      "=================================================================\n",
      "Total params: 56,714\n",
      "Trainable params: 56,714\n",
      "Non-trainable params: 0\n",
      "_________________________________________________________________\n"
     ]
    }
   ],
   "source": [
    "import tensorflow as tf\n",
    "from tensorflow.keras.models import Sequential\n",
    "from tensorflow.keras.layers import Conv2D, MaxPool2D, MaxPooling2D, Flatten, Dense\n",
    "import numpy as np\n",
    "\n",
    "# model을 직접 만들어 보세요.\n",
    "# Hint! model의 입력/출력부에 특히 유의해 주세요. 가위바위보 데이터셋은 MNIST 데이터셋과 어떤 점이 달라졌나요?\n",
    "model = Sequential()\n",
    "model.add(Conv2D(16, (3,3), activation='relu', input_shape=(28,28,1)))\n",
    "model.add(MaxPool2D(2,2))\n",
    "model.add(Conv2D(32, (3,3), activation='relu'))\n",
    "model.add(MaxPooling2D((2,2)))\n",
    "model.add(Flatten())\n",
    "model.add(Dense(64, activation='relu'))\n",
    "model.add(Dense(10, activation='softmax'))\n",
    "\n",
    "model.summary()"
   ]
  },
  {
   "cell_type": "markdown",
   "id": "relevant-darwin",
   "metadata": {},
   "source": [
    "### 모델 학습"
   ]
  },
  {
   "cell_type": "code",
   "execution_count": 60,
   "id": "martial-mentor",
   "metadata": {},
   "outputs": [
    {
     "name": "stdout",
     "output_type": "stream",
     "text": [
      "Epoch 1/10\n",
      "110/110 [==============================] - 5s 19ms/step - loss: 1.8645 - accuracy: 0.9378\n",
      "Epoch 2/10\n",
      "110/110 [==============================] - 0s 3ms/step - loss: 0.0017 - accuracy: 0.9998\n",
      "Epoch 3/10\n",
      "110/110 [==============================] - 0s 3ms/step - loss: 1.6834e-04 - accuracy: 1.0000\n",
      "Epoch 4/10\n",
      "110/110 [==============================] - 0s 3ms/step - loss: 4.3182e-06 - accuracy: 1.0000\n",
      "Epoch 5/10\n",
      "110/110 [==============================] - 0s 3ms/step - loss: 1.1098e-06 - accuracy: 1.0000\n",
      "Epoch 6/10\n",
      "110/110 [==============================] - 0s 3ms/step - loss: 6.4206e-07 - accuracy: 1.0000\n",
      "Epoch 7/10\n",
      "110/110 [==============================] - 0s 3ms/step - loss: 6.3927e-07 - accuracy: 1.0000\n",
      "Epoch 8/10\n",
      "110/110 [==============================] - 0s 3ms/step - loss: 5.7818e-07 - accuracy: 1.0000\n",
      "Epoch 9/10\n",
      "110/110 [==============================] - 0s 3ms/step - loss: 7.8375e-07 - accuracy: 1.0000\n",
      "Epoch 10/10\n",
      "110/110 [==============================] - 0s 3ms/step - loss: 6.3255e-07 - accuracy: 1.0000\n"
     ]
    },
    {
     "data": {
      "text/plain": [
       "<tensorflow.python.keras.callbacks.History at 0x7f82ec4513d0>"
      ]
     },
     "execution_count": 60,
     "metadata": {},
     "output_type": "execute_result"
    }
   ],
   "source": [
    "# model을 학습시키는 코드를 직접 작성해 보세요.\n",
    "# Hint! model.compile()과 model.fit()을 사용해 봅시다.\n",
    "model.compile(optimizer='adam',\n",
    "             loss='sparse_categorical_crossentropy',\n",
    "             metrics=['accuracy'])\n",
    "\n",
    "model.fit(x_train, y_train, epochs=10)"
   ]
  },
  {
   "cell_type": "code",
   "execution_count": 83,
   "id": "marine-lobby",
   "metadata": {},
   "outputs": [
    {
     "name": "stdout",
     "output_type": "stream",
     "text": [
      "10/10 - 0s - loss: 2.2033 - accuracy: 0.3333\n",
      "test_loss: 2.2032649517059326\n",
      "test_accuracy: 0.3333333432674408\n"
     ]
    }
   ],
   "source": [
    "test_loss, test_accuracy = model.evaluate(x_test_reshaped, y_test, verbose=2)\n",
    "print(f'test_loss: {test_loss}')\n",
    "print(f'test_accuracy: {test_accuracy}')"
   ]
  },
  {
   "cell_type": "code",
   "execution_count": null,
   "id": "statewide-reliance",
   "metadata": {},
   "outputs": [],
   "source": []
  },
  {
   "cell_type": "code",
   "execution_count": null,
   "id": "monetary-nudist",
   "metadata": {},
   "outputs": [],
   "source": []
  },
  {
   "cell_type": "code",
   "execution_count": null,
   "id": "aboriginal-fifteen",
   "metadata": {},
   "outputs": [],
   "source": []
  },
  {
   "cell_type": "code",
   "execution_count": 58,
   "id": "advanced-colors",
   "metadata": {},
   "outputs": [
    {
     "name": "stdout",
     "output_type": "stream",
     "text": [
      "Before Reshape - x_train_norm shape: (3500, 28, 28, 1)\n"
     ]
    },
    {
     "ename": "NameError",
     "evalue": "name 'x_test_norm' is not defined",
     "output_type": "error",
     "traceback": [
      "\u001b[0;31m---------------------------------------------------------------------------\u001b[0m",
      "\u001b[0;31mNameError\u001b[0m                                 Traceback (most recent call last)",
      "\u001b[0;32m<ipython-input-58-d38483e405f1>\u001b[0m in \u001b[0;36m<module>\u001b[0;34m\u001b[0m\n\u001b[1;32m      1\u001b[0m \u001b[0mprint\u001b[0m\u001b[0;34m(\u001b[0m\u001b[0;34m\"Before Reshape - x_train_norm shape: {}\"\u001b[0m\u001b[0;34m.\u001b[0m\u001b[0mformat\u001b[0m\u001b[0;34m(\u001b[0m\u001b[0mx_train_norm\u001b[0m\u001b[0;34m.\u001b[0m\u001b[0mshape\u001b[0m\u001b[0;34m)\u001b[0m\u001b[0;34m)\u001b[0m\u001b[0;34m\u001b[0m\u001b[0;34m\u001b[0m\u001b[0m\n\u001b[0;32m----> 2\u001b[0;31m \u001b[0mprint\u001b[0m\u001b[0;34m(\u001b[0m\u001b[0;34m\"Before Reshape - x_test_norm shape: {}\"\u001b[0m\u001b[0;34m.\u001b[0m\u001b[0mformat\u001b[0m\u001b[0;34m(\u001b[0m\u001b[0mx_test_norm\u001b[0m\u001b[0;34m.\u001b[0m\u001b[0mshape\u001b[0m\u001b[0;34m)\u001b[0m\u001b[0;34m)\u001b[0m\u001b[0;34m\u001b[0m\u001b[0;34m\u001b[0m\u001b[0m\n\u001b[0m\u001b[1;32m      3\u001b[0m \u001b[0;34m\u001b[0m\u001b[0m\n\u001b[1;32m      4\u001b[0m \u001b[0mx_train_reshaped\u001b[0m\u001b[0;34m=\u001b[0m\u001b[0mx_train_norm\u001b[0m\u001b[0;34m.\u001b[0m\u001b[0mreshape\u001b[0m\u001b[0;34m(\u001b[0m \u001b[0;34m-\u001b[0m\u001b[0;36m1\u001b[0m\u001b[0;34m,\u001b[0m \u001b[0;36m28\u001b[0m\u001b[0;34m,\u001b[0m \u001b[0;36m28\u001b[0m\u001b[0;34m,\u001b[0m \u001b[0;36m1\u001b[0m\u001b[0;34m)\u001b[0m  \u001b[0;31m# 데이터갯수에 -1을 쓰면 reshape시 자동계산됩니다.\u001b[0m\u001b[0;34m\u001b[0m\u001b[0;34m\u001b[0m\u001b[0m\n\u001b[1;32m      5\u001b[0m \u001b[0mx_test_reshaped\u001b[0m\u001b[0;34m=\u001b[0m\u001b[0mx_test_norm\u001b[0m\u001b[0;34m.\u001b[0m\u001b[0mreshape\u001b[0m\u001b[0;34m(\u001b[0m \u001b[0;34m-\u001b[0m\u001b[0;36m1\u001b[0m\u001b[0;34m,\u001b[0m \u001b[0;36m28\u001b[0m\u001b[0;34m,\u001b[0m \u001b[0;36m28\u001b[0m\u001b[0;34m,\u001b[0m \u001b[0;36m1\u001b[0m\u001b[0;34m)\u001b[0m\u001b[0;34m\u001b[0m\u001b[0;34m\u001b[0m\u001b[0m\n",
      "\u001b[0;31mNameError\u001b[0m: name 'x_test_norm' is not defined"
     ]
    }
   ],
   "source": [
    "print(\"Before Reshape - x_train_norm shape: {}\".format(x_train_norm.shape))\n",
    "print(\"Before Reshape - x_test_norm shape: {}\".format(x_test_norm.shape))\n",
    "\n",
    "x_train_reshaped=x_train_norm.reshape( -1, 28, 28, 1)  # 데이터갯수에 -1을 쓰면 reshape시 자동계산됩니다.\n",
    "x_test_reshaped=x_test_norm.reshape( -1, 28, 28, 1)\n",
    "\n",
    "print(\"After Reshape - x_train_reshaped shape: {}\".format(x_train_reshaped.shape))\n",
    "print(\"After Reshape - x_test_reshaped shape: {}\".format(x_test_reshaped.shape))"
   ]
  },
  {
   "cell_type": "code",
   "execution_count": null,
   "id": "accessible-habitat",
   "metadata": {},
   "outputs": [],
   "source": [
    "import tensorflow as tf\n",
    "from tensorflow.keras.models import Sequential\n",
    "from tensorflow.keras.layers import Conv2D, MaxPool2D, MaxPooling2D, Flatten, Dense\n",
    "import numpy as np\n",
    "\n",
    "# model을 직접 만들어 보세요.\n",
    "# Hint! model의 입력/출력부에 특히 유의해 주세요. 가위바위보 데이터셋은 MNIST 데이터셋과 어떤 점이 달라졌나요?\n",
    "model = Sequential()\n",
    "model.add(Conv2D(16, (3,3), activation='relu', input_shape=(28,28,1)))\n",
    "model.add(MaxPool2D(2,2))\n",
    "model.add(Conv2D(32, (3,3), activation='relu'))\n",
    "model.add(MaxPooling2D((2,2)))\n",
    "model.add(Flatten())\n",
    "model.add(Dense(64, activation='relu'))\n",
    "model.add(Dense(10, activation='softmax'))\n",
    "\n",
    "model.summary()"
   ]
  }
 ],
 "metadata": {
  "kernelspec": {
   "display_name": "Python 3",
   "language": "python",
   "name": "python3"
  },
  "language_info": {
   "codemirror_mode": {
    "name": "ipython",
    "version": 3
   },
   "file_extension": ".py",
   "mimetype": "text/x-python",
   "name": "python",
   "nbconvert_exporter": "python",
   "pygments_lexer": "ipython3",
   "version": "3.7.9"
  }
 },
 "nbformat": 4,
 "nbformat_minor": 5
}
