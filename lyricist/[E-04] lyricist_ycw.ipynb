{
 "cells": [
  {
   "cell_type": "markdown",
   "id": "dietary-nutrition",
   "metadata": {},
   "source": [
    "## 0. 모듈 임포트\n",
    "-----"
   ]
  },
  {
   "cell_type": "code",
   "execution_count": 1,
   "id": "ranking-poster",
   "metadata": {},
   "outputs": [],
   "source": [
    "import glob, os, re\n",
    "import tensorflow as tf\n",
    "from tensorflow.keras.callbacks import ModelCheckpoint\n",
    "from sklearn.model_selection import train_test_split \n",
    "import matplotlib.pyplot as plt"
   ]
  },
  {
   "cell_type": "markdown",
   "id": "fallen-hobby",
   "metadata": {},
   "source": [
    "## 1. 데이터 읽어오기\n",
    "-----"
   ]
  },
  {
   "cell_type": "code",
   "execution_count": 2,
   "id": "conceptual-florist",
   "metadata": {},
   "outputs": [
    {
     "name": "stdout",
     "output_type": "stream",
     "text": [
      "데이터 크기: 187088\n",
      "Examples:\n",
      " ['I hear you callin\\', \"Here I come baby\"', 'To save you, oh oh', \"Baby no more stallin'\", 'These hands have been longing to touch you baby', \"And now that you've come around, to seein' it my way\", \"You won't regret it baby, and you surely won't forget it baby\", \"It's unbelieveable how your body's calling for me\"]\n"
     ]
    }
   ],
   "source": [
    "txt_file_path = os.getenv('HOME')+'/aiffel/lyricist/data/lyrics/*'\n",
    "\n",
    "txt_list = glob.glob(txt_file_path)\n",
    "\n",
    "raw_corpus = []\n",
    "\n",
    "# 여러개의 txt 파일을 모두 읽어서 raw_corpus 에 담습니다.\n",
    "for txt_file in txt_list:\n",
    "    with open(txt_file, \"r\") as f:\n",
    "        raw = f.read().splitlines()\n",
    "        raw_corpus.extend(raw)\n",
    "\n",
    "print(\"데이터 크기:\", len(raw_corpus))\n",
    "print(\"Examples:\\n\", raw_corpus[:7])"
   ]
  },
  {
   "cell_type": "markdown",
   "id": "hungarian-comfort",
   "metadata": {},
   "source": [
    "## 2. 데이터 정제\n",
    "-----"
   ]
  },
  {
   "cell_type": "code",
   "execution_count": 3,
   "id": "statutory-opinion",
   "metadata": {},
   "outputs": [
    {
     "name": "stdout",
     "output_type": "stream",
     "text": [
      "<start> this is sample sentence . <end>\n"
     ]
    }
   ],
   "source": [
    "def preprocess_sentence(sentence):\n",
    "    sentence = sentence.lower().strip() # 1\n",
    "    sentence = re.sub(r\"([?.!,¿])\", r\" \\1 \", sentence) # 2\n",
    "    sentence = re.sub(r'[\" \"]+', \" \", sentence) # 3\n",
    "    sentence = re.sub(r\"[^a-zA-Z?.!,¿]+\", \" \", sentence) # 4\n",
    "    sentence = sentence.strip() # 5\n",
    "    sentence = '<start> ' + sentence + ' <end>' # 6\n",
    "    return sentence\n",
    "\n",
    "\n",
    "print(preprocess_sentence(\"This @_is ;;;sample        sentence.\"))"
   ]
  },
  {
   "cell_type": "markdown",
   "id": "ancient-arrow",
   "metadata": {},
   "source": [
    "#### 조건 1.  토큰 개수가 15개 이상이 되면 제외한다."
   ]
  },
  {
   "cell_type": "code",
   "execution_count": 30,
   "id": "broke-butler",
   "metadata": {},
   "outputs": [
    {
     "name": "stdout",
     "output_type": "stream",
     "text": [
      "['<start> i hear you callin , here i come baby <end>', '<start> to save you , oh oh <end>', '<start> baby no more stallin <end>', '<start> these hands have been longing to touch you baby <end>', '<start> and now that you ve come around , to seein it my way <end>', '<start> it s unbelieveable how your body s calling for me <end>', '<start> my body s callin for you <end>', '<start> my body s callin for you <end>', '<start> my body s callin for you tell me , what s your desire <end>', '<start> baby your wish is my deal oh yes it is baby <end>']\n"
     ]
    },
    {
     "data": {
      "text/plain": [
       "156013"
      ]
     },
     "execution_count": 30,
     "metadata": {},
     "output_type": "execute_result"
    }
   ],
   "source": [
    "corpus = []\n",
    "\n",
    "for sentence in raw_corpus:\n",
    "    # 우리가 원하지 않는 문장은 건너뜁니다\n",
    "    if len(sentence)== 0: \n",
    "        continue\n",
    "    if sentence[-1] == \":\":\n",
    "        continue\n",
    "    # 정제\n",
    "    preprocessed_sentence = preprocess_sentence(sentence)\n",
    "    # 정제후 길이 단어수 15개 이상인 제거\n",
    "    if len(preprocessed_sentence.split()) > 15:\n",
    "        continue\n",
    "    corpus.append(preprocessed_sentence)\n",
    "        \n",
    "# 정제된 결과를 10개 확인 및 총 개수확인.\n",
    "print(corpus[:10])\n",
    "len(corpus)"
   ]
  },
  {
   "cell_type": "markdown",
   "id": "driven-horror",
   "metadata": {},
   "source": [
    "### 토큰생성\n",
    "#### 조건 2-1. 단어장 크기 12000 이상"
   ]
  },
  {
   "cell_type": "code",
   "execution_count": 5,
   "id": "miniature-abuse",
   "metadata": {},
   "outputs": [
    {
     "name": "stdout",
     "output_type": "stream",
     "text": [
      "[[  2   4 186 ...   0   0   0]\n",
      " [  2  10 588 ...   0   0   0]\n",
      " [  2  52  42 ...   0   0   0]\n",
      " ...\n",
      " [  2   4  92 ...   0   0   0]\n",
      " [  2   9 156 ...   0   0   0]\n",
      " [  2 178  16 ...   0   0   0]] <keras_preprocessing.text.Tokenizer object at 0x7f497be91590>\n"
     ]
    }
   ],
   "source": [
    "def tokenize(corpus):\n",
    "    # 12000단어를 기억할 수 있는 tokenizer를 만들며, 포함되지 못한 단어는 '<unk>'로 바꾼다.\n",
    "    tokenizer = tf.keras.preprocessing.text.Tokenizer(\n",
    "        num_words=12000, \n",
    "        filters=' ',\n",
    "        oov_token=\"<unk>\"\n",
    "    )\n",
    "    # corpus를 이용해 tokenizer 내부의 단어장을 완성한다\n",
    "    tokenizer.fit_on_texts(corpus)\n",
    "    # 준비한 tokenizer를 이용해 corpus를 Tensor로 변환한다.\n",
    "    tensor = tokenizer.texts_to_sequences(corpus)   \n",
    "    # 입력 데이터의 시퀀스 길이를 일정하게 맞춘다.\n",
    "    # 만약 시퀀스가 짧다면 문장 뒤에 패딩을 붙여 길이를 맞춰준다.\n",
    "    tensor = tf.keras.preprocessing.sequence.pad_sequences(tensor, padding='post')\n",
    "    \n",
    "    print(tensor,tokenizer)\n",
    "    return tensor, tokenizer\n",
    "\n",
    "tensor, tokenizer = tokenize(corpus)"
   ]
  },
  {
   "cell_type": "code",
   "execution_count": 6,
   "id": "behavioral-realtor",
   "metadata": {},
   "outputs": [
    {
     "name": "stdout",
     "output_type": "stream",
     "text": [
      "156013\n"
     ]
    }
   ],
   "source": [
    "print(len(tensor))"
   ]
  },
  {
   "cell_type": "code",
   "execution_count": 7,
   "id": "satisfactory-projection",
   "metadata": {},
   "outputs": [
    {
     "name": "stdout",
     "output_type": "stream",
     "text": [
      "src_input count:156013\n",
      "[  2   4 186   7 838   5  90   4  68  52   3   0   0   0]\n",
      "tgt_input count:156013\n",
      "[  4 186   7 838   5  90   4  68  52   3   0   0   0   0]\n"
     ]
    }
   ],
   "source": [
    "# 열길이 14로 변환\n",
    "tensor = tensor[:,:15]\n",
    "# tensor에서 마지막 토큰을 잘라내서 소스 문장을 생성합니다\n",
    "# 마지막 토큰은 <end>가 아니라 <pad>일 가능성이 높습니다.\n",
    "src_input = tensor[:, :-1]\n",
    "# tensor에서 <start>를 잘라내서 타겟 문장을 생성합니다.\n",
    "tgt_input = tensor[:, 1:]\n",
    "\n",
    "print(f'src_input count:{len(src_input)}')\n",
    "print(src_input[0])\n",
    "print(f'tgt_input count:{len(tgt_input)}')\n",
    "print(tgt_input[0])"
   ]
  },
  {
   "cell_type": "markdown",
   "id": "described-avatar",
   "metadata": {},
   "source": [
    "## 4. 평가 데이터셋 분리\n",
    "-----\n"
   ]
  },
  {
   "cell_type": "markdown",
   "id": "crude-dynamics",
   "metadata": {},
   "source": [
    "#### 조건 2-2. 총 데이터의 20%를 평가데이터 셋으로 사용"
   ]
  },
  {
   "cell_type": "code",
   "execution_count": 8,
   "id": "contemporary-enclosure",
   "metadata": {},
   "outputs": [
    {
     "name": "stdout",
     "output_type": "stream",
     "text": [
      "Source Train: (124810, 14)\n",
      "Target Train: (124810, 14)\n"
     ]
    }
   ],
   "source": [
    "enc_train, enc_val, dec_train, dec_val = train_test_split(src_input,tgt_input,test_size=0.2)\n",
    "\n",
    "print(\"Source Train:\", enc_train.shape)\n",
    "print(\"Target Train:\", dec_train.shape)"
   ]
  },
  {
   "cell_type": "markdown",
   "id": "hazardous-fence",
   "metadata": {},
   "source": [
    "## 5. 인공지능 만들기\n",
    "-----"
   ]
  },
  {
   "cell_type": "markdown",
   "id": "offshore-establishment",
   "metadata": {},
   "source": [
    "### 학습모델  'lyricist' 생성"
   ]
  },
  {
   "cell_type": "code",
   "execution_count": 9,
   "id": "lasting-london",
   "metadata": {},
   "outputs": [],
   "source": [
    "class TextGenerator(tf.keras.Model):\n",
    "    def __init__(self, vocab_size, embedding_size, hidden_size):\n",
    "        super().__init__()\n",
    "        \n",
    "        self.embedding = tf.keras.layers.Embedding(vocab_size, embedding_size)\n",
    "        self.rnn_1 = tf.keras.layers.LSTM(hidden_size, return_sequences=True)\n",
    "        self.rnn_2 = tf.keras.layers.LSTM(hidden_size, return_sequences=True)\n",
    "        self.linear = tf.keras.layers.Dense(vocab_size, name='lyricist')\n",
    "        \n",
    "    def call(self, x):\n",
    "        out = self.embedding(x)\n",
    "        out = self.rnn_1(out)\n",
    "        out = self.rnn_2(out)\n",
    "        out = self.linear(out)\n",
    "        \n",
    "        return out\n",
    "    \n",
    "embedding_size = 512   # 노드의 예제보다 2배 늘려주었다. \n",
    "hidden_size = 2048     # 노드의 예제보다 2배 늘려주었다. \n",
    "lyricist = TextGenerator(tokenizer.num_words + 1, embedding_size , hidden_size)"
   ]
  },
  {
   "cell_type": "markdown",
   "id": "lovely-majority",
   "metadata": {},
   "source": [
    "### lyricist가 훈련데이터 학습\n",
    "#### 조건 3. 10epoch 안에 val_loss 2.2 수준 달성하기"
   ]
  },
  {
   "cell_type": "code",
   "execution_count": 10,
   "id": "sunrise-problem",
   "metadata": {
    "scrolled": true
   },
   "outputs": [
    {
     "name": "stdout",
     "output_type": "stream",
     "text": [
      "Epoch 1/10\n",
      "976/976 [==============================] - 526s 518ms/step - loss: 3.5148 - val_loss: 2.7622\n",
      "\n",
      "Epoch 00001: val_loss improved from inf to 2.76219, saving model to my_checkpoint.ckpt\n",
      "Epoch 2/10\n",
      "976/976 [==============================] - 510s 523ms/step - loss: 2.6058 - val_loss: 2.5053\n",
      "\n",
      "Epoch 00002: val_loss improved from 2.76219 to 2.50531, saving model to my_checkpoint.ckpt\n",
      "Epoch 3/10\n",
      "976/976 [==============================] - 507s 520ms/step - loss: 2.1800 - val_loss: 2.3221\n",
      "\n",
      "Epoch 00003: val_loss improved from 2.50531 to 2.32213, saving model to my_checkpoint.ckpt\n",
      "Epoch 4/10\n",
      "976/976 [==============================] - 509s 521ms/step - loss: 1.7852 - val_loss: 2.2172\n",
      "\n",
      "Epoch 00004: val_loss improved from 2.32213 to 2.21716, saving model to my_checkpoint.ckpt\n",
      "Epoch 5/10\n",
      "976/976 [==============================] - 509s 521ms/step - loss: 1.4774 - val_loss: 2.1653\n",
      "\n",
      "Epoch 00005: val_loss improved from 2.21716 to 2.16534, saving model to my_checkpoint.ckpt\n",
      "Epoch 6/10\n",
      "976/976 [==============================] - 507s 519ms/step - loss: 1.2599 - val_loss: 2.1562\n",
      "\n",
      "Epoch 00006: val_loss improved from 2.16534 to 2.15617, saving model to my_checkpoint.ckpt\n",
      "Epoch 7/10\n",
      "976/976 [==============================] - 507s 519ms/step - loss: 1.1179 - val_loss: 2.1757\n",
      "\n",
      "Epoch 00007: val_loss did not improve from 2.15617\n",
      "Epoch 8/10\n",
      "976/976 [==============================] - 508s 520ms/step - loss: 1.0394 - val_loss: 2.2051\n",
      "\n",
      "Epoch 00008: val_loss did not improve from 2.15617\n",
      "Epoch 9/10\n",
      "976/976 [==============================] - 506s 519ms/step - loss: 1.0018 - val_loss: 2.2296\n",
      "\n",
      "Epoch 00009: val_loss did not improve from 2.15617\n",
      "Epoch 10/10\n",
      "976/976 [==============================] - 508s 520ms/step - loss: 0.9807 - val_loss: 2.2546\n",
      "\n",
      "Epoch 00010: val_loss did not improve from 2.15617\n"
     ]
    }
   ],
   "source": [
    "#Check point\n",
    "checkpoint_path = 'my_checkpoint.ckpt'\n",
    "checkpoint = ModelCheckpoint(checkpoint_path,\n",
    "                             save_weight_only=True,\n",
    "                             save_best_only=True,\n",
    "                             monitor='val_loss',\n",
    "                             verbose=1)\n",
    "\n",
    "#Loss\n",
    "loss = tf.keras.losses.SparseCategoricalCrossentropy(\n",
    "    from_logits=True, reduction='none')\n",
    "\n",
    "lyricist.compile(optimizer='adam', loss=loss)\n",
    "\n",
    "# batch_sizefmf 설정해주니 epoch당 학습하량이 약 3000에서 976로 줄어들었다.\n",
    "lyricist_hist = lyricist.fit(enc_train, dec_train, \n",
    "                             epochs=10, batch_size=128, \n",
    "                             validation_data = (enc_val, dec_val), \n",
    "                             callbacks=[checkpoint])"
   ]
  },
  {
   "cell_type": "markdown",
   "id": "understanding-tuning",
   "metadata": {},
   "source": [
    "### 학습 과정의 loss와 val_loss 시각화\n",
    "* [케라스 기초 - JuHyang](https://ju-hyang.tistory.com/28)를 참조하였다."
   ]
  },
  {
   "cell_type": "code",
   "execution_count": 12,
   "id": "consistent-soviet",
   "metadata": {},
   "outputs": [
    {
     "data": {
      "image/png": "[encoded data removed]",
      "text/plain": [
       "<Figure size 432x288 with 2 Axes>"
      ]
     },
     "metadata": {
      "needs_background": "light"
     },
     "output_type": "display_data"
    }
   ],
   "source": [
    "%matplotlib inline\n",
    "\n",
    "fig, loss_ax = plt.subplots()\n",
    "acc_ax = loss_ax.twinx()\n",
    "\n",
    "loss_ax.plot(lyricist_hist.history['loss'], 'y', marker='.', label='train loss')\n",
    "loss_ax.plot(lyricist_hist.history['val_loss'], 'r', marker='.', label='val loss')\n",
    "\n",
    "\n",
    "loss_ax.set_xlabel('epoch')\n",
    "loss_ax.set_ylabel('loss')\n",
    "\n",
    "loss_ax.legend(loc='upper left')\n",
    "\n",
    "plt.show()"
   ]
  },
  {
   "cell_type": "markdown",
   "id": "effective-memory",
   "metadata": {},
   "source": [
    "### 학습완료한 모델 저장"
   ]
  },
  {
   "cell_type": "code",
   "execution_count": 13,
   "id": "monthly-yukon",
   "metadata": {},
   "outputs": [
    {
     "data": {
      "text/plain": [
       "<tensorflow.python.training.tracking.util.CheckpointLoadStatus at 0x7f495c1efa10>"
      ]
     },
     "execution_count": 13,
     "metadata": {},
     "output_type": "execute_result"
    }
   ],
   "source": [
    "lyricist.load_weights(checkpoint_path)"
   ]
  },
  {
   "cell_type": "markdown",
   "id": "impossible-template",
   "metadata": {},
   "source": [
    "### lyricist 모델 요약 "
   ]
  },
  {
   "cell_type": "code",
   "execution_count": 14,
   "id": "sorted-preliminary",
   "metadata": {
    "scrolled": true
   },
   "outputs": [
    {
     "name": "stdout",
     "output_type": "stream",
     "text": [
      "Model: \"text_generator\"\n",
      "_________________________________________________________________\n",
      "Layer (type)                 Output Shape              Param #   \n",
      "=================================================================\n",
      "embedding (Embedding)        multiple                  6144512   \n",
      "_________________________________________________________________\n",
      "lstm (LSTM)                  multiple                  20979712  \n",
      "_________________________________________________________________\n",
      "lstm_1 (LSTM)                multiple                  33562624  \n",
      "_________________________________________________________________\n",
      "lyricist (Dense)             multiple                  24590049  \n",
      "=================================================================\n",
      "Total params: 85,276,897\n",
      "Trainable params: 85,276,897\n",
      "Non-trainable params: 0\n",
      "_________________________________________________________________\n",
      "None\n"
     ]
    }
   ],
   "source": [
    "print(lyricist.summary())"
   ]
  },
  {
   "cell_type": "markdown",
   "id": "improving-highlight",
   "metadata": {},
   "source": [
    "### lylicist 가사생성 함수"
   ]
  },
  {
   "cell_type": "code",
   "execution_count": 15,
   "id": "weighted-thickness",
   "metadata": {},
   "outputs": [],
   "source": [
    "def generate_text(lyricist, tokenizer, init_sentence=\"<start>\", max_len=14):\n",
    "    # 테스트를 위해서 입력받은 init_sentence도 텐서로 변환합니다\n",
    "    test_input = tokenizer.texts_to_sequences([init_sentence])\n",
    "    test_tensor = tf.convert_to_tensor(test_input, dtype=tf.int64)\n",
    "    end_token = tokenizer.word_index[\"<end>\"]\n",
    "\n",
    "    # 단어 하나씩 예측해 문장 생성\n",
    "    #    1. 입력받은 문장의 텐서를 입력\n",
    "    #    2. 예측된 값 중 가장 높은 확률인 word index추출\n",
    "    #    3. 2에서 예측된 word index를 문장 뒤에 결합\n",
    "    #    4. 모델이 <end>를 예측했거나, max_len에 도달했다면 문장 생성종료\n",
    "    while True:\n",
    "        # 1\n",
    "        predict = lyricist(test_tensor) \n",
    "        # 2\n",
    "        predict_word = tf.argmax(tf.nn.softmax(predict, axis=-1), axis=-1)[:, -1] \n",
    "        # 3 \n",
    "        test_tensor = tf.concat([test_tensor, tf.expand_dims(predict_word, axis=0)], axis=-1)\n",
    "        # 4\n",
    "        if predict_word.numpy()[0] == end_token: break\n",
    "        if test_tensor.shape[1] >= max_len: break\n",
    "\n",
    "    generated = \"\"\n",
    "    # tokenizer를 이용해 word index를 단어로 하나씩 변환. \n",
    "    for word_index in test_tensor[0].numpy():\n",
    "        generated += tokenizer.index_word[word_index] + \" \"\n",
    "\n",
    "    return generated"
   ]
  },
  {
   "cell_type": "markdown",
   "id": "impaired-organizer",
   "metadata": {},
   "source": [
    "### lylicist 가사 쓰기 "
   ]
  },
  {
   "cell_type": "code",
   "execution_count": 29,
   "id": "valuable-block",
   "metadata": {},
   "outputs": [
    {
     "data": {
      "text/plain": [
       "'<start> when i m with you , all i get is wild thoughts <end> '"
      ]
     },
     "execution_count": 29,
     "metadata": {},
     "output_type": "execute_result"
    }
   ],
   "source": [
    "generate_text(lyricist, tokenizer, init_sentence=\"<start> when\")"
   ]
  },
  {
   "cell_type": "markdown",
   "id": "functional-veteran",
   "metadata": {},
   "source": [
    "## 회고\n",
    "-----"
   ]
  },
  {
   "cell_type": "markdown",
   "id": "disabled-swiss",
   "metadata": {},
   "source": [
    "이번 노드를 수행하면서 처음에는 노드 예제와 다르게 붙은 추가 조건들을 이해하고 그것을 구현하는데 많은 시간을 썼다.   \n",
    "\n",
    "그 중에서도 10 epoch 안에 val_loss 2.2 수준에 도달하기 위한 반복 학습에 많은 시간을 들였는데, 처음에는 매 epoch마다 3000개 이상의 학습이 이루어져서 많은 시간이 걸렸다. 이후 fit() 메소드 호출시 batch_size를 128로 지정해주자 학습량이 약 970개 정도로 줄어 시간이 줄어들어 테스트하기 용이해졌다.\n",
    "\n",
    "또한 처음부터 val_loss가 2.2이하로 나오질 않아 여러번 수정후 재학습을 시도하였는데, val_loss를 낮추기 위해 수정한 항목은 다음과 같다.\n",
    "\n",
    "* 예제와는 다르게 dataset 객체를 생성하지 않고 train_test_split 메소드로 \n"
   ]
  },
  {
   "cell_type": "code",
   "execution_count": null,
   "id": "fifteen-elimination",
   "metadata": {},
   "outputs": [],
   "source": []
  }
 ],
 "metadata": {
  "kernelspec": {
   "display_name": "Python 3",
   "language": "python",
   "name": "python3"
  },
  "language_info": {
   "codemirror_mode": {
    "name": "ipython",
    "version": 3
   },
   "file_extension": ".py",
   "mimetype": "text/x-python",
   "name": "python",
   "nbconvert_exporter": "python",
   "pygments_lexer": "ipython3",
   "version": "3.7.9"
  }
 },
 "nbformat": 4,
 "nbformat_minor": 5
}
