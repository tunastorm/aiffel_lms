{
 "cells": [
  {
   "cell_type": "markdown",
   "id": "statutory-montana",
   "metadata": {},
   "source": [
    "## 0. 모듈 임포트\n",
    "-----"
   ]
  },
  {
   "cell_type": "code",
   "execution_count": 93,
   "id": "preceding-heater",
   "metadata": {},
   "outputs": [],
   "source": [
    "import glob, os, re\n",
    "import tensorflow as tf\n",
    "from sklearn.model_selection import train_test_split \n",
    "import matplotlib.pyplot as plt"
   ]
  },
  {
   "cell_type": "markdown",
   "id": "fresh-effects",
   "metadata": {},
   "source": [
    "## 1. 데이터 읽어오기\n",
    "-----"
   ]
  },
  {
   "cell_type": "code",
   "execution_count": 66,
   "id": "naked-honduras",
   "metadata": {},
   "outputs": [
    {
     "name": "stdout",
     "output_type": "stream",
     "text": [
      "데이터 크기: 187088\n",
      "Examples:\n",
      " ['I hear you callin\\', \"Here I come baby\"', 'To save you, oh oh', \"Baby no more stallin'\", 'These hands have been longing to touch you baby', \"And now that you've come around, to seein' it my way\", \"You won't regret it baby, and you surely won't forget it baby\", \"It's unbelieveable how your body's calling for me\"]\n"
     ]
    }
   ],
   "source": [
    "txt_file_path = os.getenv('HOME')+'/aiffel/lyricist/data/lyrics/*'\n",
    "\n",
    "txt_list = glob.glob(txt_file_path)\n",
    "\n",
    "raw_corpus = []\n",
    "\n",
    "# 여러개의 txt 파일을 모두 읽어서 raw_corpus 에 담습니다.\n",
    "for txt_file in txt_list:\n",
    "    with open(txt_file, \"r\") as f:\n",
    "        raw = f.read().splitlines()\n",
    "        raw_corpus.extend(raw)\n",
    "\n",
    "print(\"데이터 크기:\", len(raw_corpus))\n",
    "print(\"Examples:\\n\", raw_corpus[:7])"
   ]
  },
  {
   "cell_type": "markdown",
   "id": "committed-title",
   "metadata": {},
   "source": [
    "## 2. 데이터 정제\n",
    "-----"
   ]
  },
  {
   "cell_type": "code",
   "execution_count": 67,
   "id": "selective-liabilities",
   "metadata": {},
   "outputs": [
    {
     "name": "stdout",
     "output_type": "stream",
     "text": [
      "<start> this is sample sentence . <end>\n"
     ]
    }
   ],
   "source": [
    "def preprocess_sentence(sentence):\n",
    "    sentence = sentence.lower().strip() # 1\n",
    "    sentence = re.sub(r\"([?.!,¿])\", r\" \\1 \", sentence) # 2\n",
    "    sentence = re.sub(r'[\" \"]+', \" \", sentence) # 3\n",
    "    sentence = re.sub(r\"[^a-zA-Z?.!,¿]+\", \" \", sentence) # 4\n",
    "    sentence = sentence.strip() # 5\n",
    "    sentence = '<start> ' + sentence + ' <end>' # 6\n",
    "    return sentence\n",
    "\n",
    "# 이 문장이 어떻게 필터링되는지 확인해 보세요.\n",
    "print(preprocess_sentence(\"This @_is ;;;sample        sentence.\"))"
   ]
  },
  {
   "cell_type": "markdown",
   "id": "thousand-rendering",
   "metadata": {},
   "source": [
    "#### 조건 1.  토큰 개수가 15개 이상이 되면 제외한다."
   ]
  },
  {
   "cell_type": "code",
   "execution_count": 68,
   "id": "ceramic-eligibility",
   "metadata": {},
   "outputs": [
    {
     "data": {
      "text/plain": [
       "156013"
      ]
     },
     "execution_count": 68,
     "metadata": {},
     "output_type": "execute_result"
    }
   ],
   "source": [
    "corpus = []\n",
    "\n",
    "for sentence in raw_corpus:\n",
    "    # 우리가 원하지 않는 문장은 건너뜁니다\n",
    "    if len(sentence) == 0: continue\n",
    "    if sentence[-1] == \":\": continue\n",
    "    \n",
    "    # 정제를 하고 담아주세요\n",
    "    preprocessed_sentence = preprocess_sentence(sentence)\n",
    "    if len(preprocessed_sentence.split()) > 15:\n",
    "        continue\n",
    "    corpus.append(preprocessed_sentence)\n",
    "        \n",
    "# 정제된 결과를 10개만 확인해보죠\n",
    "corpus[:10]\n",
    "len(corpus)"
   ]
  },
  {
   "cell_type": "markdown",
   "id": "grateful-casino",
   "metadata": {},
   "source": [
    "### 토큰생성\n",
    "#### 조건 2-1. 단어장 크기 12000 이상"
   ]
  },
  {
   "cell_type": "code",
   "execution_count": 113,
   "id": "occupied-bulletin",
   "metadata": {},
   "outputs": [
    {
     "name": "stdout",
     "output_type": "stream",
     "text": [
      "[[  2   4 186 ...   0   0   0]\n",
      " [  2  10 588 ...   0   0   0]\n",
      " [  2  52  42 ...   0   0   0]\n",
      " ...\n",
      " [  2   4  92 ...   0   0   0]\n",
      " [  2   9 156 ...   0   0   0]\n",
      " [  2 178  16 ...   0   0   0]] <keras_preprocessing.text.Tokenizer object at 0x7f8071648c50>\n"
     ]
    }
   ],
   "source": [
    "def tokenize(corpus):\n",
    "    # 7000단어를 기억할 수 있는 tokenizer를 만들겁니다\n",
    "    # 우리는 이미 문장을 정제했으니 filters가 필요없어요\n",
    "    # 7000단어에 포함되지 못한 단어는 '<unk>'로 바꿀거에요\n",
    "    tokenizer = tf.keras.preprocessing.text.Tokenizer(\n",
    "        num_words=15000, \n",
    "        filters=' ',\n",
    "        oov_token=\"<unk>\"\n",
    "    )\n",
    "    # corpus를 이용해 tokenizer 내부의 단어장을 완성합니다\n",
    "    tokenizer.fit_on_texts(corpus)\n",
    "    # 준비한 tokenizer를 이용해 corpus를 Tensor로 변환합니다\n",
    "    tensor = tokenizer.texts_to_sequences(corpus)   \n",
    "    # 입력 데이터의 시퀀스 길이를 일정하게 맞춰줍니다\n",
    "    # 만약 시퀀스가 짧다면 문장 뒤에 패딩을 붙여 길이를 맞춰줍니다.\n",
    "    # 문장 앞에 패딩을 붙여 길이를 맞추고 싶다면 padding='pre'를 사용합니다\n",
    "    tensor = tf.keras.preprocessing.sequence.pad_sequences(tensor, padding='post')\n",
    "    \n",
    "    print(tensor,tokenizer)\n",
    "    return tensor, tokenizer\n",
    "\n",
    "tensor, tokenizer = tokenize(corpus)"
   ]
  },
  {
   "cell_type": "code",
   "execution_count": 75,
   "id": "rotary-framing",
   "metadata": {},
   "outputs": [
    {
     "name": "stdout",
     "output_type": "stream",
     "text": [
      "156013\n"
     ]
    }
   ],
   "source": [
    "print(len(tensor))"
   ]
  },
  {
   "cell_type": "code",
   "execution_count": 76,
   "id": "trained-semiconductor",
   "metadata": {},
   "outputs": [
    {
     "name": "stdout",
     "output_type": "stream",
     "text": [
      "src_input count:156013\n",
      "[  2   4 186   7 838   5  90   4  68  52   3   0   0   0]\n",
      "tgt_input count:156013\n",
      "[  4 186   7 838   5  90   4  68  52   3   0   0   0   0]\n"
     ]
    }
   ],
   "source": [
    "# 열길이 14로 변환\n",
    "tensor = tensor[:,:15]\n",
    "# tensor에서 마지막 토큰을 잘라내서 소스 문장을 생성합니다\n",
    "# 마지막 토큰은 <end>가 아니라 <pad>일 가능성이 높습니다.\n",
    "src_input = tensor[:, :-1]\n",
    "# tensor에서 <start>를 잘라내서 타겟 문장을 생성합니다.\n",
    "tgt_input = tensor[:, 1:]\n",
    "\n",
    "print(f'src_input count:{len(src_input)}')\n",
    "print(src_input[0])\n",
    "print(f'tgt_input count:{len(tgt_input)}')\n",
    "print(tgt_input[0])"
   ]
  },
  {
   "cell_type": "markdown",
   "id": "authentic-possibility",
   "metadata": {},
   "source": [
    "## 4. 평가 데이터셋 분리\n",
    "-----\n"
   ]
  },
  {
   "cell_type": "markdown",
   "id": "pacific-deployment",
   "metadata": {},
   "source": [
    "#### 조건 2-2. 총 데이터의 20%를 평가데이터 셋으로 사용"
   ]
  },
  {
   "cell_type": "code",
   "execution_count": 77,
   "id": "artificial-colors",
   "metadata": {},
   "outputs": [
    {
     "name": "stdout",
     "output_type": "stream",
     "text": [
      "Source Train: (124810, 14)\n",
      "Target Train: (124810, 14)\n"
     ]
    }
   ],
   "source": [
    "enc_train, enc_val, dec_train, dec_val = train_test_split(src_input,tgt_input,test_size=0.2)\n",
    "\n",
    "print(\"Source Train:\", enc_train.shape)\n",
    "print(\"Target Train:\", dec_train.shape)"
   ]
  },
  {
   "cell_type": "markdown",
   "id": "massive-jersey",
   "metadata": {},
   "source": [
    "## 5. 인공지능 만들기\n",
    "-----"
   ]
  },
  {
   "cell_type": "markdown",
   "id": "adequate-nerve",
   "metadata": {},
   "source": [
    "### 학습모델  'lyricist' 생성"
   ]
  },
  {
   "cell_type": "code",
   "execution_count": 91,
   "id": "executive-payment",
   "metadata": {},
   "outputs": [],
   "source": [
    "class TextGenerator(tf.keras.Model):\n",
    "    def __init__(self, vocab_size, embedding_size, hidden_size):\n",
    "        super().__init__()\n",
    "        \n",
    "        self.embedding = tf.keras.layers.Embedding(vocab_size, embedding_size)\n",
    "        self.rnn_1 = tf.keras.layers.LSTM(hidden_size, return_sequences=True)\n",
    "        self.rnn_2 = tf.keras.layers.LSTM(hidden_size, return_sequences=True)\n",
    "        self.linear = tf.keras.layers.Dense(vocab_size, name='lyricist')\n",
    "        \n",
    "    def call(self, x):\n",
    "        out = self.embedding(x)\n",
    "        out = self.rnn_1(out)\n",
    "        out = self.rnn_2(out)\n",
    "        out = self.linear(out)\n",
    "        \n",
    "        return out\n",
    "    \n",
    "embedding_size = 256\n",
    "hidden_size = 1024\n",
    "lyricist = TextGenerator(tokenizer.num_words + 1, embedding_size , hidden_size)"
   ]
  },
  {
   "cell_type": "markdown",
   "id": "damaged-transparency",
   "metadata": {},
   "source": [
    "### lyricist가 훈련데이터 학습"
   ]
  },
  {
   "cell_type": "code",
   "execution_count": 95,
   "id": "relevant-flight",
   "metadata": {},
   "outputs": [
    {
     "name": "stdout",
     "output_type": "stream",
     "text": [
      "Epoch 1/10\n",
      "3901/3901 [==============================] - 338s 86ms/step - loss: 3.1941\n",
      "Epoch 2/10\n",
      "3901/3901 [==============================] - 334s 86ms/step - loss: 2.6890\n",
      "Epoch 3/10\n",
      "3901/3901 [==============================] - 334s 86ms/step - loss: 2.3695\n",
      "Epoch 4/10\n",
      "3901/3901 [==============================] - 334s 86ms/step - loss: 2.0879\n",
      "Epoch 5/10\n",
      "3901/3901 [==============================] - 334s 86ms/step - loss: 1.8565\n",
      "Epoch 6/10\n",
      "3901/3901 [==============================] - 334s 86ms/step - loss: 1.6549\n",
      "Epoch 7/10\n",
      "3901/3901 [==============================] - 334s 86ms/step - loss: 1.4943\n",
      "Epoch 8/10\n",
      "3901/3901 [==============================] - 334s 86ms/step - loss: 1.3683\n",
      "Epoch 9/10\n",
      "3901/3901 [==============================] - 334s 86ms/step - loss: 1.2643\n",
      "Epoch 10/10\n",
      "3901/3901 [==============================] - 334s 86ms/step - loss: 1.1852\n"
     ]
    }
   ],
   "source": [
    "#Loss\n",
    "loss = tf.keras.losses.SparseCategoricalCrossentropy(\n",
    "    from_logits=True, reduction='none')\n",
    "\n",
    "lyricist.compile(optimizer='adam', loss=loss)\n",
    "\n",
    "lyricist_hist = lyricist.fit(enc_train, dec_train, epochs=10)"
   ]
  },
  {
   "cell_type": "markdown",
   "id": "indian-transfer",
   "metadata": {},
   "source": [
    "### 학습 과정의 loss와 accuracy 시각화\n",
    "* [케라스 기초 - JuHyang](https://ju-hyang.tistory.com/28)를 참조하였다."
   ]
  },
  {
   "cell_type": "code",
   "execution_count": 134,
   "id": "sorted-laugh",
   "metadata": {},
   "outputs": [
    {
     "name": "stdout",
     "output_type": "stream",
     "text": [
      "{'loss': [3.035079002380371, 2.6507110595703125, 2.3541369438171387, 2.091452121734619, 1.8688610792160034, 1.6806141138076782, 1.5244412422180176, 1.3982229232788086, 1.2984201908111572, 1.2194125652313232]}\n"
     ]
    }
   ],
   "source": [
    "print(lyricist_hist.history)"
   ]
  },
  {
   "cell_type": "code",
   "execution_count": 118,
   "id": "suffering-pound",
   "metadata": {},
   "outputs": [
    {
     "ename": "AttributeError",
     "evalue": "'History' object has no attribute 'histroy'",
     "output_type": "error",
     "traceback": [
      "\u001b[0;31m---------------------------------------------------------------------------\u001b[0m",
      "\u001b[0;31mAttributeError\u001b[0m                            Traceback (most recent call last)",
      "\u001b[0;32m<ipython-input-118-1cd9f0b48389>\u001b[0m in \u001b[0;36m<module>\u001b[0;34m\u001b[0m\n\u001b[1;32m      7\u001b[0m \u001b[0;31m#loss_ax.plot(lyricist_hist.history['val_loss'],'r',label='val loss')\u001b[0m\u001b[0;34m\u001b[0m\u001b[0;34m\u001b[0m\u001b[0;34m\u001b[0m\u001b[0m\n\u001b[1;32m      8\u001b[0m \u001b[0;34m\u001b[0m\u001b[0m\n\u001b[0;32m----> 9\u001b[0;31m \u001b[0macc_ax\u001b[0m\u001b[0;34m.\u001b[0m\u001b[0mplot\u001b[0m\u001b[0;34m(\u001b[0m\u001b[0mlyricist_hist\u001b[0m\u001b[0;34m.\u001b[0m\u001b[0mhistroy\u001b[0m\u001b[0;34m[\u001b[0m\u001b[0;34m'acc'\u001b[0m\u001b[0;34m]\u001b[0m\u001b[0;34m,\u001b[0m \u001b[0;34m'b'\u001b[0m\u001b[0;34m,\u001b[0m \u001b[0mlabel\u001b[0m\u001b[0;34m=\u001b[0m\u001b[0;34m'train acc'\u001b[0m\u001b[0;34m)\u001b[0m\u001b[0;34m\u001b[0m\u001b[0;34m\u001b[0m\u001b[0m\n\u001b[0m\u001b[1;32m     10\u001b[0m \u001b[0;31m#acc_ax.plot(lyricist_hist.histroy['val_acc'], 'g', label='val acc')\u001b[0m\u001b[0;34m\u001b[0m\u001b[0;34m\u001b[0m\u001b[0;34m\u001b[0m\u001b[0m\n\u001b[1;32m     11\u001b[0m \u001b[0;34m\u001b[0m\u001b[0m\n",
      "\u001b[0;31mAttributeError\u001b[0m: 'History' object has no attribute 'histroy'"
     ]
    },
    {
     "data": {
      "image/png": "[encoded data removed]",
      "text/plain": [
       "<Figure size 432x288 with 2 Axes>"
      ]
     },
     "metadata": {
      "needs_background": "light"
     },
     "output_type": "display_data"
    }
   ],
   "source": [
    "%matplotlib inline\n",
    "\n",
    "fig, loss_ax = plt.subplots()\n",
    "acc_ax = loss_ax.twinx()\n",
    "\n",
    "loss_ax.plot(lyricist_hist.history['loss'], 'y', label='train loss')\n",
    "#loss_ax.plot(lyricist_hist.history['val_loss'],'r',label='val loss')\n",
    "\n",
    "acc_ax.plot(lyricist_hist.histroy['acc'], 'b', label='train acc')\n",
    "#acc_ax.plot(lyricist_hist.histroy['val_acc'], 'g', label='val acc')\n",
    "\n",
    "loss_ax.set_xlabel('epoch')\n",
    "loss_ax.set_ylabel('loss')\n",
    "accax.set_ylabel('accuracy')\n",
    "\n",
    "loss_ax.legned(loc='upper left')\n",
    "acc_ax.legend(loc='lower left')\n",
    "\n",
    "plt.show()"
   ]
  },
  {
   "cell_type": "markdown",
   "id": "surrounded-jefferson",
   "metadata": {},
   "source": [
    "### lyricist 모델 요약"
   ]
  },
  {
   "cell_type": "code",
   "execution_count": 103,
   "id": "traditional-lounge",
   "metadata": {
    "scrolled": true
   },
   "outputs": [
    {
     "name": "stdout",
     "output_type": "stream",
     "text": [
      "Model: \"text_generator_4\"\n",
      "_________________________________________________________________\n",
      "Layer (type)                 Output Shape              Param #   \n",
      "=================================================================\n",
      "embedding_4 (Embedding)      multiple                  3840256   \n",
      "_________________________________________________________________\n",
      "lstm_8 (LSTM)                multiple                  5246976   \n",
      "_________________________________________________________________\n",
      "lstm_9 (LSTM)                multiple                  8392704   \n",
      "_________________________________________________________________\n",
      "lyricist (Dense)             multiple                  15376025  \n",
      "=================================================================\n",
      "Total params: 32,855,961\n",
      "Trainable params: 32,855,961\n",
      "Non-trainable params: 0\n",
      "_________________________________________________________________\n"
     ]
    }
   ],
   "source": [
    "lyricist.summary()"
   ]
  },
  {
   "cell_type": "markdown",
   "id": "sized-trade",
   "metadata": {},
   "source": [
    "### lylicist 가사생성 함수"
   ]
  },
  {
   "cell_type": "code",
   "execution_count": 121,
   "id": "major-diving",
   "metadata": {},
   "outputs": [],
   "source": [
    "def generate_text(lyricist, tokenizer, init_sentence=\"<start>\", max_len=14):\n",
    "    # 테스트를 위해서 입력받은 init_sentence도 텐서로 변환합니다\n",
    "    test_input = tokenizer.texts_to_sequences([init_sentence])\n",
    "    test_tensor = tf.convert_to_tensor(test_input, dtype=tf.int64)\n",
    "    end_token = tokenizer.word_index[\"<end>\"]\n",
    "\n",
    "    # 단어 하나씩 예측해 문장을 만듭니다\n",
    "    #    1. 입력받은 문장의 텐서를 입력합니다\n",
    "    #    2. 예측된 값 중 가장 높은 확률인 word index를 뽑아냅니다\n",
    "    #    3. 2에서 예측된 word index를 문장 뒤에 붙입니다\n",
    "    #    4. 모델이 <end>를 예측했거나, max_len에 도달했다면 문장 생성을 마칩니다\n",
    "    while True:\n",
    "        # 1\n",
    "        predict = lyricist(test_tensor) \n",
    "        # 2\n",
    "        predict_word = tf.argmax(tf.nn.softmax(predict, axis=-1), axis=-1)[:, -1] \n",
    "        # 3 \n",
    "        test_tensor = tf.concat([test_tensor, tf.expand_dims(predict_word, axis=0)], axis=-1)\n",
    "        # 4\n",
    "        if predict_word.numpy()[0] == end_token: break\n",
    "        if test_tensor.shape[1] >= max_len: break\n",
    "\n",
    "    generated = \"\"\n",
    "    # tokenizer를 이용해 word index를 단어로 하나씩 변환합니다 \n",
    "    for word_index in test_tensor[0].numpy():\n",
    "        generated += tokenizer.index_word[word_index] + \" \"\n",
    "\n",
    "    return generated"
   ]
  },
  {
   "cell_type": "markdown",
   "id": "rotary-deposit",
   "metadata": {},
   "source": [
    "### lylicist 데뷔 "
   ]
  },
  {
   "cell_type": "code",
   "execution_count": 135,
   "id": "necessary-superintendent",
   "metadata": {},
   "outputs": [
    {
     "data": {
      "text/plain": [
       "'<start> you know i m never gonna leave you <end> '"
      ]
     },
     "execution_count": 135,
     "metadata": {},
     "output_type": "execute_result"
    }
   ],
   "source": [
    "generate_text(lyricist, tokenizer, init_sentence=\"<start> you\")"
   ]
  },
  {
   "cell_type": "code",
   "execution_count": null,
   "id": "cultural-implementation",
   "metadata": {},
   "outputs": [],
   "source": []
  }
 ],
 "metadata": {
  "kernelspec": {
   "display_name": "Python 3",
   "language": "python",
   "name": "python3"
  },
  "language_info": {
   "codemirror_mode": {
    "name": "ipython",
    "version": 3
   },
   "file_extension": ".py",
   "mimetype": "text/x-python",
   "name": "python",
   "nbconvert_exporter": "python",
   "pygments_lexer": "ipython3",
   "version": "3.7.9"
  }
 },
 "nbformat": 4,
 "nbformat_minor": 5
}
